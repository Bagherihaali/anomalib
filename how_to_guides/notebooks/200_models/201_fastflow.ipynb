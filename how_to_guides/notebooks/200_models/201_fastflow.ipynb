{
 "cells": [
  {
   "attachments": {},
   "cell_type": "markdown",
   "metadata": {},
   "source": [
    "## Setting up the Working Directory\n",
    "This cell is to ensure we change the directory to anomalib source code to have access to the datasets and config files. We assume that you already went through `001_getting_started.ipynb` and install the required packages."
   ]
  },
  {
   "cell_type": "code",
   "execution_count": 1,
   "metadata": {
    "execution": {
     "iopub.execute_input": "2023-02-28T16:58:57.848513Z",
     "iopub.status.busy": "2023-02-28T16:58:57.847571Z",
     "iopub.status.idle": "2023-02-28T16:58:57.925426Z",
     "shell.execute_reply": "2023-02-28T16:58:57.924208Z"
    }
   },
   "outputs": [],
   "source": [
    "import os\n",
    "from functools import partial, update_wrapper\n",
    "from pathlib import Path\n",
    "from types import MethodType\n",
    "from typing import Any\n",
    "\n",
    "from git.repo import Repo\n",
    "\n",
    "current_directory = Path.cwd()\n",
    "if current_directory.name == \"200_models\":\n",
    "    # On the assumption that, the notebook is located in\n",
    "    #   ~/anomalib/notebooks/100_datamodules/\n",
    "    root_directory = current_directory.parent.parent\n",
    "elif current_directory.name == \"anomalib\":\n",
    "    # This means that the notebook is run from the main anomalib directory.\n",
    "    root_directory = current_directory\n",
    "else:\n",
    "    # Otherwise, we'll need to clone the anomalib repo to the `current_directory`\n",
    "    repo = Repo.clone_from(url=\"https://github.com/openvinotoolkit/anomalib.git\", to_path=current_directory)\n",
    "    root_directory = current_directory / \"anomalib\"\n",
    "\n",
    "os.chdir(root_directory)\n",
    "dataset_root = root_directory / \"datasets\" / \"MVTec\""
   ]
  },
  {
   "cell_type": "markdown",
   "metadata": {
    "pycharm": {
     "name": "#%% md\n"
    }
   },
   "source": [
    "# Train a Model via API\n",
    "\n",
    "This notebook demonstrates how to train, test and infer the FastFlow model via Anomalib API. Compared to the CLI entrypoints such as \\`tools/\\<train, test, inference>.py, the API offers more flexibility such as modifying the existing model or designing custom approaches.\n",
    "\n",
    "## Imports"
   ]
  },
  {
   "cell_type": "code",
   "execution_count": 2,
   "metadata": {
    "execution": {
     "iopub.execute_input": "2023-02-28T16:58:57.931727Z",
     "iopub.status.busy": "2023-02-28T16:58:57.931296Z",
     "iopub.status.idle": "2023-02-28T16:59:01.445324Z",
     "shell.execute_reply": "2023-02-28T16:59:01.444089Z"
    },
    "pycharm": {
     "name": "#%%\n"
    }
   },
   "outputs": [
    {
     "name": "stderr",
     "output_type": "stream",
     "text": [
      "/home/user/conda/lib/python3.8/site-packages/tqdm/auto.py:22: TqdmWarning: IProgress not found. Please update jupyter and ipywidgets. See https://ipywidgets.readthedocs.io/en/stable/user_install.html\n",
      "  from .autonotebook import tqdm as notebook_tqdm\n"
     ]
    }
   ],
   "source": [
    "from matplotlib import pyplot as plt\n",
    "from pytorch_lightning import LightningModule, Trainer\n",
    "from pytorch_lightning.callbacks import EarlyStopping, ModelCheckpoint\n",
    "from torch.optim import Optimizer\n",
    "from torch.optim.adam import Adam\n",
    "from torch.utils.data import DataLoader\n",
    "\n",
    "from anomalib.data import InferenceDataset, TaskType\n",
    "from anomalib.data.mvtec import MVTec\n",
    "from anomalib.models.fastflow.lightning_model import Fastflow\n",
    "from anomalib.post_processing import (\n",
    "    NormalizationMethod,\n",
    "    ThresholdMethod,\n",
    "    superimpose_anomaly_map,\n",
    ")\n",
    "from anomalib.pre_processing.transforms import Denormalize\n",
    "from anomalib.utils.callbacks import (\n",
    "    ImageVisualizerCallback,\n",
    "    MetricsConfigurationCallback,\n",
    "    MetricVisualizerCallback,\n",
    "    PostProcessingConfigurationCallback,\n",
    ")"
   ]
  },
  {
   "attachments": {},
   "cell_type": "markdown",
   "metadata": {
    "pycharm": {
     "name": "#%% md\n"
    }
   },
   "source": [
    "## Data Module\n",
    "\n",
    "To train the model end-to-end, we do need to have a dataset. In our [previous notebooks](https://github.com/openvinotoolkit/anomalib/tree/main/notebooks/100_datamodules), we demonstrate how to initialize benchmark- and custom datasets. In this tutorial, we will use MVTec AD DataModule. We assume that `datasets` directory is created in the `anomalib` root directory and `MVTec` dataset is located in `datasets` directory.\n",
    "\n",
    "Before creating the dataset, let's define the task type that we will be working on. In this notebook, we will be working on a segmentation task. Therefore the `task` variable would be:"
   ]
  },
  {
   "cell_type": "code",
   "execution_count": 3,
   "metadata": {
    "execution": {
     "iopub.execute_input": "2023-02-28T16:59:01.452297Z",
     "iopub.status.busy": "2023-02-28T16:59:01.451673Z",
     "iopub.status.idle": "2023-02-28T16:59:01.456906Z",
     "shell.execute_reply": "2023-02-28T16:59:01.455822Z"
    }
   },
   "outputs": [],
   "source": [
    "task = TaskType.SEGMENTATION"
   ]
  },
  {
   "cell_type": "code",
   "execution_count": 4,
   "metadata": {
    "execution": {
     "iopub.execute_input": "2023-02-28T16:59:01.462847Z",
     "iopub.status.busy": "2023-02-28T16:59:01.462161Z",
     "iopub.status.idle": "2023-02-28T16:59:02.483977Z",
     "shell.execute_reply": "2023-02-28T16:59:02.482641Z"
    },
    "pycharm": {
     "name": "#%%\n"
    }
   },
   "outputs": [
    {
     "name": "stdout",
     "output_type": "stream",
     "text": [
      "Image Shape: torch.Size([32, 3, 256, 256]) Mask Shape: torch.Size([32, 256, 256])\n"
     ]
    }
   ],
   "source": [
    "datamodule = MVTec(\n",
    "    root=dataset_root,\n",
    "    category=\"bottle\",\n",
    "    image_size=256,\n",
    "    train_batch_size=32,\n",
    "    eval_batch_size=32,\n",
    "    num_workers=8,\n",
    "    task=task,\n",
    ")\n",
    "datamodule.setup()\n",
    "i, data = next(enumerate(datamodule.test_dataloader()))\n",
    "print(f'Image Shape: {data[\"image\"].shape} Mask Shape: {data[\"mask\"].shape}')"
   ]
  },
  {
   "cell_type": "markdown",
   "metadata": {
    "pycharm": {
     "name": "#%% md\n"
    }
   },
   "source": [
    "## FastFlow Model\n",
    "\n",
    "Now that we have created the MVTec datamodule, we could create the FastFlow model. We could start with printing its docstring."
   ]
  },
  {
   "cell_type": "code",
   "execution_count": 5,
   "metadata": {
    "execution": {
     "iopub.execute_input": "2023-02-28T16:59:02.490969Z",
     "iopub.status.busy": "2023-02-28T16:59:02.490287Z",
     "iopub.status.idle": "2023-02-28T16:59:02.567156Z",
     "shell.execute_reply": "2023-02-28T16:59:02.566121Z"
    },
    "pycharm": {
     "name": "#%%\n"
    }
   },
   "outputs": [],
   "source": [
    "Fastflow??"
   ]
  },
  {
   "cell_type": "code",
   "execution_count": 6,
   "metadata": {
    "execution": {
     "iopub.execute_input": "2023-02-28T16:59:02.573048Z",
     "iopub.status.busy": "2023-02-28T16:59:02.572731Z",
     "iopub.status.idle": "2023-02-28T16:59:02.926236Z",
     "shell.execute_reply": "2023-02-28T16:59:02.925505Z"
    },
    "pycharm": {
     "name": "#%%\n"
    }
   },
   "outputs": [
    {
     "name": "stderr",
     "output_type": "stream",
     "text": [
      "/home/user/conda/lib/python3.8/site-packages/torchmetrics/utilities/prints.py:36: DeprecationWarning: From v0.10 an `'Binary*'`, `'Multiclass*', `'Multilabel*'` version now exist of each classification metric. Moving forward we recommend using these versions. This base metric will still work as it did prior to v0.10 until v0.11. From v0.11 the `task` argument introduced in this metric will be required and the general order of arguments may change, such that this metric will just function as an single entrypoint to calling the three specialized versions.\n",
      "  warnings.warn(*args, **kwargs)\n",
      "/home/user/conda/lib/python3.8/site-packages/torchmetrics/utilities/prints.py:36: UserWarning: Metric `PrecisionRecallCurve` will save all targets and predictions in buffer. For large datasets this may lead to large memory footprint.\n",
      "  warnings.warn(*args, **kwargs)\n"
     ]
    }
   ],
   "source": [
    "model = Fastflow(input_size=(256, 256), backbone=\"resnet18\", flow_steps=8)"
   ]
  },
  {
   "cell_type": "markdown",
   "metadata": {
    "pycharm": {
     "name": "#%% md\n"
    }
   },
   "source": [
    "Depending on the `training` mode, `model` returns two different outputs. If the model is in `training` mode, it returns the hidden variable and the log of the jacobian, based on the feature maps."
   ]
  },
  {
   "cell_type": "code",
   "execution_count": 7,
   "metadata": {
    "execution": {
     "iopub.execute_input": "2023-02-28T16:59:02.929538Z",
     "iopub.status.busy": "2023-02-28T16:59:02.929225Z",
     "iopub.status.idle": "2023-02-28T16:59:03.816933Z",
     "shell.execute_reply": "2023-02-28T16:59:03.815622Z"
    },
    "pycharm": {
     "name": "#%%\n"
    }
   },
   "outputs": [
    {
     "name": "stdout",
     "output_type": "stream",
     "text": [
      "Hidden Variable Shape: torch.Size([32, 64, 64, 64])\n"
     ]
    }
   ],
   "source": [
    "model.training = True\n",
    "train_output = model(data[\"image\"])\n",
    "hidden_variables, log_jacobian = train_output\n",
    "print(f\"Hidden Variable Shape: {hidden_variables[0].shape}\")"
   ]
  },
  {
   "cell_type": "markdown",
   "metadata": {
    "pycharm": {
     "name": "#%% md\n"
    }
   },
   "source": [
    "During the test/inference mode, the model returns an anomaly heatmap localizing the anomalous regions."
   ]
  },
  {
   "cell_type": "code",
   "execution_count": 8,
   "metadata": {
    "execution": {
     "iopub.execute_input": "2023-02-28T16:59:03.819902Z",
     "iopub.status.busy": "2023-02-28T16:59:03.819599Z",
     "iopub.status.idle": "2023-02-28T16:59:04.667394Z",
     "shell.execute_reply": "2023-02-28T16:59:04.666485Z"
    },
    "pycharm": {
     "name": "#%%\n"
    }
   },
   "outputs": [
    {
     "name": "stdout",
     "output_type": "stream",
     "text": [
      "Anomaly Map Shape: torch.Size([32, 1, 256, 256])\n"
     ]
    }
   ],
   "source": [
    "model.model.training = False\n",
    "anomaly_map = model(data[\"image\"])\n",
    "print(f\"Anomaly Map Shape: {anomaly_map.shape}\")"
   ]
  },
  {
   "cell_type": "markdown",
   "metadata": {
    "pycharm": {
     "name": "#%% md\n"
    }
   },
   "source": [
    "## Optimizer\n",
    "\n",
    "`LightningModule` has `configure_optimizer` method that returns the optimizer object. This is not implemented in the FastFlow model. Instead, it is left to the user to make it configurable by either CLI or API. Here we will be configuring it via the API. To do so, we first need to create the optimizer object, wrap it around a function and finally inject this function into the model class."
   ]
  },
  {
   "cell_type": "code",
   "execution_count": 9,
   "metadata": {
    "execution": {
     "iopub.execute_input": "2023-02-28T16:59:04.670717Z",
     "iopub.status.busy": "2023-02-28T16:59:04.670388Z",
     "iopub.status.idle": "2023-02-28T16:59:04.676250Z",
     "shell.execute_reply": "2023-02-28T16:59:04.675725Z"
    },
    "pycharm": {
     "name": "#%%\n"
    }
   },
   "outputs": [],
   "source": [
    "def configure_optimizers(lightning_module: LightningModule, optimizer: Optimizer) -> Any:  # pylint: disable=W0613,W0621\n",
    "    \"\"\"Override to customize the LightningModule.configure_optimizers` method.\"\"\"\n",
    "    return optimizer\n",
    "\n",
    "\n",
    "optimizer = Adam(params=model.parameters(), lr=0.001, betas=(0.9, 0.999), weight_decay=1e-5)\n",
    "fn = partial(configure_optimizers, optimizer=optimizer)\n",
    "update_wrapper(fn, configure_optimizers)  # necessary for `is_overridden`\n",
    "model.configure_optimizers = MethodType(fn, model)"
   ]
  },
  {
   "cell_type": "markdown",
   "metadata": {
    "pycharm": {
     "name": "#%% md\n"
    }
   },
   "source": [
    "## Callbacks\n",
    "\n",
    "To train the model properly, we will to add some other \"non-essential\" logic such as saving the weights, early-stopping, normalizing the anomaly scores and visualizing the input/output images. To achieve these we use `Callbacks`. Anomalib has its own callbacks and also supports PyTorch Lightning's native callbacks. So, let's create the list of callbacks we want to execute during the training."
   ]
  },
  {
   "cell_type": "code",
   "execution_count": 10,
   "metadata": {
    "execution": {
     "iopub.execute_input": "2023-02-28T16:59:04.678876Z",
     "iopub.status.busy": "2023-02-28T16:59:04.678457Z",
     "iopub.status.idle": "2023-02-28T16:59:04.683615Z",
     "shell.execute_reply": "2023-02-28T16:59:04.683037Z"
    },
    "pycharm": {
     "name": "#%%\n"
    }
   },
   "outputs": [],
   "source": [
    "callbacks = [\n",
    "    MetricsConfigurationCallback(\n",
    "        task=task,\n",
    "        image_metrics=[\"AUROC\"],\n",
    "        pixel_metrics=[\"AUROC\"],\n",
    "    ),\n",
    "    ModelCheckpoint(\n",
    "        mode=\"max\",\n",
    "        monitor=\"pixel_AUROC\",\n",
    "    ),\n",
    "    EarlyStopping(\n",
    "        monitor=\"pixel_AUROC\",\n",
    "        mode=\"max\",\n",
    "        patience=3,\n",
    "    ),\n",
    "    PostProcessingConfigurationCallback(\n",
    "        normalization_method=NormalizationMethod.MIN_MAX,\n",
    "        threshold_method=ThresholdMethod.ADAPTIVE,\n",
    "    ),\n",
    "    ImageVisualizerCallback(mode=\"full\", task=task, image_save_path=\"./results/images\"),\n",
    "    MetricVisualizerCallback(mode=\"full\", task=task, image_save_path=\"./results/images\"),\n",
    "]"
   ]
  },
  {
   "cell_type": "markdown",
   "metadata": {
    "pycharm": {
     "name": "#%% md\n"
    }
   },
   "source": [
    "## Training\n",
    "\n",
    "Now that we set up the datamodule, model, optimizer and the callbacks, we could now train the model.\n",
    "\n",
    "The final component to train the model is `pytorch_lightning` `Trainer` object, which handles train/test/predict pipeline. Let's create the trainer object to train the model."
   ]
  },
  {
   "cell_type": "code",
   "execution_count": 11,
   "metadata": {
    "execution": {
     "iopub.execute_input": "2023-02-28T16:59:04.686567Z",
     "iopub.status.busy": "2023-02-28T16:59:04.686226Z",
     "iopub.status.idle": "2023-02-28T16:59:04.787429Z",
     "shell.execute_reply": "2023-02-28T16:59:04.786482Z"
    },
    "pycharm": {
     "name": "#%%\n"
    }
   },
   "outputs": [
    {
     "name": "stderr",
     "output_type": "stream",
     "text": [
      "GPU available: True (cuda), used: True\n"
     ]
    },
    {
     "name": "stderr",
     "output_type": "stream",
     "text": [
      "TPU available: False, using: 0 TPU cores\n"
     ]
    },
    {
     "name": "stderr",
     "output_type": "stream",
     "text": [
      "IPU available: False, using: 0 IPUs\n"
     ]
    },
    {
     "name": "stderr",
     "output_type": "stream",
     "text": [
      "HPU available: False, using: 0 HPUs\n"
     ]
    }
   ],
   "source": [
    "trainer = Trainer(\n",
    "    callbacks=callbacks,\n",
    "    accelerator=\"auto\",  # \\<\"cpu\", \"gpu\", \"tpu\", \"ipu\", \"hpu\", \"auto\">,\n",
    "    devices=1,\n",
    "    max_epochs=100,\n",
    ")"
   ]
  },
  {
   "cell_type": "markdown",
   "metadata": {
    "pycharm": {
     "name": "#%% md\n"
    }
   },
   "source": [
    "`Trainer` object has number of options that suit all specific needs. For more details, refer to [Lightning Documentation](https://pytorch-lightning.readthedocs.io/en/stable/common/trainer.html) to see how it could be tweaked to your needs.\n",
    "\n",
    "Let's train the model now."
   ]
  },
  {
   "cell_type": "code",
   "execution_count": 12,
   "metadata": {
    "execution": {
     "iopub.execute_input": "2023-02-28T16:59:04.793393Z",
     "iopub.status.busy": "2023-02-28T16:59:04.793024Z",
     "iopub.status.idle": "2023-02-28T17:00:41.424341Z",
     "shell.execute_reply": "2023-02-28T17:00:41.422519Z"
    },
    "pycharm": {
     "name": "#%%\n"
    }
   },
   "outputs": [
    {
     "name": "stderr",
     "output_type": "stream",
     "text": [
      "Missing logger folder: /home/user/actions-runner/_work/anomalib/anomalib/lightning_logs\n"
     ]
    },
    {
     "name": "stderr",
     "output_type": "stream",
     "text": [
      "/home/user/conda/lib/python3.8/site-packages/torchmetrics/utilities/prints.py:36: UserWarning: Metric `ROC` will save all targets and predictions in buffer. For large datasets this may lead to large memory footprint.\n",
      "  warnings.warn(*args, **kwargs)\n"
     ]
    },
    {
     "name": "stderr",
     "output_type": "stream",
     "text": [
      "LOCAL_RANK: 0 - CUDA_VISIBLE_DEVICES: [3]\n"
     ]
    },
    {
     "name": "stderr",
     "output_type": "stream",
     "text": [
      "\n",
      "  | Name            | Type                     | Params\n",
      "-------------------------------------------------------------\n",
      "0 | image_threshold | AnomalyScoreThreshold    | 0     \n",
      "1 | pixel_threshold | AnomalyScoreThreshold    | 0     \n",
      "2 | model           | FastflowModel            | 7.7 M \n",
      "3 | loss            | FastflowLoss             | 0     \n",
      "4 | image_metrics   | AnomalibMetricCollection | 0     \n",
      "5 | pixel_metrics   | AnomalibMetricCollection | 0     \n",
      "-------------------------------------------------------------\n",
      "3.5 M     Trainable params\n",
      "4.2 M     Non-trainable params\n",
      "7.7 M     Total params\n",
      "30.678    Total estimated model params size (MB)\n"
     ]
    },
    {
     "name": "stderr",
     "output_type": "stream",
     "text": [
      "/home/user/conda/lib/python3.8/site-packages/torch/utils/tensorboard/__init__.py:4: DeprecationWarning: distutils Version classes are deprecated. Use packaging.version instead.\n",
      "  if not hasattr(tensorboard, \"__version__\") or LooseVersion(\n"
     ]
    },
    {
     "name": "stdout",
     "output_type": "stream",
     "text": [
      "\r",
      "Sanity Checking: 0it [00:00, ?it/s]"
     ]
    },
    {
     "name": "stdout",
     "output_type": "stream",
     "text": [
      "\r",
      "Sanity Checking:   0%|          | 0/2 [00:00<?, ?it/s]"
     ]
    },
    {
     "name": "stdout",
     "output_type": "stream",
     "text": [
      "\r",
      "Sanity Checking DataLoader 0:   0%|          | 0/2 [00:00<?, ?it/s]"
     ]
    },
    {
     "name": "stdout",
     "output_type": "stream",
     "text": [
      "\r",
      "Sanity Checking DataLoader 0:  50%|█████     | 1/2 [00:00<00:00,  3.33it/s]"
     ]
    },
    {
     "name": "stdout",
     "output_type": "stream",
     "text": [
      "\r",
      "Sanity Checking DataLoader 0: 100%|██████████| 2/2 [00:00<00:00,  5.08it/s]"
     ]
    },
    {
     "name": "stdout",
     "output_type": "stream",
     "text": [
      "\r",
      "                                                                           "
     ]
    },
    {
     "name": "stderr",
     "output_type": "stream",
     "text": [
      "/home/user/conda/lib/python3.8/site-packages/torchmetrics/utilities/prints.py:36: DeprecationWarning: `torchmetrics.functional.auc` has been move to `torchmetrics.utilities.compute` in v0.10 and will be removed in v0.11.\n",
      "  warnings.warn(*args, **kwargs)\n",
      "/home/user/conda/lib/python3.8/site-packages/pytorch_lightning/trainer/trainer.py:1600: PossibleUserWarning: The number of training batches (7) is smaller than the logging interval Trainer(log_every_n_steps=50). Set a lower value for log_every_n_steps if you want to see logs for the training epoch.\n",
      "  rank_zero_warn(\n"
     ]
    },
    {
     "name": "stdout",
     "output_type": "stream",
     "text": [
      "\r"
     ]
    },
    {
     "name": "stdout",
     "output_type": "stream",
     "text": [
      "\r",
      "Training: 0it [00:00, ?it/s]"
     ]
    },
    {
     "name": "stdout",
     "output_type": "stream",
     "text": [
      "\r",
      "Training:   0%|          | 0/10 [00:00<?, ?it/s]"
     ]
    },
    {
     "name": "stdout",
     "output_type": "stream",
     "text": [
      "\r",
      "Epoch 0:   0%|          | 0/10 [00:00<?, ?it/s] "
     ]
    },
    {
     "name": "stdout",
     "output_type": "stream",
     "text": [
      "\r",
      "Epoch 0:  10%|█         | 1/10 [00:01<00:17,  1.94s/it]"
     ]
    },
    {
     "name": "stdout",
     "output_type": "stream",
     "text": [
      "\r",
      "Epoch 0:  10%|█         | 1/10 [00:01<00:17,  1.94s/it, loss=2.37e+05, v_num=0, train_loss_step=2.37e+5]"
     ]
    },
    {
     "name": "stdout",
     "output_type": "stream",
     "text": [
      "\r",
      "Epoch 0:  20%|██        | 2/10 [00:02<00:08,  1.03s/it, loss=2.37e+05, v_num=0, train_loss_step=2.37e+5]"
     ]
    },
    {
     "name": "stdout",
     "output_type": "stream",
     "text": [
      "\r",
      "Epoch 0:  20%|██        | 2/10 [00:02<00:08,  1.03s/it, loss=2.22e+05, v_num=0, train_loss_step=2.07e+5]"
     ]
    },
    {
     "name": "stderr",
     "output_type": "stream",
     "text": [
      "/home/user/conda/lib/python3.8/site-packages/pytorch_lightning/utilities/data.py:84: UserWarning: Trying to infer the `batch_size` from an ambiguous collection. The batch size we found is 32. To avoid any miscalculations, use `self.log(..., batch_size=batch_size)`.\n",
      "  warning_cache.warn(\n"
     ]
    },
    {
     "name": "stdout",
     "output_type": "stream",
     "text": [
      "\r",
      "Epoch 0:  30%|███       | 3/10 [00:02<00:05,  1.37it/s, loss=2.22e+05, v_num=0, train_loss_step=2.07e+5]"
     ]
    },
    {
     "name": "stdout",
     "output_type": "stream",
     "text": [
      "\r",
      "Epoch 0:  30%|███       | 3/10 [00:02<00:05,  1.37it/s, loss=2.09e+05, v_num=0, train_loss_step=1.84e+5]"
     ]
    },
    {
     "name": "stdout",
     "output_type": "stream",
     "text": [
      "\r",
      "Epoch 0:  40%|████      | 4/10 [00:02<00:03,  1.73it/s, loss=2.09e+05, v_num=0, train_loss_step=1.84e+5]"
     ]
    },
    {
     "name": "stdout",
     "output_type": "stream",
     "text": [
      "\r",
      "Epoch 0:  40%|████      | 4/10 [00:02<00:03,  1.73it/s, loss=1.98e+05, v_num=0, train_loss_step=1.63e+5]"
     ]
    },
    {
     "name": "stdout",
     "output_type": "stream",
     "text": [
      "\r",
      "Epoch 0:  50%|█████     | 5/10 [00:02<00:02,  2.05it/s, loss=1.98e+05, v_num=0, train_loss_step=1.63e+5]"
     ]
    },
    {
     "name": "stdout",
     "output_type": "stream",
     "text": [
      "\r",
      "Epoch 0:  50%|█████     | 5/10 [00:02<00:02,  2.05it/s, loss=1.87e+05, v_num=0, train_loss_step=1.45e+5]"
     ]
    },
    {
     "name": "stdout",
     "output_type": "stream",
     "text": [
      "\r",
      "Epoch 0:  60%|██████    | 6/10 [00:02<00:01,  2.35it/s, loss=1.87e+05, v_num=0, train_loss_step=1.45e+5]"
     ]
    },
    {
     "name": "stdout",
     "output_type": "stream",
     "text": [
      "\r",
      "Epoch 0:  60%|██████    | 6/10 [00:02<00:01,  2.34it/s, loss=1.77e+05, v_num=0, train_loss_step=1.27e+5]"
     ]
    },
    {
     "name": "stdout",
     "output_type": "stream",
     "text": [
      "\r",
      "Epoch 0:  70%|███████   | 7/10 [00:02<00:01,  2.63it/s, loss=1.77e+05, v_num=0, train_loss_step=1.27e+5]"
     ]
    },
    {
     "name": "stdout",
     "output_type": "stream",
     "text": [
      "\r",
      "Epoch 0:  70%|███████   | 7/10 [00:02<00:01,  2.63it/s, loss=1.68e+05, v_num=0, train_loss_step=1.11e+5]"
     ]
    },
    {
     "name": "stderr",
     "output_type": "stream",
     "text": [
      "/home/user/conda/lib/python3.8/site-packages/pytorch_lightning/utilities/data.py:84: UserWarning: Trying to infer the `batch_size` from an ambiguous collection. The batch size we found is 17. To avoid any miscalculations, use `self.log(..., batch_size=batch_size)`.\n",
      "  warning_cache.warn(\n"
     ]
    },
    {
     "name": "stdout",
     "output_type": "stream",
     "text": [
      "\n"
     ]
    },
    {
     "name": "stdout",
     "output_type": "stream",
     "text": [
      "\r",
      "Validation: 0it [00:00, ?it/s]"
     ]
    },
    {
     "name": "stdout",
     "output_type": "stream",
     "text": [
      "\u001b[A"
     ]
    },
    {
     "name": "stdout",
     "output_type": "stream",
     "text": [
      "\n"
     ]
    },
    {
     "name": "stdout",
     "output_type": "stream",
     "text": [
      "\r",
      "Validation:   0%|          | 0/3 [00:00<?, ?it/s]"
     ]
    },
    {
     "name": "stdout",
     "output_type": "stream",
     "text": [
      "\u001b[A"
     ]
    },
    {
     "name": "stdout",
     "output_type": "stream",
     "text": [
      "\n"
     ]
    },
    {
     "name": "stdout",
     "output_type": "stream",
     "text": [
      "\r",
      "Validation DataLoader 0:   0%|          | 0/3 [00:00<?, ?it/s]"
     ]
    },
    {
     "name": "stdout",
     "output_type": "stream",
     "text": [
      "\u001b[A"
     ]
    },
    {
     "name": "stdout",
     "output_type": "stream",
     "text": [
      "\n"
     ]
    },
    {
     "name": "stdout",
     "output_type": "stream",
     "text": [
      "\r",
      "Validation DataLoader 0:  33%|███▎      | 1/3 [00:00<00:00, 11.48it/s]"
     ]
    },
    {
     "name": "stdout",
     "output_type": "stream",
     "text": [
      "\u001b[A"
     ]
    },
    {
     "name": "stdout",
     "output_type": "stream",
     "text": [
      "\r",
      "Epoch 0:  80%|████████  | 8/10 [00:04<00:01,  1.72it/s, loss=1.68e+05, v_num=0, train_loss_step=1.11e+5]"
     ]
    },
    {
     "name": "stdout",
     "output_type": "stream",
     "text": [
      "\n"
     ]
    },
    {
     "name": "stdout",
     "output_type": "stream",
     "text": [
      "\r",
      "Validation DataLoader 0:  67%|██████▋   | 2/3 [00:00<00:00, 10.94it/s]"
     ]
    },
    {
     "name": "stdout",
     "output_type": "stream",
     "text": [
      "\u001b[A"
     ]
    },
    {
     "name": "stdout",
     "output_type": "stream",
     "text": [
      "\r",
      "Epoch 0:  90%|█████████ | 9/10 [00:04<00:00,  1.90it/s, loss=1.68e+05, v_num=0, train_loss_step=1.11e+5]"
     ]
    },
    {
     "name": "stdout",
     "output_type": "stream",
     "text": [
      "\n"
     ]
    },
    {
     "name": "stdout",
     "output_type": "stream",
     "text": [
      "\r",
      "Validation DataLoader 0: 100%|██████████| 3/3 [00:00<00:00, 11.76it/s]"
     ]
    },
    {
     "name": "stdout",
     "output_type": "stream",
     "text": [
      "\u001b[A"
     ]
    },
    {
     "name": "stdout",
     "output_type": "stream",
     "text": [
      "\r",
      "Epoch 0: 100%|██████████| 10/10 [00:04<00:00,  2.08it/s, loss=1.68e+05, v_num=0, train_loss_step=1.11e+5]"
     ]
    },
    {
     "name": "stdout",
     "output_type": "stream",
     "text": [
      "\r",
      "Epoch 0: 100%|██████████| 10/10 [00:05<00:00,  1.81it/s, loss=1.68e+05, v_num=0, train_loss_step=1.11e+5, pixel_AUROC=0.810]"
     ]
    },
    {
     "name": "stdout",
     "output_type": "stream",
     "text": [
      "\n"
     ]
    },
    {
     "name": "stdout",
     "output_type": "stream",
     "text": [
      "\r",
      "                                                                      "
     ]
    },
    {
     "name": "stdout",
     "output_type": "stream",
     "text": [
      "\u001b[A"
     ]
    },
    {
     "name": "stdout",
     "output_type": "stream",
     "text": [
      "\r",
      "Epoch 0: 100%|██████████| 10/10 [00:05<00:00,  1.80it/s, loss=1.68e+05, v_num=0, train_loss_step=1.11e+5, pixel_AUROC=0.810, train_loss_epoch=1.72e+5]"
     ]
    },
    {
     "name": "stdout",
     "output_type": "stream",
     "text": [
      "\r",
      "Epoch 0:   0%|          | 0/10 [00:00<?, ?it/s, loss=1.68e+05, v_num=0, train_loss_step=1.11e+5, pixel_AUROC=0.810, train_loss_epoch=1.72e+5]         "
     ]
    },
    {
     "name": "stdout",
     "output_type": "stream",
     "text": [
      "\r",
      "Epoch 1:   0%|          | 0/10 [00:00<?, ?it/s, loss=1.68e+05, v_num=0, train_loss_step=1.11e+5, pixel_AUROC=0.810, train_loss_epoch=1.72e+5]"
     ]
    },
    {
     "name": "stdout",
     "output_type": "stream",
     "text": [
      "\r",
      "Epoch 1:  10%|█         | 1/10 [00:02<00:21,  2.34s/it, loss=1.68e+05, v_num=0, train_loss_step=1.11e+5, pixel_AUROC=0.810, train_loss_epoch=1.72e+5]"
     ]
    },
    {
     "name": "stdout",
     "output_type": "stream",
     "text": [
      "\r",
      "Epoch 1:  10%|█         | 1/10 [00:02<00:21,  2.34s/it, loss=1.59e+05, v_num=0, train_loss_step=9.58e+4, pixel_AUROC=0.810, train_loss_epoch=1.72e+5]"
     ]
    },
    {
     "name": "stdout",
     "output_type": "stream",
     "text": [
      "\r",
      "Epoch 1:  20%|██        | 2/10 [00:02<00:09,  1.24s/it, loss=1.59e+05, v_num=0, train_loss_step=9.58e+4, pixel_AUROC=0.810, train_loss_epoch=1.72e+5]"
     ]
    },
    {
     "name": "stdout",
     "output_type": "stream",
     "text": [
      "\r",
      "Epoch 1:  20%|██        | 2/10 [00:02<00:09,  1.24s/it, loss=1.5e+05, v_num=0, train_loss_step=8.06e+4, pixel_AUROC=0.810, train_loss_epoch=1.72e+5] "
     ]
    },
    {
     "name": "stdout",
     "output_type": "stream",
     "text": [
      "\r",
      "Epoch 1:  30%|███       | 3/10 [00:02<00:06,  1.15it/s, loss=1.5e+05, v_num=0, train_loss_step=8.06e+4, pixel_AUROC=0.810, train_loss_epoch=1.72e+5]"
     ]
    },
    {
     "name": "stdout",
     "output_type": "stream",
     "text": [
      "\r",
      "Epoch 1:  30%|███       | 3/10 [00:02<00:06,  1.15it/s, loss=1.42e+05, v_num=0, train_loss_step=6.42e+4, pixel_AUROC=0.810, train_loss_epoch=1.72e+5]"
     ]
    },
    {
     "name": "stdout",
     "output_type": "stream",
     "text": [
      "\r",
      "Epoch 1:  40%|████      | 4/10 [00:02<00:04,  1.47it/s, loss=1.42e+05, v_num=0, train_loss_step=6.42e+4, pixel_AUROC=0.810, train_loss_epoch=1.72e+5]"
     ]
    },
    {
     "name": "stdout",
     "output_type": "stream",
     "text": [
      "\r",
      "Epoch 1:  40%|████      | 4/10 [00:02<00:04,  1.47it/s, loss=1.33e+05, v_num=0, train_loss_step=4.93e+4, pixel_AUROC=0.810, train_loss_epoch=1.72e+5]"
     ]
    },
    {
     "name": "stdout",
     "output_type": "stream",
     "text": [
      "\r",
      "Epoch 1:  50%|█████     | 5/10 [00:02<00:02,  1.75it/s, loss=1.33e+05, v_num=0, train_loss_step=4.93e+4, pixel_AUROC=0.810, train_loss_epoch=1.72e+5]"
     ]
    },
    {
     "name": "stdout",
     "output_type": "stream",
     "text": [
      "\r",
      "Epoch 1:  50%|█████     | 5/10 [00:02<00:02,  1.75it/s, loss=1.25e+05, v_num=0, train_loss_step=3.4e+4, pixel_AUROC=0.810, train_loss_epoch=1.72e+5] "
     ]
    },
    {
     "name": "stdout",
     "output_type": "stream",
     "text": [
      "\r",
      "Epoch 1:  60%|██████    | 6/10 [00:02<00:01,  2.01it/s, loss=1.25e+05, v_num=0, train_loss_step=3.4e+4, pixel_AUROC=0.810, train_loss_epoch=1.72e+5]"
     ]
    },
    {
     "name": "stdout",
     "output_type": "stream",
     "text": [
      "\r",
      "Epoch 1:  60%|██████    | 6/10 [00:02<00:01,  2.01it/s, loss=1.17e+05, v_num=0, train_loss_step=1.9e+4, pixel_AUROC=0.810, train_loss_epoch=1.72e+5]"
     ]
    },
    {
     "name": "stdout",
     "output_type": "stream",
     "text": [
      "\r",
      "Epoch 1:  70%|███████   | 7/10 [00:03<00:01,  2.27it/s, loss=1.17e+05, v_num=0, train_loss_step=1.9e+4, pixel_AUROC=0.810, train_loss_epoch=1.72e+5]"
     ]
    },
    {
     "name": "stdout",
     "output_type": "stream",
     "text": [
      "\r",
      "Epoch 1:  70%|███████   | 7/10 [00:03<00:01,  2.27it/s, loss=1.09e+05, v_num=0, train_loss_step=2.87e+3, pixel_AUROC=0.810, train_loss_epoch=1.72e+5]"
     ]
    },
    {
     "name": "stdout",
     "output_type": "stream",
     "text": [
      "\n"
     ]
    },
    {
     "name": "stdout",
     "output_type": "stream",
     "text": [
      "\r",
      "Validation: 0it [00:00, ?it/s]"
     ]
    },
    {
     "name": "stdout",
     "output_type": "stream",
     "text": [
      "\u001b[A"
     ]
    },
    {
     "name": "stdout",
     "output_type": "stream",
     "text": [
      "\n"
     ]
    },
    {
     "name": "stdout",
     "output_type": "stream",
     "text": [
      "\r",
      "Validation:   0%|          | 0/3 [00:00<?, ?it/s]"
     ]
    },
    {
     "name": "stdout",
     "output_type": "stream",
     "text": [
      "\u001b[A"
     ]
    },
    {
     "name": "stdout",
     "output_type": "stream",
     "text": [
      "\n"
     ]
    },
    {
     "name": "stdout",
     "output_type": "stream",
     "text": [
      "\r",
      "Validation DataLoader 0:   0%|          | 0/3 [00:00<?, ?it/s]"
     ]
    },
    {
     "name": "stdout",
     "output_type": "stream",
     "text": [
      "\u001b[A"
     ]
    },
    {
     "name": "stdout",
     "output_type": "stream",
     "text": [
      "\n"
     ]
    },
    {
     "name": "stdout",
     "output_type": "stream",
     "text": [
      "\r",
      "Validation DataLoader 0:  33%|███▎      | 1/3 [00:00<00:00, 11.60it/s]"
     ]
    },
    {
     "name": "stdout",
     "output_type": "stream",
     "text": [
      "\u001b[A"
     ]
    },
    {
     "name": "stdout",
     "output_type": "stream",
     "text": [
      "\r",
      "Epoch 1:  80%|████████  | 8/10 [00:05<00:01,  1.56it/s, loss=1.09e+05, v_num=0, train_loss_step=2.87e+3, pixel_AUROC=0.810, train_loss_epoch=1.72e+5]"
     ]
    },
    {
     "name": "stdout",
     "output_type": "stream",
     "text": [
      "\n"
     ]
    },
    {
     "name": "stdout",
     "output_type": "stream",
     "text": [
      "\r",
      "Validation DataLoader 0:  67%|██████▋   | 2/3 [00:00<00:00, 10.12it/s]"
     ]
    },
    {
     "name": "stdout",
     "output_type": "stream",
     "text": [
      "\u001b[A"
     ]
    },
    {
     "name": "stdout",
     "output_type": "stream",
     "text": [
      "\r",
      "Epoch 1:  90%|█████████ | 9/10 [00:05<00:00,  1.71it/s, loss=1.09e+05, v_num=0, train_loss_step=2.87e+3, pixel_AUROC=0.810, train_loss_epoch=1.72e+5]"
     ]
    },
    {
     "name": "stdout",
     "output_type": "stream",
     "text": [
      "\n"
     ]
    },
    {
     "name": "stdout",
     "output_type": "stream",
     "text": [
      "\r",
      "Validation DataLoader 0: 100%|██████████| 3/3 [00:00<00:00, 11.34it/s]"
     ]
    },
    {
     "name": "stdout",
     "output_type": "stream",
     "text": [
      "\u001b[A"
     ]
    },
    {
     "name": "stdout",
     "output_type": "stream",
     "text": [
      "\r",
      "Epoch 1: 100%|██████████| 10/10 [00:05<00:00,  1.88it/s, loss=1.09e+05, v_num=0, train_loss_step=2.87e+3, pixel_AUROC=0.810, train_loss_epoch=1.72e+5]"
     ]
    },
    {
     "name": "stdout",
     "output_type": "stream",
     "text": [
      "\r",
      "Epoch 1: 100%|██████████| 10/10 [00:06<00:00,  1.66it/s, loss=1.09e+05, v_num=0, train_loss_step=2.87e+3, pixel_AUROC=0.892, train_loss_epoch=1.72e+5]"
     ]
    },
    {
     "name": "stdout",
     "output_type": "stream",
     "text": [
      "\n"
     ]
    },
    {
     "name": "stdout",
     "output_type": "stream",
     "text": [
      "\r",
      "                                                                      "
     ]
    },
    {
     "name": "stdout",
     "output_type": "stream",
     "text": [
      "\u001b[A"
     ]
    },
    {
     "name": "stdout",
     "output_type": "stream",
     "text": [
      "\r",
      "Epoch 1: 100%|██████████| 10/10 [00:06<00:00,  1.66it/s, loss=1.09e+05, v_num=0, train_loss_step=2.87e+3, pixel_AUROC=0.892, train_loss_epoch=5.27e+4]"
     ]
    },
    {
     "name": "stdout",
     "output_type": "stream",
     "text": [
      "\r",
      "Epoch 1:   0%|          | 0/10 [00:00<?, ?it/s, loss=1.09e+05, v_num=0, train_loss_step=2.87e+3, pixel_AUROC=0.892, train_loss_epoch=5.27e+4]         "
     ]
    },
    {
     "name": "stdout",
     "output_type": "stream",
     "text": [
      "\r",
      "Epoch 2:   0%|          | 0/10 [00:00<?, ?it/s, loss=1.09e+05, v_num=0, train_loss_step=2.87e+3, pixel_AUROC=0.892, train_loss_epoch=5.27e+4]"
     ]
    },
    {
     "name": "stdout",
     "output_type": "stream",
     "text": [
      "\r",
      "Epoch 2:  10%|█         | 1/10 [00:02<00:19,  2.16s/it, loss=1.09e+05, v_num=0, train_loss_step=2.87e+3, pixel_AUROC=0.892, train_loss_epoch=5.27e+4]"
     ]
    },
    {
     "name": "stdout",
     "output_type": "stream",
     "text": [
      "\r",
      "Epoch 2:  10%|█         | 1/10 [00:02<00:19,  2.17s/it, loss=1.01e+05, v_num=0, train_loss_step=-1.07e+4, pixel_AUROC=0.892, train_loss_epoch=5.27e+4]"
     ]
    },
    {
     "name": "stdout",
     "output_type": "stream",
     "text": [
      "\r",
      "Epoch 2:  20%|██        | 2/10 [00:02<00:09,  1.15s/it, loss=1.01e+05, v_num=0, train_loss_step=-1.07e+4, pixel_AUROC=0.892, train_loss_epoch=5.27e+4]"
     ]
    },
    {
     "name": "stdout",
     "output_type": "stream",
     "text": [
      "\r",
      "Epoch 2:  20%|██        | 2/10 [00:02<00:09,  1.15s/it, loss=9.28e+04, v_num=0, train_loss_step=-2.44e+4, pixel_AUROC=0.892, train_loss_epoch=5.27e+4]"
     ]
    },
    {
     "name": "stdout",
     "output_type": "stream",
     "text": [
      "\r",
      "Epoch 2:  30%|███       | 3/10 [00:02<00:05,  1.24it/s, loss=9.28e+04, v_num=0, train_loss_step=-2.44e+4, pixel_AUROC=0.892, train_loss_epoch=5.27e+4]"
     ]
    },
    {
     "name": "stdout",
     "output_type": "stream",
     "text": [
      "\r",
      "Epoch 2:  30%|███       | 3/10 [00:02<00:05,  1.24it/s, loss=8.53e+04, v_num=0, train_loss_step=-3.58e+4, pixel_AUROC=0.892, train_loss_epoch=5.27e+4]"
     ]
    },
    {
     "name": "stdout",
     "output_type": "stream",
     "text": [
      "\r",
      "Epoch 2:  40%|████      | 4/10 [00:02<00:03,  1.57it/s, loss=8.53e+04, v_num=0, train_loss_step=-3.58e+4, pixel_AUROC=0.892, train_loss_epoch=5.27e+4]"
     ]
    },
    {
     "name": "stdout",
     "output_type": "stream",
     "text": [
      "\r",
      "Epoch 2:  40%|████      | 4/10 [00:02<00:03,  1.57it/s, loss=7.79e+04, v_num=0, train_loss_step=-4.8e+4, pixel_AUROC=0.892, train_loss_epoch=5.27e+4] "
     ]
    },
    {
     "name": "stdout",
     "output_type": "stream",
     "text": [
      "\r",
      "Epoch 2:  50%|█████     | 5/10 [00:02<00:02,  1.88it/s, loss=7.79e+04, v_num=0, train_loss_step=-4.8e+4, pixel_AUROC=0.892, train_loss_epoch=5.27e+4]"
     ]
    },
    {
     "name": "stdout",
     "output_type": "stream",
     "text": [
      "\r",
      "Epoch 2:  50%|█████     | 5/10 [00:02<00:02,  1.88it/s, loss=7.05e+04, v_num=0, train_loss_step=-6.19e+4, pixel_AUROC=0.892, train_loss_epoch=5.27e+4]"
     ]
    },
    {
     "name": "stdout",
     "output_type": "stream",
     "text": [
      "\r",
      "Epoch 2:  60%|██████    | 6/10 [00:02<00:01,  2.16it/s, loss=7.05e+04, v_num=0, train_loss_step=-6.19e+4, pixel_AUROC=0.892, train_loss_epoch=5.27e+4]"
     ]
    },
    {
     "name": "stdout",
     "output_type": "stream",
     "text": [
      "\r",
      "Epoch 2:  60%|██████    | 6/10 [00:02<00:01,  2.15it/s, loss=6.34e+04, v_num=0, train_loss_step=-7.17e+4, pixel_AUROC=0.892, train_loss_epoch=5.27e+4]"
     ]
    },
    {
     "name": "stdout",
     "output_type": "stream",
     "text": [
      "\r",
      "Epoch 2:  70%|███████   | 7/10 [00:02<00:01,  2.43it/s, loss=6.34e+04, v_num=0, train_loss_step=-7.17e+4, pixel_AUROC=0.892, train_loss_epoch=5.27e+4]"
     ]
    },
    {
     "name": "stdout",
     "output_type": "stream",
     "text": [
      "\r",
      "Epoch 2:  70%|███████   | 7/10 [00:02<00:01,  2.43it/s, loss=4.73e+04, v_num=0, train_loss_step=-8.51e+4, pixel_AUROC=0.892, train_loss_epoch=5.27e+4]"
     ]
    },
    {
     "name": "stdout",
     "output_type": "stream",
     "text": [
      "\n"
     ]
    },
    {
     "name": "stdout",
     "output_type": "stream",
     "text": [
      "\r",
      "Validation: 0it [00:00, ?it/s]"
     ]
    },
    {
     "name": "stdout",
     "output_type": "stream",
     "text": [
      "\u001b[A"
     ]
    },
    {
     "name": "stdout",
     "output_type": "stream",
     "text": [
      "\n"
     ]
    },
    {
     "name": "stdout",
     "output_type": "stream",
     "text": [
      "\r",
      "Validation:   0%|          | 0/3 [00:00<?, ?it/s]"
     ]
    },
    {
     "name": "stdout",
     "output_type": "stream",
     "text": [
      "\u001b[A"
     ]
    },
    {
     "name": "stdout",
     "output_type": "stream",
     "text": [
      "\n"
     ]
    },
    {
     "name": "stdout",
     "output_type": "stream",
     "text": [
      "\r",
      "Validation DataLoader 0:   0%|          | 0/3 [00:00<?, ?it/s]"
     ]
    },
    {
     "name": "stdout",
     "output_type": "stream",
     "text": [
      "\u001b[A"
     ]
    },
    {
     "name": "stdout",
     "output_type": "stream",
     "text": [
      "\n"
     ]
    },
    {
     "name": "stdout",
     "output_type": "stream",
     "text": [
      "\r",
      "Validation DataLoader 0:  33%|███▎      | 1/3 [00:00<00:00, 11.87it/s]"
     ]
    },
    {
     "name": "stdout",
     "output_type": "stream",
     "text": [
      "\u001b[A"
     ]
    },
    {
     "name": "stdout",
     "output_type": "stream",
     "text": [
      "\r",
      "Epoch 2:  80%|████████  | 8/10 [00:04<00:01,  1.62it/s, loss=4.73e+04, v_num=0, train_loss_step=-8.51e+4, pixel_AUROC=0.892, train_loss_epoch=5.27e+4]"
     ]
    },
    {
     "name": "stdout",
     "output_type": "stream",
     "text": [
      "\n"
     ]
    },
    {
     "name": "stdout",
     "output_type": "stream",
     "text": [
      "\r",
      "Validation DataLoader 0:  67%|██████▋   | 2/3 [00:00<00:00, 10.75it/s]"
     ]
    },
    {
     "name": "stdout",
     "output_type": "stream",
     "text": [
      "\u001b[A"
     ]
    },
    {
     "name": "stdout",
     "output_type": "stream",
     "text": [
      "\r",
      "Epoch 2:  90%|█████████ | 9/10 [00:05<00:00,  1.79it/s, loss=4.73e+04, v_num=0, train_loss_step=-8.51e+4, pixel_AUROC=0.892, train_loss_epoch=5.27e+4]"
     ]
    },
    {
     "name": "stdout",
     "output_type": "stream",
     "text": [
      "\n"
     ]
    },
    {
     "name": "stdout",
     "output_type": "stream",
     "text": [
      "\r",
      "Validation DataLoader 0: 100%|██████████| 3/3 [00:00<00:00, 11.86it/s]"
     ]
    },
    {
     "name": "stdout",
     "output_type": "stream",
     "text": [
      "\u001b[A"
     ]
    },
    {
     "name": "stdout",
     "output_type": "stream",
     "text": [
      "\r",
      "Epoch 2: 100%|██████████| 10/10 [00:05<00:00,  1.96it/s, loss=4.73e+04, v_num=0, train_loss_step=-8.51e+4, pixel_AUROC=0.892, train_loss_epoch=5.27e+4]"
     ]
    },
    {
     "name": "stdout",
     "output_type": "stream",
     "text": [
      "\r",
      "Epoch 2: 100%|██████████| 10/10 [00:05<00:00,  1.72it/s, loss=4.73e+04, v_num=0, train_loss_step=-8.51e+4, pixel_AUROC=0.934, train_loss_epoch=5.27e+4]"
     ]
    },
    {
     "name": "stdout",
     "output_type": "stream",
     "text": [
      "\n"
     ]
    },
    {
     "name": "stdout",
     "output_type": "stream",
     "text": [
      "\r",
      "                                                                      "
     ]
    },
    {
     "name": "stdout",
     "output_type": "stream",
     "text": [
      "\u001b[A"
     ]
    },
    {
     "name": "stdout",
     "output_type": "stream",
     "text": [
      "\r",
      "Epoch 2: 100%|██████████| 10/10 [00:05<00:00,  1.72it/s, loss=4.73e+04, v_num=0, train_loss_step=-8.51e+4, pixel_AUROC=0.934, train_loss_epoch=-4.56e+4]"
     ]
    },
    {
     "name": "stdout",
     "output_type": "stream",
     "text": [
      "\r",
      "Epoch 2:   0%|          | 0/10 [00:00<?, ?it/s, loss=4.73e+04, v_num=0, train_loss_step=-8.51e+4, pixel_AUROC=0.934, train_loss_epoch=-4.56e+4]         "
     ]
    },
    {
     "name": "stdout",
     "output_type": "stream",
     "text": [
      "\r",
      "Epoch 3:   0%|          | 0/10 [00:00<?, ?it/s, loss=4.73e+04, v_num=0, train_loss_step=-8.51e+4, pixel_AUROC=0.934, train_loss_epoch=-4.56e+4]"
     ]
    },
    {
     "name": "stdout",
     "output_type": "stream",
     "text": [
      "\r",
      "Epoch 3:  10%|█         | 1/10 [00:02<00:19,  2.15s/it, loss=4.73e+04, v_num=0, train_loss_step=-8.51e+4, pixel_AUROC=0.934, train_loss_epoch=-4.56e+4]"
     ]
    },
    {
     "name": "stdout",
     "output_type": "stream",
     "text": [
      "\r",
      "Epoch 3:  10%|█         | 1/10 [00:02<00:19,  2.16s/it, loss=3.21e+04, v_num=0, train_loss_step=-9.65e+4, pixel_AUROC=0.934, train_loss_epoch=-4.56e+4]"
     ]
    },
    {
     "name": "stdout",
     "output_type": "stream",
     "text": [
      "\r",
      "Epoch 3:  20%|██        | 2/10 [00:02<00:09,  1.14s/it, loss=3.21e+04, v_num=0, train_loss_step=-9.65e+4, pixel_AUROC=0.934, train_loss_epoch=-4.56e+4]"
     ]
    },
    {
     "name": "stdout",
     "output_type": "stream",
     "text": [
      "\r",
      "Epoch 3:  20%|██        | 2/10 [00:02<00:09,  1.14s/it, loss=1.77e+04, v_num=0, train_loss_step=-1.05e+5, pixel_AUROC=0.934, train_loss_epoch=-4.56e+4]"
     ]
    },
    {
     "name": "stdout",
     "output_type": "stream",
     "text": [
      "\r",
      "Epoch 3:  30%|███       | 3/10 [00:02<00:05,  1.25it/s, loss=1.77e+04, v_num=0, train_loss_step=-1.05e+5, pixel_AUROC=0.934, train_loss_epoch=-4.56e+4]"
     ]
    },
    {
     "name": "stdout",
     "output_type": "stream",
     "text": [
      "\r",
      "Epoch 3:  30%|███       | 3/10 [00:02<00:05,  1.25it/s, loss=3.77e+03, v_num=0, train_loss_step=-1.15e+5, pixel_AUROC=0.934, train_loss_epoch=-4.56e+4]"
     ]
    },
    {
     "name": "stdout",
     "output_type": "stream",
     "text": [
      "\r",
      "Epoch 3:  40%|████      | 4/10 [00:02<00:03,  1.58it/s, loss=3.77e+03, v_num=0, train_loss_step=-1.15e+5, pixel_AUROC=0.934, train_loss_epoch=-4.56e+4]"
     ]
    },
    {
     "name": "stdout",
     "output_type": "stream",
     "text": [
      "\r",
      "Epoch 3:  40%|████      | 4/10 [00:02<00:03,  1.58it/s, loss=-9.64e+03, v_num=0, train_loss_step=-1.23e+5, pixel_AUROC=0.934, train_loss_epoch=-4.56e+4]"
     ]
    },
    {
     "name": "stdout",
     "output_type": "stream",
     "text": [
      "\r",
      "Epoch 3:  50%|█████     | 5/10 [00:02<00:02,  1.88it/s, loss=-9.64e+03, v_num=0, train_loss_step=-1.23e+5, pixel_AUROC=0.934, train_loss_epoch=-4.56e+4]"
     ]
    },
    {
     "name": "stdout",
     "output_type": "stream",
     "text": [
      "\r",
      "Epoch 3:  50%|█████     | 5/10 [00:02<00:02,  1.88it/s, loss=-2.25e+04, v_num=0, train_loss_step=-1.31e+5, pixel_AUROC=0.934, train_loss_epoch=-4.56e+4]"
     ]
    },
    {
     "name": "stdout",
     "output_type": "stream",
     "text": [
      "\r",
      "Epoch 3:  60%|██████    | 6/10 [00:02<00:01,  2.16it/s, loss=-2.25e+04, v_num=0, train_loss_step=-1.31e+5, pixel_AUROC=0.934, train_loss_epoch=-4.56e+4]"
     ]
    },
    {
     "name": "stdout",
     "output_type": "stream",
     "text": [
      "\r",
      "Epoch 3:  60%|██████    | 6/10 [00:02<00:01,  2.16it/s, loss=-3.49e+04, v_num=0, train_loss_step=-1.36e+5, pixel_AUROC=0.934, train_loss_epoch=-4.56e+4]"
     ]
    },
    {
     "name": "stdout",
     "output_type": "stream",
     "text": [
      "\r",
      "Epoch 3:  70%|███████   | 7/10 [00:02<00:01,  2.43it/s, loss=-3.49e+04, v_num=0, train_loss_step=-1.36e+5, pixel_AUROC=0.934, train_loss_epoch=-4.56e+4]"
     ]
    },
    {
     "name": "stdout",
     "output_type": "stream",
     "text": [
      "\r",
      "Epoch 3:  70%|███████   | 7/10 [00:02<00:01,  2.43it/s, loss=-4.71e+04, v_num=0, train_loss_step=-1.48e+5, pixel_AUROC=0.934, train_loss_epoch=-4.56e+4]"
     ]
    },
    {
     "name": "stdout",
     "output_type": "stream",
     "text": [
      "\n"
     ]
    },
    {
     "name": "stdout",
     "output_type": "stream",
     "text": [
      "\r",
      "Validation: 0it [00:00, ?it/s]"
     ]
    },
    {
     "name": "stdout",
     "output_type": "stream",
     "text": [
      "\u001b[A"
     ]
    },
    {
     "name": "stdout",
     "output_type": "stream",
     "text": [
      "\n"
     ]
    },
    {
     "name": "stdout",
     "output_type": "stream",
     "text": [
      "\r",
      "Validation:   0%|          | 0/3 [00:00<?, ?it/s]"
     ]
    },
    {
     "name": "stdout",
     "output_type": "stream",
     "text": [
      "\u001b[A"
     ]
    },
    {
     "name": "stdout",
     "output_type": "stream",
     "text": [
      "\n"
     ]
    },
    {
     "name": "stdout",
     "output_type": "stream",
     "text": [
      "\r",
      "Validation DataLoader 0:   0%|          | 0/3 [00:00<?, ?it/s]"
     ]
    },
    {
     "name": "stdout",
     "output_type": "stream",
     "text": [
      "\u001b[A"
     ]
    },
    {
     "name": "stdout",
     "output_type": "stream",
     "text": [
      "\n"
     ]
    },
    {
     "name": "stdout",
     "output_type": "stream",
     "text": [
      "\r",
      "Validation DataLoader 0:  33%|███▎      | 1/3 [00:00<00:00, 10.45it/s]"
     ]
    },
    {
     "name": "stdout",
     "output_type": "stream",
     "text": [
      "\u001b[A"
     ]
    },
    {
     "name": "stdout",
     "output_type": "stream",
     "text": [
      "\r",
      "Epoch 3:  80%|████████  | 8/10 [00:04<00:01,  1.61it/s, loss=-4.71e+04, v_num=0, train_loss_step=-1.48e+5, pixel_AUROC=0.934, train_loss_epoch=-4.56e+4]"
     ]
    },
    {
     "name": "stdout",
     "output_type": "stream",
     "text": [
      "\n"
     ]
    },
    {
     "name": "stdout",
     "output_type": "stream",
     "text": [
      "\r",
      "Validation DataLoader 0:  67%|██████▋   | 2/3 [00:00<00:00, 10.28it/s]"
     ]
    },
    {
     "name": "stdout",
     "output_type": "stream",
     "text": [
      "\u001b[A"
     ]
    },
    {
     "name": "stdout",
     "output_type": "stream",
     "text": [
      "\r",
      "Epoch 3:  90%|█████████ | 9/10 [00:05<00:00,  1.78it/s, loss=-4.71e+04, v_num=0, train_loss_step=-1.48e+5, pixel_AUROC=0.934, train_loss_epoch=-4.56e+4]"
     ]
    },
    {
     "name": "stdout",
     "output_type": "stream",
     "text": [
      "\n"
     ]
    },
    {
     "name": "stdout",
     "output_type": "stream",
     "text": [
      "\r",
      "Validation DataLoader 0: 100%|██████████| 3/3 [00:00<00:00, 11.38it/s]"
     ]
    },
    {
     "name": "stdout",
     "output_type": "stream",
     "text": [
      "\u001b[A"
     ]
    },
    {
     "name": "stdout",
     "output_type": "stream",
     "text": [
      "\r",
      "Epoch 3: 100%|██████████| 10/10 [00:05<00:00,  1.95it/s, loss=-4.71e+04, v_num=0, train_loss_step=-1.48e+5, pixel_AUROC=0.934, train_loss_epoch=-4.56e+4]"
     ]
    },
    {
     "name": "stdout",
     "output_type": "stream",
     "text": [
      "\r",
      "Epoch 3: 100%|██████████| 10/10 [00:05<00:00,  1.70it/s, loss=-4.71e+04, v_num=0, train_loss_step=-1.48e+5, pixel_AUROC=0.964, train_loss_epoch=-4.56e+4]"
     ]
    },
    {
     "name": "stdout",
     "output_type": "stream",
     "text": [
      "\n"
     ]
    },
    {
     "name": "stdout",
     "output_type": "stream",
     "text": [
      "\r",
      "                                                                      "
     ]
    },
    {
     "name": "stdout",
     "output_type": "stream",
     "text": [
      "\u001b[A"
     ]
    },
    {
     "name": "stdout",
     "output_type": "stream",
     "text": [
      "\r",
      "Epoch 3: 100%|██████████| 10/10 [00:05<00:00,  1.70it/s, loss=-4.71e+04, v_num=0, train_loss_step=-1.48e+5, pixel_AUROC=0.964, train_loss_epoch=-1.2e+5] "
     ]
    },
    {
     "name": "stdout",
     "output_type": "stream",
     "text": [
      "\r",
      "Epoch 3:   0%|          | 0/10 [00:00<?, ?it/s, loss=-4.71e+04, v_num=0, train_loss_step=-1.48e+5, pixel_AUROC=0.964, train_loss_epoch=-1.2e+5]         "
     ]
    },
    {
     "name": "stdout",
     "output_type": "stream",
     "text": [
      "\r",
      "Epoch 4:   0%|          | 0/10 [00:00<?, ?it/s, loss=-4.71e+04, v_num=0, train_loss_step=-1.48e+5, pixel_AUROC=0.964, train_loss_epoch=-1.2e+5]"
     ]
    },
    {
     "name": "stdout",
     "output_type": "stream",
     "text": [
      "\r",
      "Epoch 4:  10%|█         | 1/10 [00:02<00:19,  2.17s/it, loss=-4.71e+04, v_num=0, train_loss_step=-1.48e+5, pixel_AUROC=0.964, train_loss_epoch=-1.2e+5]"
     ]
    },
    {
     "name": "stdout",
     "output_type": "stream",
     "text": [
      "\r",
      "Epoch 4:  10%|█         | 1/10 [00:02<00:19,  2.17s/it, loss=-5.91e+04, v_num=0, train_loss_step=-1.59e+5, pixel_AUROC=0.964, train_loss_epoch=-1.2e+5]"
     ]
    },
    {
     "name": "stdout",
     "output_type": "stream",
     "text": [
      "\r",
      "Epoch 4:  20%|██        | 2/10 [00:02<00:09,  1.15s/it, loss=-5.91e+04, v_num=0, train_loss_step=-1.59e+5, pixel_AUROC=0.964, train_loss_epoch=-1.2e+5]"
     ]
    },
    {
     "name": "stdout",
     "output_type": "stream",
     "text": [
      "\r",
      "Epoch 4:  20%|██        | 2/10 [00:02<00:09,  1.15s/it, loss=-7.08e+04, v_num=0, train_loss_step=-1.69e+5, pixel_AUROC=0.964, train_loss_epoch=-1.2e+5]"
     ]
    },
    {
     "name": "stdout",
     "output_type": "stream",
     "text": [
      "\r",
      "Epoch 4:  30%|███       | 3/10 [00:02<00:05,  1.24it/s, loss=-7.08e+04, v_num=0, train_loss_step=-1.69e+5, pixel_AUROC=0.964, train_loss_epoch=-1.2e+5]"
     ]
    },
    {
     "name": "stdout",
     "output_type": "stream",
     "text": [
      "\r",
      "Epoch 4:  30%|███       | 3/10 [00:02<00:05,  1.24it/s, loss=-8.2e+04, v_num=0, train_loss_step=-1.76e+5, pixel_AUROC=0.964, train_loss_epoch=-1.2e+5] "
     ]
    },
    {
     "name": "stdout",
     "output_type": "stream",
     "text": [
      "\r",
      "Epoch 4:  40%|████      | 4/10 [00:02<00:03,  1.57it/s, loss=-8.2e+04, v_num=0, train_loss_step=-1.76e+5, pixel_AUROC=0.964, train_loss_epoch=-1.2e+5]"
     ]
    },
    {
     "name": "stdout",
     "output_type": "stream",
     "text": [
      "\r",
      "Epoch 4:  40%|████      | 4/10 [00:02<00:03,  1.57it/s, loss=-9.29e+04, v_num=0, train_loss_step=-1.84e+5, pixel_AUROC=0.964, train_loss_epoch=-1.2e+5]"
     ]
    },
    {
     "name": "stdout",
     "output_type": "stream",
     "text": [
      "\r",
      "Epoch 4:  50%|█████     | 5/10 [00:02<00:02,  1.88it/s, loss=-9.29e+04, v_num=0, train_loss_step=-1.84e+5, pixel_AUROC=0.964, train_loss_epoch=-1.2e+5]"
     ]
    },
    {
     "name": "stdout",
     "output_type": "stream",
     "text": [
      "\r",
      "Epoch 4:  50%|█████     | 5/10 [00:02<00:02,  1.88it/s, loss=-1.04e+05, v_num=0, train_loss_step=-1.93e+5, pixel_AUROC=0.964, train_loss_epoch=-1.2e+5]"
     ]
    },
    {
     "name": "stdout",
     "output_type": "stream",
     "text": [
      "\r",
      "Epoch 4:  60%|██████    | 6/10 [00:02<00:01,  2.16it/s, loss=-1.04e+05, v_num=0, train_loss_step=-1.93e+5, pixel_AUROC=0.964, train_loss_epoch=-1.2e+5]"
     ]
    },
    {
     "name": "stdout",
     "output_type": "stream",
     "text": [
      "\r",
      "Epoch 4:  60%|██████    | 6/10 [00:02<00:01,  2.15it/s, loss=-1.14e+05, v_num=0, train_loss_step=-1.98e+5, pixel_AUROC=0.964, train_loss_epoch=-1.2e+5]"
     ]
    },
    {
     "name": "stdout",
     "output_type": "stream",
     "text": [
      "\r",
      "Epoch 4:  70%|███████   | 7/10 [00:02<00:01,  2.43it/s, loss=-1.14e+05, v_num=0, train_loss_step=-1.98e+5, pixel_AUROC=0.964, train_loss_epoch=-1.2e+5]"
     ]
    },
    {
     "name": "stdout",
     "output_type": "stream",
     "text": [
      "\r",
      "Epoch 4:  70%|███████   | 7/10 [00:02<00:01,  2.42it/s, loss=-1.23e+05, v_num=0, train_loss_step=-2.06e+5, pixel_AUROC=0.964, train_loss_epoch=-1.2e+5]"
     ]
    },
    {
     "name": "stdout",
     "output_type": "stream",
     "text": [
      "\n"
     ]
    },
    {
     "name": "stdout",
     "output_type": "stream",
     "text": [
      "\r",
      "Validation: 0it [00:00, ?it/s]"
     ]
    },
    {
     "name": "stdout",
     "output_type": "stream",
     "text": [
      "\u001b[A"
     ]
    },
    {
     "name": "stdout",
     "output_type": "stream",
     "text": [
      "\n"
     ]
    },
    {
     "name": "stdout",
     "output_type": "stream",
     "text": [
      "\r",
      "Validation:   0%|          | 0/3 [00:00<?, ?it/s]"
     ]
    },
    {
     "name": "stdout",
     "output_type": "stream",
     "text": [
      "\u001b[A"
     ]
    },
    {
     "name": "stdout",
     "output_type": "stream",
     "text": [
      "\n"
     ]
    },
    {
     "name": "stdout",
     "output_type": "stream",
     "text": [
      "\r",
      "Validation DataLoader 0:   0%|          | 0/3 [00:00<?, ?it/s]"
     ]
    },
    {
     "name": "stdout",
     "output_type": "stream",
     "text": [
      "\u001b[A"
     ]
    },
    {
     "name": "stdout",
     "output_type": "stream",
     "text": [
      "\n"
     ]
    },
    {
     "name": "stdout",
     "output_type": "stream",
     "text": [
      "\r",
      "Validation DataLoader 0:  33%|███▎      | 1/3 [00:00<00:00, 11.45it/s]"
     ]
    },
    {
     "name": "stdout",
     "output_type": "stream",
     "text": [
      "\u001b[A"
     ]
    },
    {
     "name": "stdout",
     "output_type": "stream",
     "text": [
      "\r",
      "Epoch 4:  80%|████████  | 8/10 [00:04<00:01,  1.64it/s, loss=-1.23e+05, v_num=0, train_loss_step=-2.06e+5, pixel_AUROC=0.964, train_loss_epoch=-1.2e+5]"
     ]
    },
    {
     "name": "stdout",
     "output_type": "stream",
     "text": [
      "\n"
     ]
    },
    {
     "name": "stdout",
     "output_type": "stream",
     "text": [
      "\r",
      "Validation DataLoader 0:  67%|██████▋   | 2/3 [00:00<00:00, 10.91it/s]"
     ]
    },
    {
     "name": "stdout",
     "output_type": "stream",
     "text": [
      "\u001b[A"
     ]
    },
    {
     "name": "stdout",
     "output_type": "stream",
     "text": [
      "\r",
      "Epoch 4:  90%|█████████ | 9/10 [00:04<00:00,  1.81it/s, loss=-1.23e+05, v_num=0, train_loss_step=-2.06e+5, pixel_AUROC=0.964, train_loss_epoch=-1.2e+5]"
     ]
    },
    {
     "name": "stdout",
     "output_type": "stream",
     "text": [
      "\n"
     ]
    },
    {
     "name": "stdout",
     "output_type": "stream",
     "text": [
      "\r",
      "Validation DataLoader 0: 100%|██████████| 3/3 [00:00<00:00, 12.12it/s]"
     ]
    },
    {
     "name": "stdout",
     "output_type": "stream",
     "text": [
      "\u001b[A"
     ]
    },
    {
     "name": "stdout",
     "output_type": "stream",
     "text": [
      "\r",
      "Epoch 4: 100%|██████████| 10/10 [00:05<00:00,  1.99it/s, loss=-1.23e+05, v_num=0, train_loss_step=-2.06e+5, pixel_AUROC=0.964, train_loss_epoch=-1.2e+5]"
     ]
    },
    {
     "name": "stdout",
     "output_type": "stream",
     "text": [
      "\r",
      "Epoch 4: 100%|██████████| 10/10 [00:05<00:00,  1.73it/s, loss=-1.23e+05, v_num=0, train_loss_step=-2.06e+5, pixel_AUROC=0.968, train_loss_epoch=-1.2e+5]"
     ]
    },
    {
     "name": "stdout",
     "output_type": "stream",
     "text": [
      "\n"
     ]
    },
    {
     "name": "stdout",
     "output_type": "stream",
     "text": [
      "\r",
      "                                                                      "
     ]
    },
    {
     "name": "stdout",
     "output_type": "stream",
     "text": [
      "\u001b[A"
     ]
    },
    {
     "name": "stdout",
     "output_type": "stream",
     "text": [
      "\r",
      "Epoch 4: 100%|██████████| 10/10 [00:05<00:00,  1.73it/s, loss=-1.23e+05, v_num=0, train_loss_step=-2.06e+5, pixel_AUROC=0.968, train_loss_epoch=-1.82e+5]"
     ]
    },
    {
     "name": "stdout",
     "output_type": "stream",
     "text": [
      "\r",
      "Epoch 4:   0%|          | 0/10 [00:00<?, ?it/s, loss=-1.23e+05, v_num=0, train_loss_step=-2.06e+5, pixel_AUROC=0.968, train_loss_epoch=-1.82e+5]         "
     ]
    },
    {
     "name": "stdout",
     "output_type": "stream",
     "text": [
      "\r",
      "Epoch 5:   0%|          | 0/10 [00:00<?, ?it/s, loss=-1.23e+05, v_num=0, train_loss_step=-2.06e+5, pixel_AUROC=0.968, train_loss_epoch=-1.82e+5]"
     ]
    },
    {
     "name": "stdout",
     "output_type": "stream",
     "text": [
      "\r",
      "Epoch 5:  10%|█         | 1/10 [00:02<00:19,  2.20s/it, loss=-1.23e+05, v_num=0, train_loss_step=-2.06e+5, pixel_AUROC=0.968, train_loss_epoch=-1.82e+5]"
     ]
    },
    {
     "name": "stdout",
     "output_type": "stream",
     "text": [
      "\r",
      "Epoch 5:  10%|█         | 1/10 [00:02<00:19,  2.20s/it, loss=-1.33e+05, v_num=0, train_loss_step=-2.13e+5, pixel_AUROC=0.968, train_loss_epoch=-1.82e+5]"
     ]
    },
    {
     "name": "stdout",
     "output_type": "stream",
     "text": [
      "\r",
      "Epoch 5:  20%|██        | 2/10 [00:02<00:09,  1.16s/it, loss=-1.33e+05, v_num=0, train_loss_step=-2.13e+5, pixel_AUROC=0.968, train_loss_epoch=-1.82e+5]"
     ]
    },
    {
     "name": "stdout",
     "output_type": "stream",
     "text": [
      "\r",
      "Epoch 5:  20%|██        | 2/10 [00:02<00:09,  1.16s/it, loss=-1.42e+05, v_num=0, train_loss_step=-2.21e+5, pixel_AUROC=0.968, train_loss_epoch=-1.82e+5]"
     ]
    },
    {
     "name": "stdout",
     "output_type": "stream",
     "text": [
      "\r",
      "Epoch 5:  30%|███       | 3/10 [00:02<00:05,  1.23it/s, loss=-1.42e+05, v_num=0, train_loss_step=-2.21e+5, pixel_AUROC=0.968, train_loss_epoch=-1.82e+5]"
     ]
    },
    {
     "name": "stdout",
     "output_type": "stream",
     "text": [
      "\r",
      "Epoch 5:  30%|███       | 3/10 [00:02<00:05,  1.22it/s, loss=-1.51e+05, v_num=0, train_loss_step=-2.29e+5, pixel_AUROC=0.968, train_loss_epoch=-1.82e+5]"
     ]
    },
    {
     "name": "stdout",
     "output_type": "stream",
     "text": [
      "\r",
      "Epoch 5:  40%|████      | 4/10 [00:02<00:03,  1.56it/s, loss=-1.51e+05, v_num=0, train_loss_step=-2.29e+5, pixel_AUROC=0.968, train_loss_epoch=-1.82e+5]"
     ]
    },
    {
     "name": "stdout",
     "output_type": "stream",
     "text": [
      "\r",
      "Epoch 5:  40%|████      | 4/10 [00:02<00:03,  1.56it/s, loss=-1.6e+05, v_num=0, train_loss_step=-2.37e+5, pixel_AUROC=0.968, train_loss_epoch=-1.82e+5] "
     ]
    },
    {
     "name": "stdout",
     "output_type": "stream",
     "text": [
      "\r",
      "Epoch 5:  50%|█████     | 5/10 [00:02<00:02,  1.86it/s, loss=-1.6e+05, v_num=0, train_loss_step=-2.37e+5, pixel_AUROC=0.968, train_loss_epoch=-1.82e+5]"
     ]
    },
    {
     "name": "stdout",
     "output_type": "stream",
     "text": [
      "\r",
      "Epoch 5:  50%|█████     | 5/10 [00:02<00:02,  1.86it/s, loss=-1.68e+05, v_num=0, train_loss_step=-2.43e+5, pixel_AUROC=0.968, train_loss_epoch=-1.82e+5]"
     ]
    },
    {
     "name": "stdout",
     "output_type": "stream",
     "text": [
      "\r",
      "Epoch 5:  60%|██████    | 6/10 [00:02<00:01,  2.13it/s, loss=-1.68e+05, v_num=0, train_loss_step=-2.43e+5, pixel_AUROC=0.968, train_loss_epoch=-1.82e+5]"
     ]
    },
    {
     "name": "stdout",
     "output_type": "stream",
     "text": [
      "\r",
      "Epoch 5:  60%|██████    | 6/10 [00:02<00:01,  2.13it/s, loss=-1.77e+05, v_num=0, train_loss_step=-2.48e+5, pixel_AUROC=0.968, train_loss_epoch=-1.82e+5]"
     ]
    },
    {
     "name": "stdout",
     "output_type": "stream",
     "text": [
      "\r",
      "Epoch 5:  70%|███████   | 7/10 [00:02<00:01,  2.40it/s, loss=-1.77e+05, v_num=0, train_loss_step=-2.48e+5, pixel_AUROC=0.968, train_loss_epoch=-1.82e+5]"
     ]
    },
    {
     "name": "stdout",
     "output_type": "stream",
     "text": [
      "\r",
      "Epoch 5:  70%|███████   | 7/10 [00:02<00:01,  2.40it/s, loss=-1.85e+05, v_num=0, train_loss_step=-2.55e+5, pixel_AUROC=0.968, train_loss_epoch=-1.82e+5]"
     ]
    },
    {
     "name": "stdout",
     "output_type": "stream",
     "text": [
      "\n"
     ]
    },
    {
     "name": "stdout",
     "output_type": "stream",
     "text": [
      "\r",
      "Validation: 0it [00:00, ?it/s]"
     ]
    },
    {
     "name": "stdout",
     "output_type": "stream",
     "text": [
      "\u001b[A"
     ]
    },
    {
     "name": "stdout",
     "output_type": "stream",
     "text": [
      "\n"
     ]
    },
    {
     "name": "stdout",
     "output_type": "stream",
     "text": [
      "\r",
      "Validation:   0%|          | 0/3 [00:00<?, ?it/s]"
     ]
    },
    {
     "name": "stdout",
     "output_type": "stream",
     "text": [
      "\u001b[A"
     ]
    },
    {
     "name": "stdout",
     "output_type": "stream",
     "text": [
      "\n"
     ]
    },
    {
     "name": "stdout",
     "output_type": "stream",
     "text": [
      "\r",
      "Validation DataLoader 0:   0%|          | 0/3 [00:00<?, ?it/s]"
     ]
    },
    {
     "name": "stdout",
     "output_type": "stream",
     "text": [
      "\u001b[A"
     ]
    },
    {
     "name": "stdout",
     "output_type": "stream",
     "text": [
      "\n"
     ]
    },
    {
     "name": "stdout",
     "output_type": "stream",
     "text": [
      "\r",
      "Validation DataLoader 0:  33%|███▎      | 1/3 [00:00<00:00, 11.26it/s]"
     ]
    },
    {
     "name": "stdout",
     "output_type": "stream",
     "text": [
      "\u001b[A"
     ]
    },
    {
     "name": "stdout",
     "output_type": "stream",
     "text": [
      "\r",
      "Epoch 5:  80%|████████  | 8/10 [00:04<00:01,  1.60it/s, loss=-1.85e+05, v_num=0, train_loss_step=-2.55e+5, pixel_AUROC=0.968, train_loss_epoch=-1.82e+5]"
     ]
    },
    {
     "name": "stdout",
     "output_type": "stream",
     "text": [
      "\n"
     ]
    },
    {
     "name": "stdout",
     "output_type": "stream",
     "text": [
      "\r",
      "Validation DataLoader 0:  67%|██████▋   | 2/3 [00:00<00:00, 10.55it/s]"
     ]
    },
    {
     "name": "stdout",
     "output_type": "stream",
     "text": [
      "\u001b[A"
     ]
    },
    {
     "name": "stdout",
     "output_type": "stream",
     "text": [
      "\r",
      "Epoch 5:  90%|█████████ | 9/10 [00:05<00:00,  1.77it/s, loss=-1.85e+05, v_num=0, train_loss_step=-2.55e+5, pixel_AUROC=0.968, train_loss_epoch=-1.82e+5]"
     ]
    },
    {
     "name": "stdout",
     "output_type": "stream",
     "text": [
      "\n"
     ]
    },
    {
     "name": "stdout",
     "output_type": "stream",
     "text": [
      "\r",
      "Validation DataLoader 0: 100%|██████████| 3/3 [00:00<00:00, 11.89it/s]"
     ]
    },
    {
     "name": "stdout",
     "output_type": "stream",
     "text": [
      "\u001b[A"
     ]
    },
    {
     "name": "stdout",
     "output_type": "stream",
     "text": [
      "\r",
      "Epoch 5: 100%|██████████| 10/10 [00:05<00:00,  1.94it/s, loss=-1.85e+05, v_num=0, train_loss_step=-2.55e+5, pixel_AUROC=0.968, train_loss_epoch=-1.82e+5]"
     ]
    },
    {
     "name": "stdout",
     "output_type": "stream",
     "text": [
      "\r",
      "Epoch 5: 100%|██████████| 10/10 [00:05<00:00,  1.70it/s, loss=-1.85e+05, v_num=0, train_loss_step=-2.55e+5, pixel_AUROC=0.971, train_loss_epoch=-1.82e+5]"
     ]
    },
    {
     "name": "stdout",
     "output_type": "stream",
     "text": [
      "\n"
     ]
    },
    {
     "name": "stdout",
     "output_type": "stream",
     "text": [
      "\r",
      "                                                                      "
     ]
    },
    {
     "name": "stdout",
     "output_type": "stream",
     "text": [
      "\u001b[A"
     ]
    },
    {
     "name": "stdout",
     "output_type": "stream",
     "text": [
      "\r",
      "Epoch 5: 100%|██████████| 10/10 [00:05<00:00,  1.70it/s, loss=-1.85e+05, v_num=0, train_loss_step=-2.55e+5, pixel_AUROC=0.971, train_loss_epoch=-2.34e+5]"
     ]
    },
    {
     "name": "stdout",
     "output_type": "stream",
     "text": [
      "\r",
      "Epoch 5:   0%|          | 0/10 [00:00<?, ?it/s, loss=-1.85e+05, v_num=0, train_loss_step=-2.55e+5, pixel_AUROC=0.971, train_loss_epoch=-2.34e+5]         "
     ]
    },
    {
     "name": "stdout",
     "output_type": "stream",
     "text": [
      "\r",
      "Epoch 6:   0%|          | 0/10 [00:00<?, ?it/s, loss=-1.85e+05, v_num=0, train_loss_step=-2.55e+5, pixel_AUROC=0.971, train_loss_epoch=-2.34e+5]"
     ]
    },
    {
     "name": "stdout",
     "output_type": "stream",
     "text": [
      "\r",
      "Epoch 6:  10%|█         | 1/10 [00:02<00:19,  2.14s/it, loss=-1.85e+05, v_num=0, train_loss_step=-2.55e+5, pixel_AUROC=0.971, train_loss_epoch=-2.34e+5]"
     ]
    },
    {
     "name": "stdout",
     "output_type": "stream",
     "text": [
      "\r",
      "Epoch 6:  10%|█         | 1/10 [00:02<00:19,  2.15s/it, loss=-1.92e+05, v_num=0, train_loss_step=-2.63e+5, pixel_AUROC=0.971, train_loss_epoch=-2.34e+5]"
     ]
    },
    {
     "name": "stdout",
     "output_type": "stream",
     "text": [
      "\r",
      "Epoch 6:  20%|██        | 2/10 [00:02<00:09,  1.14s/it, loss=-1.92e+05, v_num=0, train_loss_step=-2.63e+5, pixel_AUROC=0.971, train_loss_epoch=-2.34e+5]"
     ]
    },
    {
     "name": "stdout",
     "output_type": "stream",
     "text": [
      "\r",
      "Epoch 6:  20%|██        | 2/10 [00:02<00:09,  1.14s/it, loss=-2e+05, v_num=0, train_loss_step=-2.71e+5, pixel_AUROC=0.971, train_loss_epoch=-2.34e+5]   "
     ]
    },
    {
     "name": "stdout",
     "output_type": "stream",
     "text": [
      "\r",
      "Epoch 6:  30%|███       | 3/10 [00:02<00:05,  1.25it/s, loss=-2e+05, v_num=0, train_loss_step=-2.71e+5, pixel_AUROC=0.971, train_loss_epoch=-2.34e+5]"
     ]
    },
    {
     "name": "stdout",
     "output_type": "stream",
     "text": [
      "\r",
      "Epoch 6:  30%|███       | 3/10 [00:02<00:05,  1.25it/s, loss=-2.08e+05, v_num=0, train_loss_step=-2.73e+5, pixel_AUROC=0.971, train_loss_epoch=-2.34e+5]"
     ]
    },
    {
     "name": "stdout",
     "output_type": "stream",
     "text": [
      "\r",
      "Epoch 6:  40%|████      | 4/10 [00:02<00:03,  1.59it/s, loss=-2.08e+05, v_num=0, train_loss_step=-2.73e+5, pixel_AUROC=0.971, train_loss_epoch=-2.34e+5]"
     ]
    },
    {
     "name": "stdout",
     "output_type": "stream",
     "text": [
      "\r",
      "Epoch 6:  40%|████      | 4/10 [00:02<00:03,  1.59it/s, loss=-2.15e+05, v_num=0, train_loss_step=-2.81e+5, pixel_AUROC=0.971, train_loss_epoch=-2.34e+5]"
     ]
    },
    {
     "name": "stdout",
     "output_type": "stream",
     "text": [
      "\r",
      "Epoch 6:  50%|█████     | 5/10 [00:02<00:02,  1.89it/s, loss=-2.15e+05, v_num=0, train_loss_step=-2.81e+5, pixel_AUROC=0.971, train_loss_epoch=-2.34e+5]"
     ]
    },
    {
     "name": "stdout",
     "output_type": "stream",
     "text": [
      "\r",
      "Epoch 6:  50%|█████     | 5/10 [00:02<00:02,  1.89it/s, loss=-2.23e+05, v_num=0, train_loss_step=-2.87e+5, pixel_AUROC=0.971, train_loss_epoch=-2.34e+5]"
     ]
    },
    {
     "name": "stdout",
     "output_type": "stream",
     "text": [
      "\r",
      "Epoch 6:  60%|██████    | 6/10 [00:02<00:01,  2.17it/s, loss=-2.23e+05, v_num=0, train_loss_step=-2.87e+5, pixel_AUROC=0.971, train_loss_epoch=-2.34e+5]"
     ]
    },
    {
     "name": "stdout",
     "output_type": "stream",
     "text": [
      "\r",
      "Epoch 6:  60%|██████    | 6/10 [00:02<00:01,  2.17it/s, loss=-2.3e+05, v_num=0, train_loss_step=-2.94e+5, pixel_AUROC=0.971, train_loss_epoch=-2.34e+5] "
     ]
    },
    {
     "name": "stdout",
     "output_type": "stream",
     "text": [
      "\r",
      "Epoch 6:  70%|███████   | 7/10 [00:02<00:01,  2.44it/s, loss=-2.3e+05, v_num=0, train_loss_step=-2.94e+5, pixel_AUROC=0.971, train_loss_epoch=-2.34e+5]"
     ]
    },
    {
     "name": "stdout",
     "output_type": "stream",
     "text": [
      "\r",
      "Epoch 6:  70%|███████   | 7/10 [00:02<00:01,  2.44it/s, loss=-2.37e+05, v_num=0, train_loss_step=-3.03e+5, pixel_AUROC=0.971, train_loss_epoch=-2.34e+5]"
     ]
    },
    {
     "name": "stdout",
     "output_type": "stream",
     "text": [
      "\n"
     ]
    },
    {
     "name": "stdout",
     "output_type": "stream",
     "text": [
      "\r",
      "Validation: 0it [00:00, ?it/s]"
     ]
    },
    {
     "name": "stdout",
     "output_type": "stream",
     "text": [
      "\u001b[A"
     ]
    },
    {
     "name": "stdout",
     "output_type": "stream",
     "text": [
      "\n"
     ]
    },
    {
     "name": "stdout",
     "output_type": "stream",
     "text": [
      "\r",
      "Validation:   0%|          | 0/3 [00:00<?, ?it/s]"
     ]
    },
    {
     "name": "stdout",
     "output_type": "stream",
     "text": [
      "\u001b[A"
     ]
    },
    {
     "name": "stdout",
     "output_type": "stream",
     "text": [
      "\n"
     ]
    },
    {
     "name": "stdout",
     "output_type": "stream",
     "text": [
      "\r",
      "Validation DataLoader 0:   0%|          | 0/3 [00:00<?, ?it/s]"
     ]
    },
    {
     "name": "stdout",
     "output_type": "stream",
     "text": [
      "\u001b[A"
     ]
    },
    {
     "name": "stdout",
     "output_type": "stream",
     "text": [
      "\n"
     ]
    },
    {
     "name": "stdout",
     "output_type": "stream",
     "text": [
      "\r",
      "Validation DataLoader 0:  33%|███▎      | 1/3 [00:00<00:00, 10.08it/s]"
     ]
    },
    {
     "name": "stdout",
     "output_type": "stream",
     "text": [
      "\u001b[A"
     ]
    },
    {
     "name": "stdout",
     "output_type": "stream",
     "text": [
      "\r",
      "Epoch 6:  80%|████████  | 8/10 [00:04<00:01,  1.64it/s, loss=-2.37e+05, v_num=0, train_loss_step=-3.03e+5, pixel_AUROC=0.971, train_loss_epoch=-2.34e+5]"
     ]
    },
    {
     "name": "stdout",
     "output_type": "stream",
     "text": [
      "\n"
     ]
    },
    {
     "name": "stdout",
     "output_type": "stream",
     "text": [
      "\r",
      "Validation DataLoader 0:  67%|██████▋   | 2/3 [00:00<00:00,  9.67it/s]"
     ]
    },
    {
     "name": "stdout",
     "output_type": "stream",
     "text": [
      "\u001b[A"
     ]
    },
    {
     "name": "stdout",
     "output_type": "stream",
     "text": [
      "\r",
      "Epoch 6:  90%|█████████ | 9/10 [00:04<00:00,  1.80it/s, loss=-2.37e+05, v_num=0, train_loss_step=-3.03e+5, pixel_AUROC=0.971, train_loss_epoch=-2.34e+5]"
     ]
    },
    {
     "name": "stdout",
     "output_type": "stream",
     "text": [
      "\n"
     ]
    },
    {
     "name": "stdout",
     "output_type": "stream",
     "text": [
      "\r",
      "Validation DataLoader 0: 100%|██████████| 3/3 [00:00<00:00, 11.00it/s]"
     ]
    },
    {
     "name": "stdout",
     "output_type": "stream",
     "text": [
      "\u001b[A"
     ]
    },
    {
     "name": "stdout",
     "output_type": "stream",
     "text": [
      "\r",
      "Epoch 6: 100%|██████████| 10/10 [00:05<00:00,  1.97it/s, loss=-2.37e+05, v_num=0, train_loss_step=-3.03e+5, pixel_AUROC=0.971, train_loss_epoch=-2.34e+5]"
     ]
    },
    {
     "name": "stdout",
     "output_type": "stream",
     "text": [
      "\r",
      "Epoch 6: 100%|██████████| 10/10 [00:05<00:00,  1.71it/s, loss=-2.37e+05, v_num=0, train_loss_step=-3.03e+5, pixel_AUROC=0.973, train_loss_epoch=-2.34e+5]"
     ]
    },
    {
     "name": "stdout",
     "output_type": "stream",
     "text": [
      "\n"
     ]
    },
    {
     "name": "stdout",
     "output_type": "stream",
     "text": [
      "\r",
      "                                                                      "
     ]
    },
    {
     "name": "stdout",
     "output_type": "stream",
     "text": [
      "\u001b[A"
     ]
    },
    {
     "name": "stdout",
     "output_type": "stream",
     "text": [
      "\r",
      "Epoch 6: 100%|██████████| 10/10 [00:05<00:00,  1.70it/s, loss=-2.37e+05, v_num=0, train_loss_step=-3.03e+5, pixel_AUROC=0.973, train_loss_epoch=-2.8e+5] "
     ]
    },
    {
     "name": "stdout",
     "output_type": "stream",
     "text": [
      "\r",
      "Epoch 6:   0%|          | 0/10 [00:00<?, ?it/s, loss=-2.37e+05, v_num=0, train_loss_step=-3.03e+5, pixel_AUROC=0.973, train_loss_epoch=-2.8e+5]         "
     ]
    },
    {
     "name": "stdout",
     "output_type": "stream",
     "text": [
      "\r",
      "Epoch 7:   0%|          | 0/10 [00:00<?, ?it/s, loss=-2.37e+05, v_num=0, train_loss_step=-3.03e+5, pixel_AUROC=0.973, train_loss_epoch=-2.8e+5]"
     ]
    },
    {
     "name": "stdout",
     "output_type": "stream",
     "text": [
      "\r",
      "Epoch 7:  10%|█         | 1/10 [00:02<00:19,  2.15s/it, loss=-2.37e+05, v_num=0, train_loss_step=-3.03e+5, pixel_AUROC=0.973, train_loss_epoch=-2.8e+5]"
     ]
    },
    {
     "name": "stdout",
     "output_type": "stream",
     "text": [
      "\r",
      "Epoch 7:  10%|█         | 1/10 [00:02<00:19,  2.15s/it, loss=-2.44e+05, v_num=0, train_loss_step=-3.09e+5, pixel_AUROC=0.973, train_loss_epoch=-2.8e+5]"
     ]
    },
    {
     "name": "stdout",
     "output_type": "stream",
     "text": [
      "\r",
      "Epoch 7:  20%|██        | 2/10 [00:02<00:09,  1.14s/it, loss=-2.44e+05, v_num=0, train_loss_step=-3.09e+5, pixel_AUROC=0.973, train_loss_epoch=-2.8e+5]"
     ]
    },
    {
     "name": "stdout",
     "output_type": "stream",
     "text": [
      "\r",
      "Epoch 7:  20%|██        | 2/10 [00:02<00:09,  1.14s/it, loss=-2.51e+05, v_num=0, train_loss_step=-3.12e+5, pixel_AUROC=0.973, train_loss_epoch=-2.8e+5]"
     ]
    },
    {
     "name": "stdout",
     "output_type": "stream",
     "text": [
      "\r",
      "Epoch 7:  30%|███       | 3/10 [00:02<00:05,  1.25it/s, loss=-2.51e+05, v_num=0, train_loss_step=-3.12e+5, pixel_AUROC=0.973, train_loss_epoch=-2.8e+5]"
     ]
    },
    {
     "name": "stdout",
     "output_type": "stream",
     "text": [
      "\r",
      "Epoch 7:  30%|███       | 3/10 [00:02<00:05,  1.25it/s, loss=-2.58e+05, v_num=0, train_loss_step=-3.15e+5, pixel_AUROC=0.973, train_loss_epoch=-2.8e+5]"
     ]
    },
    {
     "name": "stdout",
     "output_type": "stream",
     "text": [
      "\r",
      "Epoch 7:  40%|████      | 4/10 [00:02<00:03,  1.58it/s, loss=-2.58e+05, v_num=0, train_loss_step=-3.15e+5, pixel_AUROC=0.973, train_loss_epoch=-2.8e+5]"
     ]
    },
    {
     "name": "stdout",
     "output_type": "stream",
     "text": [
      "\r",
      "Epoch 7:  40%|████      | 4/10 [00:02<00:03,  1.58it/s, loss=-2.64e+05, v_num=0, train_loss_step=-3.2e+5, pixel_AUROC=0.973, train_loss_epoch=-2.8e+5] "
     ]
    },
    {
     "name": "stdout",
     "output_type": "stream",
     "text": [
      "\r",
      "Epoch 7:  50%|█████     | 5/10 [00:02<00:02,  1.89it/s, loss=-2.64e+05, v_num=0, train_loss_step=-3.2e+5, pixel_AUROC=0.973, train_loss_epoch=-2.8e+5]"
     ]
    },
    {
     "name": "stdout",
     "output_type": "stream",
     "text": [
      "\r",
      "Epoch 7:  50%|█████     | 5/10 [00:02<00:02,  1.89it/s, loss=-2.71e+05, v_num=0, train_loss_step=-3.3e+5, pixel_AUROC=0.973, train_loss_epoch=-2.8e+5]"
     ]
    },
    {
     "name": "stdout",
     "output_type": "stream",
     "text": [
      "\r",
      "Epoch 7:  60%|██████    | 6/10 [00:02<00:01,  2.17it/s, loss=-2.71e+05, v_num=0, train_loss_step=-3.3e+5, pixel_AUROC=0.973, train_loss_epoch=-2.8e+5]"
     ]
    },
    {
     "name": "stdout",
     "output_type": "stream",
     "text": [
      "\r",
      "Epoch 7:  60%|██████    | 6/10 [00:02<00:01,  2.17it/s, loss=-2.77e+05, v_num=0, train_loss_step=-3.28e+5, pixel_AUROC=0.973, train_loss_epoch=-2.8e+5]"
     ]
    },
    {
     "name": "stdout",
     "output_type": "stream",
     "text": [
      "\r",
      "Epoch 7:  70%|███████   | 7/10 [00:02<00:01,  2.44it/s, loss=-2.77e+05, v_num=0, train_loss_step=-3.28e+5, pixel_AUROC=0.973, train_loss_epoch=-2.8e+5]"
     ]
    },
    {
     "name": "stdout",
     "output_type": "stream",
     "text": [
      "\r",
      "Epoch 7:  70%|███████   | 7/10 [00:02<00:01,  2.44it/s, loss=-2.83e+05, v_num=0, train_loss_step=-3.44e+5, pixel_AUROC=0.973, train_loss_epoch=-2.8e+5]"
     ]
    },
    {
     "name": "stdout",
     "output_type": "stream",
     "text": [
      "\n"
     ]
    },
    {
     "name": "stdout",
     "output_type": "stream",
     "text": [
      "\r",
      "Validation: 0it [00:00, ?it/s]"
     ]
    },
    {
     "name": "stdout",
     "output_type": "stream",
     "text": [
      "\u001b[A"
     ]
    },
    {
     "name": "stdout",
     "output_type": "stream",
     "text": [
      "\n"
     ]
    },
    {
     "name": "stdout",
     "output_type": "stream",
     "text": [
      "\r",
      "Validation:   0%|          | 0/3 [00:00<?, ?it/s]"
     ]
    },
    {
     "name": "stdout",
     "output_type": "stream",
     "text": [
      "\u001b[A"
     ]
    },
    {
     "name": "stdout",
     "output_type": "stream",
     "text": [
      "\n"
     ]
    },
    {
     "name": "stdout",
     "output_type": "stream",
     "text": [
      "\r",
      "Validation DataLoader 0:   0%|          | 0/3 [00:00<?, ?it/s]"
     ]
    },
    {
     "name": "stdout",
     "output_type": "stream",
     "text": [
      "\u001b[A"
     ]
    },
    {
     "name": "stdout",
     "output_type": "stream",
     "text": [
      "\n"
     ]
    },
    {
     "name": "stdout",
     "output_type": "stream",
     "text": [
      "\r",
      "Validation DataLoader 0:  33%|███▎      | 1/3 [00:00<00:00, 10.47it/s]"
     ]
    },
    {
     "name": "stdout",
     "output_type": "stream",
     "text": [
      "\u001b[A"
     ]
    },
    {
     "name": "stdout",
     "output_type": "stream",
     "text": [
      "\r",
      "Epoch 7:  80%|████████  | 8/10 [00:04<00:01,  1.61it/s, loss=-2.83e+05, v_num=0, train_loss_step=-3.44e+5, pixel_AUROC=0.973, train_loss_epoch=-2.8e+5]"
     ]
    },
    {
     "name": "stdout",
     "output_type": "stream",
     "text": [
      "\n"
     ]
    },
    {
     "name": "stdout",
     "output_type": "stream",
     "text": [
      "\r",
      "Validation DataLoader 0:  67%|██████▋   | 2/3 [00:00<00:00, 10.35it/s]"
     ]
    },
    {
     "name": "stdout",
     "output_type": "stream",
     "text": [
      "\u001b[A"
     ]
    },
    {
     "name": "stdout",
     "output_type": "stream",
     "text": [
      "\r",
      "Epoch 7:  90%|█████████ | 9/10 [00:05<00:00,  1.77it/s, loss=-2.83e+05, v_num=0, train_loss_step=-3.44e+5, pixel_AUROC=0.973, train_loss_epoch=-2.8e+5]"
     ]
    },
    {
     "name": "stdout",
     "output_type": "stream",
     "text": [
      "\n"
     ]
    },
    {
     "name": "stdout",
     "output_type": "stream",
     "text": [
      "\r",
      "Validation DataLoader 0: 100%|██████████| 3/3 [00:00<00:00, 11.61it/s]"
     ]
    },
    {
     "name": "stdout",
     "output_type": "stream",
     "text": [
      "\u001b[A"
     ]
    },
    {
     "name": "stdout",
     "output_type": "stream",
     "text": [
      "\r",
      "Epoch 7: 100%|██████████| 10/10 [00:05<00:00,  1.95it/s, loss=-2.83e+05, v_num=0, train_loss_step=-3.44e+5, pixel_AUROC=0.973, train_loss_epoch=-2.8e+5]"
     ]
    },
    {
     "name": "stdout",
     "output_type": "stream",
     "text": [
      "\r",
      "Epoch 7: 100%|██████████| 10/10 [00:05<00:00,  1.70it/s, loss=-2.83e+05, v_num=0, train_loss_step=-3.44e+5, pixel_AUROC=0.973, train_loss_epoch=-2.8e+5]"
     ]
    },
    {
     "name": "stdout",
     "output_type": "stream",
     "text": [
      "\n"
     ]
    },
    {
     "name": "stdout",
     "output_type": "stream",
     "text": [
      "\r",
      "                                                                      "
     ]
    },
    {
     "name": "stdout",
     "output_type": "stream",
     "text": [
      "\u001b[A"
     ]
    },
    {
     "name": "stdout",
     "output_type": "stream",
     "text": [
      "\r",
      "Epoch 7: 100%|██████████| 10/10 [00:05<00:00,  1.70it/s, loss=-2.83e+05, v_num=0, train_loss_step=-3.44e+5, pixel_AUROC=0.973, train_loss_epoch=-3.21e+5]"
     ]
    },
    {
     "name": "stdout",
     "output_type": "stream",
     "text": [
      "\r",
      "Epoch 7:   0%|          | 0/10 [00:00<?, ?it/s, loss=-2.83e+05, v_num=0, train_loss_step=-3.44e+5, pixel_AUROC=0.973, train_loss_epoch=-3.21e+5]         "
     ]
    },
    {
     "name": "stdout",
     "output_type": "stream",
     "text": [
      "\r",
      "Epoch 8:   0%|          | 0/10 [00:00<?, ?it/s, loss=-2.83e+05, v_num=0, train_loss_step=-3.44e+5, pixel_AUROC=0.973, train_loss_epoch=-3.21e+5]"
     ]
    },
    {
     "name": "stdout",
     "output_type": "stream",
     "text": [
      "\r",
      "Epoch 8:  10%|█         | 1/10 [00:02<00:19,  2.21s/it, loss=-2.83e+05, v_num=0, train_loss_step=-3.44e+5, pixel_AUROC=0.973, train_loss_epoch=-3.21e+5]"
     ]
    },
    {
     "name": "stdout",
     "output_type": "stream",
     "text": [
      "\r",
      "Epoch 8:  10%|█         | 1/10 [00:02<00:19,  2.21s/it, loss=-2.89e+05, v_num=0, train_loss_step=-3.45e+5, pixel_AUROC=0.973, train_loss_epoch=-3.21e+5]"
     ]
    },
    {
     "name": "stdout",
     "output_type": "stream",
     "text": [
      "\r",
      "Epoch 8:  20%|██        | 2/10 [00:02<00:09,  1.16s/it, loss=-2.89e+05, v_num=0, train_loss_step=-3.45e+5, pixel_AUROC=0.973, train_loss_epoch=-3.21e+5]"
     ]
    },
    {
     "name": "stdout",
     "output_type": "stream",
     "text": [
      "\r",
      "Epoch 8:  20%|██        | 2/10 [00:02<00:09,  1.17s/it, loss=-2.95e+05, v_num=0, train_loss_step=-3.51e+5, pixel_AUROC=0.973, train_loss_epoch=-3.21e+5]"
     ]
    },
    {
     "name": "stdout",
     "output_type": "stream",
     "text": [
      "\r",
      "Epoch 8:  30%|███       | 3/10 [00:02<00:05,  1.22it/s, loss=-2.95e+05, v_num=0, train_loss_step=-3.51e+5, pixel_AUROC=0.973, train_loss_epoch=-3.21e+5]"
     ]
    },
    {
     "name": "stdout",
     "output_type": "stream",
     "text": [
      "\r",
      "Epoch 8:  30%|███       | 3/10 [00:02<00:05,  1.22it/s, loss=-3.01e+05, v_num=0, train_loss_step=-3.57e+5, pixel_AUROC=0.973, train_loss_epoch=-3.21e+5]"
     ]
    },
    {
     "name": "stdout",
     "output_type": "stream",
     "text": [
      "\r",
      "Epoch 8:  40%|████      | 4/10 [00:02<00:03,  1.55it/s, loss=-3.01e+05, v_num=0, train_loss_step=-3.57e+5, pixel_AUROC=0.973, train_loss_epoch=-3.21e+5]"
     ]
    },
    {
     "name": "stdout",
     "output_type": "stream",
     "text": [
      "\r",
      "Epoch 8:  40%|████      | 4/10 [00:02<00:03,  1.55it/s, loss=-3.07e+05, v_num=0, train_loss_step=-3.6e+5, pixel_AUROC=0.973, train_loss_epoch=-3.21e+5] "
     ]
    },
    {
     "name": "stdout",
     "output_type": "stream",
     "text": [
      "\r",
      "Epoch 8:  50%|█████     | 5/10 [00:02<00:02,  1.85it/s, loss=-3.07e+05, v_num=0, train_loss_step=-3.6e+5, pixel_AUROC=0.973, train_loss_epoch=-3.21e+5]"
     ]
    },
    {
     "name": "stdout",
     "output_type": "stream",
     "text": [
      "\r",
      "Epoch 8:  50%|█████     | 5/10 [00:02<00:02,  1.85it/s, loss=-3.13e+05, v_num=0, train_loss_step=-3.69e+5, pixel_AUROC=0.973, train_loss_epoch=-3.21e+5]"
     ]
    },
    {
     "name": "stdout",
     "output_type": "stream",
     "text": [
      "\r",
      "Epoch 8:  60%|██████    | 6/10 [00:02<00:01,  2.12it/s, loss=-3.13e+05, v_num=0, train_loss_step=-3.69e+5, pixel_AUROC=0.973, train_loss_epoch=-3.21e+5]"
     ]
    },
    {
     "name": "stdout",
     "output_type": "stream",
     "text": [
      "\r",
      "Epoch 8:  60%|██████    | 6/10 [00:02<00:01,  2.12it/s, loss=-3.19e+05, v_num=0, train_loss_step=-3.75e+5, pixel_AUROC=0.973, train_loss_epoch=-3.21e+5]"
     ]
    },
    {
     "name": "stdout",
     "output_type": "stream",
     "text": [
      "\r",
      "Epoch 8:  70%|███████   | 7/10 [00:02<00:01,  2.39it/s, loss=-3.19e+05, v_num=0, train_loss_step=-3.75e+5, pixel_AUROC=0.973, train_loss_epoch=-3.21e+5]"
     ]
    },
    {
     "name": "stdout",
     "output_type": "stream",
     "text": [
      "\r",
      "Epoch 8:  70%|███████   | 7/10 [00:02<00:01,  2.39it/s, loss=-3.25e+05, v_num=0, train_loss_step=-3.8e+5, pixel_AUROC=0.973, train_loss_epoch=-3.21e+5] "
     ]
    },
    {
     "name": "stdout",
     "output_type": "stream",
     "text": [
      "\n"
     ]
    },
    {
     "name": "stdout",
     "output_type": "stream",
     "text": [
      "\r",
      "Validation: 0it [00:00, ?it/s]"
     ]
    },
    {
     "name": "stdout",
     "output_type": "stream",
     "text": [
      "\u001b[A"
     ]
    },
    {
     "name": "stdout",
     "output_type": "stream",
     "text": [
      "\n"
     ]
    },
    {
     "name": "stdout",
     "output_type": "stream",
     "text": [
      "\r",
      "Validation:   0%|          | 0/3 [00:00<?, ?it/s]"
     ]
    },
    {
     "name": "stdout",
     "output_type": "stream",
     "text": [
      "\u001b[A"
     ]
    },
    {
     "name": "stdout",
     "output_type": "stream",
     "text": [
      "\n"
     ]
    },
    {
     "name": "stdout",
     "output_type": "stream",
     "text": [
      "\r",
      "Validation DataLoader 0:   0%|          | 0/3 [00:00<?, ?it/s]"
     ]
    },
    {
     "name": "stdout",
     "output_type": "stream",
     "text": [
      "\u001b[A"
     ]
    },
    {
     "name": "stdout",
     "output_type": "stream",
     "text": [
      "\n"
     ]
    },
    {
     "name": "stdout",
     "output_type": "stream",
     "text": [
      "\r",
      "Validation DataLoader 0:  33%|███▎      | 1/3 [00:00<00:00, 11.47it/s]"
     ]
    },
    {
     "name": "stdout",
     "output_type": "stream",
     "text": [
      "\u001b[A"
     ]
    },
    {
     "name": "stdout",
     "output_type": "stream",
     "text": [
      "\r",
      "Epoch 8:  80%|████████  | 8/10 [00:04<00:01,  1.61it/s, loss=-3.25e+05, v_num=0, train_loss_step=-3.8e+5, pixel_AUROC=0.973, train_loss_epoch=-3.21e+5]"
     ]
    },
    {
     "name": "stdout",
     "output_type": "stream",
     "text": [
      "\n"
     ]
    },
    {
     "name": "stdout",
     "output_type": "stream",
     "text": [
      "\r",
      "Validation DataLoader 0:  67%|██████▋   | 2/3 [00:00<00:00, 10.68it/s]"
     ]
    },
    {
     "name": "stdout",
     "output_type": "stream",
     "text": [
      "\u001b[A"
     ]
    },
    {
     "name": "stdout",
     "output_type": "stream",
     "text": [
      "\r",
      "Epoch 8:  90%|█████████ | 9/10 [00:05<00:00,  1.77it/s, loss=-3.25e+05, v_num=0, train_loss_step=-3.8e+5, pixel_AUROC=0.973, train_loss_epoch=-3.21e+5]"
     ]
    },
    {
     "name": "stdout",
     "output_type": "stream",
     "text": [
      "\n"
     ]
    },
    {
     "name": "stdout",
     "output_type": "stream",
     "text": [
      "\r",
      "Validation DataLoader 0: 100%|██████████| 3/3 [00:00<00:00, 11.75it/s]"
     ]
    },
    {
     "name": "stdout",
     "output_type": "stream",
     "text": [
      "\u001b[A"
     ]
    },
    {
     "name": "stdout",
     "output_type": "stream",
     "text": [
      "\r",
      "Epoch 8: 100%|██████████| 10/10 [00:05<00:00,  1.94it/s, loss=-3.25e+05, v_num=0, train_loss_step=-3.8e+5, pixel_AUROC=0.973, train_loss_epoch=-3.21e+5]"
     ]
    },
    {
     "name": "stdout",
     "output_type": "stream",
     "text": [
      "\r",
      "Epoch 8: 100%|██████████| 10/10 [00:05<00:00,  1.69it/s, loss=-3.25e+05, v_num=0, train_loss_step=-3.8e+5, pixel_AUROC=0.973, train_loss_epoch=-3.21e+5]"
     ]
    },
    {
     "name": "stdout",
     "output_type": "stream",
     "text": [
      "\n"
     ]
    },
    {
     "name": "stdout",
     "output_type": "stream",
     "text": [
      "\r",
      "                                                                      "
     ]
    },
    {
     "name": "stdout",
     "output_type": "stream",
     "text": [
      "\u001b[A"
     ]
    },
    {
     "name": "stdout",
     "output_type": "stream",
     "text": [
      "\r",
      "Epoch 8: 100%|██████████| 10/10 [00:05<00:00,  1.69it/s, loss=-3.25e+05, v_num=0, train_loss_step=-3.8e+5, pixel_AUROC=0.973, train_loss_epoch=-3.61e+5]"
     ]
    },
    {
     "name": "stdout",
     "output_type": "stream",
     "text": [
      "\r",
      "Epoch 8:   0%|          | 0/10 [00:00<?, ?it/s, loss=-3.25e+05, v_num=0, train_loss_step=-3.8e+5, pixel_AUROC=0.973, train_loss_epoch=-3.61e+5]         "
     ]
    },
    {
     "name": "stdout",
     "output_type": "stream",
     "text": [
      "\r",
      "Epoch 9:   0%|          | 0/10 [00:00<?, ?it/s, loss=-3.25e+05, v_num=0, train_loss_step=-3.8e+5, pixel_AUROC=0.973, train_loss_epoch=-3.61e+5]"
     ]
    },
    {
     "name": "stdout",
     "output_type": "stream",
     "text": [
      "\r",
      "Epoch 9:  10%|█         | 1/10 [00:02<00:20,  2.27s/it, loss=-3.25e+05, v_num=0, train_loss_step=-3.8e+5, pixel_AUROC=0.973, train_loss_epoch=-3.61e+5]"
     ]
    },
    {
     "name": "stdout",
     "output_type": "stream",
     "text": [
      "\r",
      "Epoch 9:  10%|█         | 1/10 [00:02<00:20,  2.27s/it, loss=-3.31e+05, v_num=0, train_loss_step=-3.83e+5, pixel_AUROC=0.973, train_loss_epoch=-3.61e+5]"
     ]
    },
    {
     "name": "stdout",
     "output_type": "stream",
     "text": [
      "\r",
      "Epoch 9:  20%|██        | 2/10 [00:02<00:09,  1.20s/it, loss=-3.31e+05, v_num=0, train_loss_step=-3.83e+5, pixel_AUROC=0.973, train_loss_epoch=-3.61e+5]"
     ]
    },
    {
     "name": "stdout",
     "output_type": "stream",
     "text": [
      "\r",
      "Epoch 9:  20%|██        | 2/10 [00:02<00:09,  1.20s/it, loss=-3.37e+05, v_num=0, train_loss_step=-3.88e+5, pixel_AUROC=0.973, train_loss_epoch=-3.61e+5]"
     ]
    },
    {
     "name": "stdout",
     "output_type": "stream",
     "text": [
      "\r",
      "Epoch 9:  30%|███       | 3/10 [00:02<00:05,  1.19it/s, loss=-3.37e+05, v_num=0, train_loss_step=-3.88e+5, pixel_AUROC=0.973, train_loss_epoch=-3.61e+5]"
     ]
    },
    {
     "name": "stdout",
     "output_type": "stream",
     "text": [
      "\r",
      "Epoch 9:  30%|███       | 3/10 [00:02<00:05,  1.19it/s, loss=-3.42e+05, v_num=0, train_loss_step=-3.88e+5, pixel_AUROC=0.973, train_loss_epoch=-3.61e+5]"
     ]
    },
    {
     "name": "stdout",
     "output_type": "stream",
     "text": [
      "\r",
      "Epoch 9:  40%|████      | 4/10 [00:02<00:03,  1.51it/s, loss=-3.42e+05, v_num=0, train_loss_step=-3.88e+5, pixel_AUROC=0.973, train_loss_epoch=-3.61e+5]"
     ]
    },
    {
     "name": "stdout",
     "output_type": "stream",
     "text": [
      "\r",
      "Epoch 9:  40%|████      | 4/10 [00:02<00:03,  1.51it/s, loss=-3.47e+05, v_num=0, train_loss_step=-3.87e+5, pixel_AUROC=0.973, train_loss_epoch=-3.61e+5]"
     ]
    },
    {
     "name": "stdout",
     "output_type": "stream",
     "text": [
      "\r",
      "Epoch 9:  50%|█████     | 5/10 [00:02<00:02,  1.81it/s, loss=-3.47e+05, v_num=0, train_loss_step=-3.87e+5, pixel_AUROC=0.973, train_loss_epoch=-3.61e+5]"
     ]
    },
    {
     "name": "stdout",
     "output_type": "stream",
     "text": [
      "\r",
      "Epoch 9:  50%|█████     | 5/10 [00:02<00:02,  1.81it/s, loss=-3.52e+05, v_num=0, train_loss_step=-4.02e+5, pixel_AUROC=0.973, train_loss_epoch=-3.61e+5]"
     ]
    },
    {
     "name": "stdout",
     "output_type": "stream",
     "text": [
      "\r",
      "Epoch 9:  60%|██████    | 6/10 [00:02<00:01,  2.08it/s, loss=-3.52e+05, v_num=0, train_loss_step=-4.02e+5, pixel_AUROC=0.973, train_loss_epoch=-3.61e+5]"
     ]
    },
    {
     "name": "stdout",
     "output_type": "stream",
     "text": [
      "\r",
      "Epoch 9:  60%|██████    | 6/10 [00:02<00:01,  2.08it/s, loss=-3.57e+05, v_num=0, train_loss_step=-4e+5, pixel_AUROC=0.973, train_loss_epoch=-3.61e+5]   "
     ]
    },
    {
     "name": "stdout",
     "output_type": "stream",
     "text": [
      "\r",
      "Epoch 9:  70%|███████   | 7/10 [00:02<00:01,  2.35it/s, loss=-3.57e+05, v_num=0, train_loss_step=-4e+5, pixel_AUROC=0.973, train_loss_epoch=-3.61e+5]"
     ]
    },
    {
     "name": "stdout",
     "output_type": "stream",
     "text": [
      "\r",
      "Epoch 9:  70%|███████   | 7/10 [00:02<00:01,  2.34it/s, loss=-3.62e+05, v_num=0, train_loss_step=-4.06e+5, pixel_AUROC=0.973, train_loss_epoch=-3.61e+5]"
     ]
    },
    {
     "name": "stdout",
     "output_type": "stream",
     "text": [
      "\n"
     ]
    },
    {
     "name": "stdout",
     "output_type": "stream",
     "text": [
      "\r",
      "Validation: 0it [00:00, ?it/s]"
     ]
    },
    {
     "name": "stdout",
     "output_type": "stream",
     "text": [
      "\u001b[A"
     ]
    },
    {
     "name": "stdout",
     "output_type": "stream",
     "text": [
      "\n"
     ]
    },
    {
     "name": "stdout",
     "output_type": "stream",
     "text": [
      "\r",
      "Validation:   0%|          | 0/3 [00:00<?, ?it/s]"
     ]
    },
    {
     "name": "stdout",
     "output_type": "stream",
     "text": [
      "\u001b[A"
     ]
    },
    {
     "name": "stdout",
     "output_type": "stream",
     "text": [
      "\n"
     ]
    },
    {
     "name": "stdout",
     "output_type": "stream",
     "text": [
      "\r",
      "Validation DataLoader 0:   0%|          | 0/3 [00:00<?, ?it/s]"
     ]
    },
    {
     "name": "stdout",
     "output_type": "stream",
     "text": [
      "\u001b[A"
     ]
    },
    {
     "name": "stdout",
     "output_type": "stream",
     "text": [
      "\n"
     ]
    },
    {
     "name": "stdout",
     "output_type": "stream",
     "text": [
      "\r",
      "Validation DataLoader 0:  33%|███▎      | 1/3 [00:00<00:00, 10.02it/s]"
     ]
    },
    {
     "name": "stdout",
     "output_type": "stream",
     "text": [
      "\u001b[A"
     ]
    },
    {
     "name": "stdout",
     "output_type": "stream",
     "text": [
      "\r",
      "Epoch 9:  80%|████████  | 8/10 [00:05<00:01,  1.57it/s, loss=-3.62e+05, v_num=0, train_loss_step=-4.06e+5, pixel_AUROC=0.973, train_loss_epoch=-3.61e+5]"
     ]
    },
    {
     "name": "stdout",
     "output_type": "stream",
     "text": [
      "\n"
     ]
    },
    {
     "name": "stdout",
     "output_type": "stream",
     "text": [
      "\r",
      "Validation DataLoader 0:  67%|██████▋   | 2/3 [00:00<00:00,  9.89it/s]"
     ]
    },
    {
     "name": "stdout",
     "output_type": "stream",
     "text": [
      "\u001b[A"
     ]
    },
    {
     "name": "stdout",
     "output_type": "stream",
     "text": [
      "\r",
      "Epoch 9:  90%|█████████ | 9/10 [00:05<00:00,  1.73it/s, loss=-3.62e+05, v_num=0, train_loss_step=-4.06e+5, pixel_AUROC=0.973, train_loss_epoch=-3.61e+5]"
     ]
    },
    {
     "name": "stdout",
     "output_type": "stream",
     "text": [
      "\n"
     ]
    },
    {
     "name": "stdout",
     "output_type": "stream",
     "text": [
      "\r",
      "Validation DataLoader 0: 100%|██████████| 3/3 [00:00<00:00, 11.21it/s]"
     ]
    },
    {
     "name": "stdout",
     "output_type": "stream",
     "text": [
      "\u001b[A"
     ]
    },
    {
     "name": "stdout",
     "output_type": "stream",
     "text": [
      "\r",
      "Epoch 9: 100%|██████████| 10/10 [00:05<00:00,  1.89it/s, loss=-3.62e+05, v_num=0, train_loss_step=-4.06e+5, pixel_AUROC=0.973, train_loss_epoch=-3.61e+5]"
     ]
    },
    {
     "name": "stdout",
     "output_type": "stream",
     "text": [
      "\r",
      "Epoch 9: 100%|██████████| 10/10 [00:06<00:00,  1.66it/s, loss=-3.62e+05, v_num=0, train_loss_step=-4.06e+5, pixel_AUROC=0.974, train_loss_epoch=-3.61e+5]"
     ]
    },
    {
     "name": "stdout",
     "output_type": "stream",
     "text": [
      "\n"
     ]
    },
    {
     "name": "stdout",
     "output_type": "stream",
     "text": [
      "\r",
      "                                                                      "
     ]
    },
    {
     "name": "stdout",
     "output_type": "stream",
     "text": [
      "\u001b[A"
     ]
    },
    {
     "name": "stdout",
     "output_type": "stream",
     "text": [
      "\r",
      "Epoch 9: 100%|██████████| 10/10 [00:06<00:00,  1.66it/s, loss=-3.62e+05, v_num=0, train_loss_step=-4.06e+5, pixel_AUROC=0.974, train_loss_epoch=-3.93e+5]"
     ]
    },
    {
     "name": "stdout",
     "output_type": "stream",
     "text": [
      "\r",
      "Epoch 9:   0%|          | 0/10 [00:00<?, ?it/s, loss=-3.62e+05, v_num=0, train_loss_step=-4.06e+5, pixel_AUROC=0.974, train_loss_epoch=-3.93e+5]         "
     ]
    },
    {
     "name": "stdout",
     "output_type": "stream",
     "text": [
      "\r",
      "Epoch 10:   0%|          | 0/10 [00:00<?, ?it/s, loss=-3.62e+05, v_num=0, train_loss_step=-4.06e+5, pixel_AUROC=0.974, train_loss_epoch=-3.93e+5]"
     ]
    },
    {
     "name": "stdout",
     "output_type": "stream",
     "text": [
      "\r",
      "Epoch 10:  10%|█         | 1/10 [00:02<00:20,  2.25s/it, loss=-3.62e+05, v_num=0, train_loss_step=-4.06e+5, pixel_AUROC=0.974, train_loss_epoch=-3.93e+5]"
     ]
    },
    {
     "name": "stdout",
     "output_type": "stream",
     "text": [
      "\r",
      "Epoch 10:  10%|█         | 1/10 [00:02<00:20,  2.25s/it, loss=-3.67e+05, v_num=0, train_loss_step=-4.09e+5, pixel_AUROC=0.974, train_loss_epoch=-3.93e+5]"
     ]
    },
    {
     "name": "stdout",
     "output_type": "stream",
     "text": [
      "\r",
      "Epoch 10:  20%|██        | 2/10 [00:02<00:09,  1.19s/it, loss=-3.67e+05, v_num=0, train_loss_step=-4.09e+5, pixel_AUROC=0.974, train_loss_epoch=-3.93e+5]"
     ]
    },
    {
     "name": "stdout",
     "output_type": "stream",
     "text": [
      "\r",
      "Epoch 10:  20%|██        | 2/10 [00:02<00:09,  1.19s/it, loss=-3.72e+05, v_num=0, train_loss_step=-4.19e+5, pixel_AUROC=0.974, train_loss_epoch=-3.93e+5]"
     ]
    },
    {
     "name": "stdout",
     "output_type": "stream",
     "text": [
      "\r",
      "Epoch 10:  30%|███       | 3/10 [00:02<00:05,  1.20it/s, loss=-3.72e+05, v_num=0, train_loss_step=-4.19e+5, pixel_AUROC=0.974, train_loss_epoch=-3.93e+5]"
     ]
    },
    {
     "name": "stdout",
     "output_type": "stream",
     "text": [
      "\r",
      "Epoch 10:  30%|███       | 3/10 [00:02<00:05,  1.20it/s, loss=-3.77e+05, v_num=0, train_loss_step=-4.19e+5, pixel_AUROC=0.974, train_loss_epoch=-3.93e+5]"
     ]
    },
    {
     "name": "stdout",
     "output_type": "stream",
     "text": [
      "\r",
      "Epoch 10:  40%|████      | 4/10 [00:02<00:03,  1.53it/s, loss=-3.77e+05, v_num=0, train_loss_step=-4.19e+5, pixel_AUROC=0.974, train_loss_epoch=-3.93e+5]"
     ]
    },
    {
     "name": "stdout",
     "output_type": "stream",
     "text": [
      "\r",
      "Epoch 10:  40%|████      | 4/10 [00:02<00:03,  1.53it/s, loss=-3.82e+05, v_num=0, train_loss_step=-4.23e+5, pixel_AUROC=0.974, train_loss_epoch=-3.93e+5]"
     ]
    },
    {
     "name": "stdout",
     "output_type": "stream",
     "text": [
      "\r",
      "Epoch 10:  50%|█████     | 5/10 [00:02<00:02,  1.83it/s, loss=-3.82e+05, v_num=0, train_loss_step=-4.23e+5, pixel_AUROC=0.974, train_loss_epoch=-3.93e+5]"
     ]
    },
    {
     "name": "stdout",
     "output_type": "stream",
     "text": [
      "\r",
      "Epoch 10:  50%|█████     | 5/10 [00:02<00:02,  1.83it/s, loss=-3.87e+05, v_num=0, train_loss_step=-4.32e+5, pixel_AUROC=0.974, train_loss_epoch=-3.93e+5]"
     ]
    },
    {
     "name": "stdout",
     "output_type": "stream",
     "text": [
      "\r",
      "Epoch 10:  60%|██████    | 6/10 [00:02<00:01,  2.10it/s, loss=-3.87e+05, v_num=0, train_loss_step=-4.32e+5, pixel_AUROC=0.974, train_loss_epoch=-3.93e+5]"
     ]
    },
    {
     "name": "stdout",
     "output_type": "stream",
     "text": [
      "\r",
      "Epoch 10:  60%|██████    | 6/10 [00:02<00:01,  2.10it/s, loss=-3.91e+05, v_num=0, train_loss_step=-4.35e+5, pixel_AUROC=0.974, train_loss_epoch=-3.93e+5]"
     ]
    },
    {
     "name": "stdout",
     "output_type": "stream",
     "text": [
      "\r",
      "Epoch 10:  70%|███████   | 7/10 [00:02<00:01,  2.37it/s, loss=-3.91e+05, v_num=0, train_loss_step=-4.35e+5, pixel_AUROC=0.974, train_loss_epoch=-3.93e+5]"
     ]
    },
    {
     "name": "stdout",
     "output_type": "stream",
     "text": [
      "\r",
      "Epoch 10:  70%|███████   | 7/10 [00:02<00:01,  2.37it/s, loss=-3.96e+05, v_num=0, train_loss_step=-4.42e+5, pixel_AUROC=0.974, train_loss_epoch=-3.93e+5]"
     ]
    },
    {
     "name": "stdout",
     "output_type": "stream",
     "text": [
      "\n"
     ]
    },
    {
     "name": "stdout",
     "output_type": "stream",
     "text": [
      "\r",
      "Validation: 0it [00:00, ?it/s]"
     ]
    },
    {
     "name": "stdout",
     "output_type": "stream",
     "text": [
      "\u001b[A"
     ]
    },
    {
     "name": "stdout",
     "output_type": "stream",
     "text": [
      "\n"
     ]
    },
    {
     "name": "stdout",
     "output_type": "stream",
     "text": [
      "\r",
      "Validation:   0%|          | 0/3 [00:00<?, ?it/s]"
     ]
    },
    {
     "name": "stdout",
     "output_type": "stream",
     "text": [
      "\u001b[A"
     ]
    },
    {
     "name": "stdout",
     "output_type": "stream",
     "text": [
      "\n"
     ]
    },
    {
     "name": "stdout",
     "output_type": "stream",
     "text": [
      "\r",
      "Validation DataLoader 0:   0%|          | 0/3 [00:00<?, ?it/s]"
     ]
    },
    {
     "name": "stdout",
     "output_type": "stream",
     "text": [
      "\u001b[A"
     ]
    },
    {
     "name": "stdout",
     "output_type": "stream",
     "text": [
      "\n"
     ]
    },
    {
     "name": "stdout",
     "output_type": "stream",
     "text": [
      "\r",
      "Validation DataLoader 0:  33%|███▎      | 1/3 [00:00<00:00, 11.02it/s]"
     ]
    },
    {
     "name": "stdout",
     "output_type": "stream",
     "text": [
      "\u001b[A"
     ]
    },
    {
     "name": "stdout",
     "output_type": "stream",
     "text": [
      "\r",
      "Epoch 10:  80%|████████  | 8/10 [00:05<00:01,  1.60it/s, loss=-3.96e+05, v_num=0, train_loss_step=-4.42e+5, pixel_AUROC=0.974, train_loss_epoch=-3.93e+5]"
     ]
    },
    {
     "name": "stdout",
     "output_type": "stream",
     "text": [
      "\n"
     ]
    },
    {
     "name": "stdout",
     "output_type": "stream",
     "text": [
      "\r",
      "Validation DataLoader 0:  67%|██████▋   | 2/3 [00:00<00:00, 10.48it/s]"
     ]
    },
    {
     "name": "stdout",
     "output_type": "stream",
     "text": [
      "\u001b[A"
     ]
    },
    {
     "name": "stdout",
     "output_type": "stream",
     "text": [
      "\r",
      "Epoch 10:  90%|█████████ | 9/10 [00:05<00:00,  1.76it/s, loss=-3.96e+05, v_num=0, train_loss_step=-4.42e+5, pixel_AUROC=0.974, train_loss_epoch=-3.93e+5]"
     ]
    },
    {
     "name": "stdout",
     "output_type": "stream",
     "text": [
      "\n"
     ]
    },
    {
     "name": "stdout",
     "output_type": "stream",
     "text": [
      "\r",
      "Validation DataLoader 0: 100%|██████████| 3/3 [00:00<00:00, 11.87it/s]"
     ]
    },
    {
     "name": "stdout",
     "output_type": "stream",
     "text": [
      "\u001b[A"
     ]
    },
    {
     "name": "stdout",
     "output_type": "stream",
     "text": [
      "\r",
      "Epoch 10: 100%|██████████| 10/10 [00:05<00:00,  1.94it/s, loss=-3.96e+05, v_num=0, train_loss_step=-4.42e+5, pixel_AUROC=0.974, train_loss_epoch=-3.93e+5]"
     ]
    },
    {
     "name": "stdout",
     "output_type": "stream",
     "text": [
      "\r",
      "Epoch 10: 100%|██████████| 10/10 [00:05<00:00,  1.69it/s, loss=-3.96e+05, v_num=0, train_loss_step=-4.42e+5, pixel_AUROC=0.975, train_loss_epoch=-3.93e+5]"
     ]
    },
    {
     "name": "stdout",
     "output_type": "stream",
     "text": [
      "\n"
     ]
    },
    {
     "name": "stdout",
     "output_type": "stream",
     "text": [
      "\r",
      "                                                                      "
     ]
    },
    {
     "name": "stdout",
     "output_type": "stream",
     "text": [
      "\u001b[A"
     ]
    },
    {
     "name": "stdout",
     "output_type": "stream",
     "text": [
      "\r",
      "Epoch 10: 100%|██████████| 10/10 [00:05<00:00,  1.68it/s, loss=-3.96e+05, v_num=0, train_loss_step=-4.42e+5, pixel_AUROC=0.975, train_loss_epoch=-4.25e+5]"
     ]
    },
    {
     "name": "stdout",
     "output_type": "stream",
     "text": [
      "\r",
      "Epoch 10:   0%|          | 0/10 [00:00<?, ?it/s, loss=-3.96e+05, v_num=0, train_loss_step=-4.42e+5, pixel_AUROC=0.975, train_loss_epoch=-4.25e+5]         "
     ]
    },
    {
     "name": "stdout",
     "output_type": "stream",
     "text": [
      "\r",
      "Epoch 11:   0%|          | 0/10 [00:00<?, ?it/s, loss=-3.96e+05, v_num=0, train_loss_step=-4.42e+5, pixel_AUROC=0.975, train_loss_epoch=-4.25e+5]"
     ]
    },
    {
     "name": "stdout",
     "output_type": "stream",
     "text": [
      "\r",
      "Epoch 11:  10%|█         | 1/10 [00:02<00:20,  2.24s/it, loss=-3.96e+05, v_num=0, train_loss_step=-4.42e+5, pixel_AUROC=0.975, train_loss_epoch=-4.25e+5]"
     ]
    },
    {
     "name": "stdout",
     "output_type": "stream",
     "text": [
      "\r",
      "Epoch 11:  10%|█         | 1/10 [00:02<00:20,  2.24s/it, loss=-4.01e+05, v_num=0, train_loss_step=-4.42e+5, pixel_AUROC=0.975, train_loss_epoch=-4.25e+5]"
     ]
    },
    {
     "name": "stdout",
     "output_type": "stream",
     "text": [
      "\r",
      "Epoch 11:  20%|██        | 2/10 [00:02<00:09,  1.18s/it, loss=-4.01e+05, v_num=0, train_loss_step=-4.42e+5, pixel_AUROC=0.975, train_loss_epoch=-4.25e+5]"
     ]
    },
    {
     "name": "stdout",
     "output_type": "stream",
     "text": [
      "\r",
      "Epoch 11:  20%|██        | 2/10 [00:02<00:09,  1.18s/it, loss=-4.05e+05, v_num=0, train_loss_step=-4.48e+5, pixel_AUROC=0.975, train_loss_epoch=-4.25e+5]"
     ]
    },
    {
     "name": "stdout",
     "output_type": "stream",
     "text": [
      "\r",
      "Epoch 11:  30%|███       | 3/10 [00:02<00:05,  1.21it/s, loss=-4.05e+05, v_num=0, train_loss_step=-4.48e+5, pixel_AUROC=0.975, train_loss_epoch=-4.25e+5]"
     ]
    },
    {
     "name": "stdout",
     "output_type": "stream",
     "text": [
      "\r",
      "Epoch 11:  30%|███       | 3/10 [00:02<00:05,  1.21it/s, loss=-4.1e+05, v_num=0, train_loss_step=-4.56e+5, pixel_AUROC=0.975, train_loss_epoch=-4.25e+5] "
     ]
    },
    {
     "name": "stdout",
     "output_type": "stream",
     "text": [
      "\r",
      "Epoch 11:  40%|████      | 4/10 [00:02<00:03,  1.53it/s, loss=-4.1e+05, v_num=0, train_loss_step=-4.56e+5, pixel_AUROC=0.975, train_loss_epoch=-4.25e+5]"
     ]
    },
    {
     "name": "stdout",
     "output_type": "stream",
     "text": [
      "\r",
      "Epoch 11:  40%|████      | 4/10 [00:02<00:03,  1.53it/s, loss=-4.15e+05, v_num=0, train_loss_step=-4.59e+5, pixel_AUROC=0.975, train_loss_epoch=-4.25e+5]"
     ]
    },
    {
     "name": "stdout",
     "output_type": "stream",
     "text": [
      "\r",
      "Epoch 11:  50%|█████     | 5/10 [00:02<00:02,  1.83it/s, loss=-4.15e+05, v_num=0, train_loss_step=-4.59e+5, pixel_AUROC=0.975, train_loss_epoch=-4.25e+5]"
     ]
    },
    {
     "name": "stdout",
     "output_type": "stream",
     "text": [
      "\r",
      "Epoch 11:  50%|█████     | 5/10 [00:02<00:02,  1.83it/s, loss=-4.19e+05, v_num=0, train_loss_step=-4.57e+5, pixel_AUROC=0.975, train_loss_epoch=-4.25e+5]"
     ]
    },
    {
     "name": "stdout",
     "output_type": "stream",
     "text": [
      "\r",
      "Epoch 11:  60%|██████    | 6/10 [00:02<00:01,  2.10it/s, loss=-4.19e+05, v_num=0, train_loss_step=-4.57e+5, pixel_AUROC=0.975, train_loss_epoch=-4.25e+5]"
     ]
    },
    {
     "name": "stdout",
     "output_type": "stream",
     "text": [
      "\r",
      "Epoch 11:  60%|██████    | 6/10 [00:02<00:01,  2.10it/s, loss=-4.23e+05, v_num=0, train_loss_step=-4.62e+5, pixel_AUROC=0.975, train_loss_epoch=-4.25e+5]"
     ]
    },
    {
     "name": "stdout",
     "output_type": "stream",
     "text": [
      "\r",
      "Epoch 11:  70%|███████   | 7/10 [00:02<00:01,  2.37it/s, loss=-4.23e+05, v_num=0, train_loss_step=-4.62e+5, pixel_AUROC=0.975, train_loss_epoch=-4.25e+5]"
     ]
    },
    {
     "name": "stdout",
     "output_type": "stream",
     "text": [
      "\r",
      "Epoch 11:  70%|███████   | 7/10 [00:02<00:01,  2.37it/s, loss=-4.27e+05, v_num=0, train_loss_step=-4.68e+5, pixel_AUROC=0.975, train_loss_epoch=-4.25e+5]"
     ]
    },
    {
     "name": "stdout",
     "output_type": "stream",
     "text": [
      "\n"
     ]
    },
    {
     "name": "stdout",
     "output_type": "stream",
     "text": [
      "\r",
      "Validation: 0it [00:00, ?it/s]"
     ]
    },
    {
     "name": "stdout",
     "output_type": "stream",
     "text": [
      "\u001b[A"
     ]
    },
    {
     "name": "stdout",
     "output_type": "stream",
     "text": [
      "\n"
     ]
    },
    {
     "name": "stdout",
     "output_type": "stream",
     "text": [
      "\r",
      "Validation:   0%|          | 0/3 [00:00<?, ?it/s]"
     ]
    },
    {
     "name": "stdout",
     "output_type": "stream",
     "text": [
      "\u001b[A"
     ]
    },
    {
     "name": "stdout",
     "output_type": "stream",
     "text": [
      "\n"
     ]
    },
    {
     "name": "stdout",
     "output_type": "stream",
     "text": [
      "\r",
      "Validation DataLoader 0:   0%|          | 0/3 [00:00<?, ?it/s]"
     ]
    },
    {
     "name": "stdout",
     "output_type": "stream",
     "text": [
      "\u001b[A"
     ]
    },
    {
     "name": "stdout",
     "output_type": "stream",
     "text": [
      "\n"
     ]
    },
    {
     "name": "stdout",
     "output_type": "stream",
     "text": [
      "\r",
      "Validation DataLoader 0:  33%|███▎      | 1/3 [00:00<00:00, 11.46it/s]"
     ]
    },
    {
     "name": "stdout",
     "output_type": "stream",
     "text": [
      "\u001b[A"
     ]
    },
    {
     "name": "stdout",
     "output_type": "stream",
     "text": [
      "\r",
      "Epoch 11:  80%|████████  | 8/10 [00:05<00:01,  1.57it/s, loss=-4.27e+05, v_num=0, train_loss_step=-4.68e+5, pixel_AUROC=0.975, train_loss_epoch=-4.25e+5]"
     ]
    },
    {
     "name": "stdout",
     "output_type": "stream",
     "text": [
      "\n"
     ]
    },
    {
     "name": "stdout",
     "output_type": "stream",
     "text": [
      "\r",
      "Validation DataLoader 0:  67%|██████▋   | 2/3 [00:00<00:00, 10.54it/s]"
     ]
    },
    {
     "name": "stdout",
     "output_type": "stream",
     "text": [
      "\u001b[A"
     ]
    },
    {
     "name": "stdout",
     "output_type": "stream",
     "text": [
      "\r",
      "Epoch 11:  90%|█████████ | 9/10 [00:05<00:00,  1.73it/s, loss=-4.27e+05, v_num=0, train_loss_step=-4.68e+5, pixel_AUROC=0.975, train_loss_epoch=-4.25e+5]"
     ]
    },
    {
     "name": "stdout",
     "output_type": "stream",
     "text": [
      "\n"
     ]
    },
    {
     "name": "stdout",
     "output_type": "stream",
     "text": [
      "\r",
      "Validation DataLoader 0: 100%|██████████| 3/3 [00:00<00:00, 11.88it/s]"
     ]
    },
    {
     "name": "stdout",
     "output_type": "stream",
     "text": [
      "\u001b[A"
     ]
    },
    {
     "name": "stdout",
     "output_type": "stream",
     "text": [
      "\r",
      "Epoch 11: 100%|██████████| 10/10 [00:05<00:00,  1.90it/s, loss=-4.27e+05, v_num=0, train_loss_step=-4.68e+5, pixel_AUROC=0.975, train_loss_epoch=-4.25e+5]"
     ]
    },
    {
     "name": "stdout",
     "output_type": "stream",
     "text": [
      "\r",
      "Epoch 11: 100%|██████████| 10/10 [00:06<00:00,  1.66it/s, loss=-4.27e+05, v_num=0, train_loss_step=-4.68e+5, pixel_AUROC=0.975, train_loss_epoch=-4.25e+5]"
     ]
    },
    {
     "name": "stdout",
     "output_type": "stream",
     "text": [
      "\n"
     ]
    },
    {
     "name": "stdout",
     "output_type": "stream",
     "text": [
      "\r",
      "                                                                      "
     ]
    },
    {
     "name": "stdout",
     "output_type": "stream",
     "text": [
      "\u001b[A"
     ]
    },
    {
     "name": "stdout",
     "output_type": "stream",
     "text": [
      "\r",
      "Epoch 11: 100%|██████████| 10/10 [00:06<00:00,  1.66it/s, loss=-4.27e+05, v_num=0, train_loss_step=-4.68e+5, pixel_AUROC=0.975, train_loss_epoch=-4.55e+5]"
     ]
    },
    {
     "name": "stdout",
     "output_type": "stream",
     "text": [
      "\r",
      "Epoch 11:   0%|          | 0/10 [00:00<?, ?it/s, loss=-4.27e+05, v_num=0, train_loss_step=-4.68e+5, pixel_AUROC=0.975, train_loss_epoch=-4.55e+5]         "
     ]
    },
    {
     "name": "stdout",
     "output_type": "stream",
     "text": [
      "\r",
      "Epoch 12:   0%|          | 0/10 [00:00<?, ?it/s, loss=-4.27e+05, v_num=0, train_loss_step=-4.68e+5, pixel_AUROC=0.975, train_loss_epoch=-4.55e+5]"
     ]
    },
    {
     "name": "stdout",
     "output_type": "stream",
     "text": [
      "\r",
      "Epoch 12:  10%|█         | 1/10 [00:02<00:19,  2.22s/it, loss=-4.27e+05, v_num=0, train_loss_step=-4.68e+5, pixel_AUROC=0.975, train_loss_epoch=-4.55e+5]"
     ]
    },
    {
     "name": "stdout",
     "output_type": "stream",
     "text": [
      "\r",
      "Epoch 12:  10%|█         | 1/10 [00:02<00:19,  2.22s/it, loss=-4.31e+05, v_num=0, train_loss_step=-4.74e+5, pixel_AUROC=0.975, train_loss_epoch=-4.55e+5]"
     ]
    },
    {
     "name": "stdout",
     "output_type": "stream",
     "text": [
      "\r",
      "Epoch 12:  20%|██        | 2/10 [00:02<00:09,  1.17s/it, loss=-4.31e+05, v_num=0, train_loss_step=-4.74e+5, pixel_AUROC=0.975, train_loss_epoch=-4.55e+5]"
     ]
    },
    {
     "name": "stdout",
     "output_type": "stream",
     "text": [
      "\r",
      "Epoch 12:  20%|██        | 2/10 [00:02<00:09,  1.17s/it, loss=-4.36e+05, v_num=0, train_loss_step=-4.79e+5, pixel_AUROC=0.975, train_loss_epoch=-4.55e+5]"
     ]
    },
    {
     "name": "stdout",
     "output_type": "stream",
     "text": [
      "\r",
      "Epoch 12:  30%|███       | 3/10 [00:02<00:05,  1.23it/s, loss=-4.36e+05, v_num=0, train_loss_step=-4.79e+5, pixel_AUROC=0.975, train_loss_epoch=-4.55e+5]"
     ]
    },
    {
     "name": "stdout",
     "output_type": "stream",
     "text": [
      "\r",
      "Epoch 12:  30%|███       | 3/10 [00:02<00:05,  1.23it/s, loss=-4.41e+05, v_num=0, train_loss_step=-4.9e+5, pixel_AUROC=0.975, train_loss_epoch=-4.55e+5] "
     ]
    },
    {
     "name": "stdout",
     "output_type": "stream",
     "text": [
      "\r",
      "Epoch 12:  40%|████      | 4/10 [00:02<00:03,  1.57it/s, loss=-4.41e+05, v_num=0, train_loss_step=-4.9e+5, pixel_AUROC=0.975, train_loss_epoch=-4.55e+5]"
     ]
    },
    {
     "name": "stdout",
     "output_type": "stream",
     "text": [
      "\r",
      "Epoch 12:  40%|████      | 4/10 [00:02<00:03,  1.56it/s, loss=-4.45e+05, v_num=0, train_loss_step=-4.82e+5, pixel_AUROC=0.975, train_loss_epoch=-4.55e+5]"
     ]
    },
    {
     "name": "stdout",
     "output_type": "stream",
     "text": [
      "\r",
      "Epoch 12:  50%|█████     | 5/10 [00:02<00:02,  1.87it/s, loss=-4.45e+05, v_num=0, train_loss_step=-4.82e+5, pixel_AUROC=0.975, train_loss_epoch=-4.55e+5]"
     ]
    },
    {
     "name": "stdout",
     "output_type": "stream",
     "text": [
      "\r",
      "Epoch 12:  50%|█████     | 5/10 [00:02<00:02,  1.87it/s, loss=-4.49e+05, v_num=0, train_loss_step=-4.77e+5, pixel_AUROC=0.975, train_loss_epoch=-4.55e+5]"
     ]
    },
    {
     "name": "stdout",
     "output_type": "stream",
     "text": [
      "\r",
      "Epoch 12:  60%|██████    | 6/10 [00:02<00:01,  2.16it/s, loss=-4.49e+05, v_num=0, train_loss_step=-4.77e+5, pixel_AUROC=0.975, train_loss_epoch=-4.55e+5]"
     ]
    },
    {
     "name": "stdout",
     "output_type": "stream",
     "text": [
      "\r",
      "Epoch 12:  60%|██████    | 6/10 [00:02<00:01,  2.16it/s, loss=-4.53e+05, v_num=0, train_loss_step=-4.77e+5, pixel_AUROC=0.975, train_loss_epoch=-4.55e+5]"
     ]
    },
    {
     "name": "stdout",
     "output_type": "stream",
     "text": [
      "\r",
      "Epoch 12:  70%|███████   | 7/10 [00:02<00:01,  2.45it/s, loss=-4.53e+05, v_num=0, train_loss_step=-4.77e+5, pixel_AUROC=0.975, train_loss_epoch=-4.55e+5]"
     ]
    },
    {
     "name": "stdout",
     "output_type": "stream",
     "text": [
      "\r",
      "Epoch 12:  70%|███████   | 7/10 [00:02<00:01,  2.45it/s, loss=-4.57e+05, v_num=0, train_loss_step=-4.89e+5, pixel_AUROC=0.975, train_loss_epoch=-4.55e+5]"
     ]
    },
    {
     "name": "stdout",
     "output_type": "stream",
     "text": [
      "\n"
     ]
    },
    {
     "name": "stdout",
     "output_type": "stream",
     "text": [
      "\r",
      "Validation: 0it [00:00, ?it/s]"
     ]
    },
    {
     "name": "stdout",
     "output_type": "stream",
     "text": [
      "\u001b[A"
     ]
    },
    {
     "name": "stdout",
     "output_type": "stream",
     "text": [
      "\n"
     ]
    },
    {
     "name": "stdout",
     "output_type": "stream",
     "text": [
      "\r",
      "Validation:   0%|          | 0/3 [00:00<?, ?it/s]"
     ]
    },
    {
     "name": "stdout",
     "output_type": "stream",
     "text": [
      "\u001b[A"
     ]
    },
    {
     "name": "stdout",
     "output_type": "stream",
     "text": [
      "\n"
     ]
    },
    {
     "name": "stdout",
     "output_type": "stream",
     "text": [
      "\r",
      "Validation DataLoader 0:   0%|          | 0/3 [00:00<?, ?it/s]"
     ]
    },
    {
     "name": "stdout",
     "output_type": "stream",
     "text": [
      "\u001b[A"
     ]
    },
    {
     "name": "stdout",
     "output_type": "stream",
     "text": [
      "\n"
     ]
    },
    {
     "name": "stdout",
     "output_type": "stream",
     "text": [
      "\r",
      "Validation DataLoader 0:  33%|███▎      | 1/3 [00:00<00:00, 11.38it/s]"
     ]
    },
    {
     "name": "stdout",
     "output_type": "stream",
     "text": [
      "\u001b[A"
     ]
    },
    {
     "name": "stdout",
     "output_type": "stream",
     "text": [
      "\r",
      "Epoch 12:  80%|████████  | 8/10 [00:04<00:01,  1.62it/s, loss=-4.57e+05, v_num=0, train_loss_step=-4.89e+5, pixel_AUROC=0.975, train_loss_epoch=-4.55e+5]"
     ]
    },
    {
     "name": "stdout",
     "output_type": "stream",
     "text": [
      "\n"
     ]
    },
    {
     "name": "stdout",
     "output_type": "stream",
     "text": [
      "\r",
      "Validation DataLoader 0:  67%|██████▋   | 2/3 [00:00<00:00, 10.30it/s]"
     ]
    },
    {
     "name": "stdout",
     "output_type": "stream",
     "text": [
      "\u001b[A"
     ]
    },
    {
     "name": "stdout",
     "output_type": "stream",
     "text": [
      "\r",
      "Epoch 12:  90%|█████████ | 9/10 [00:05<00:00,  1.79it/s, loss=-4.57e+05, v_num=0, train_loss_step=-4.89e+5, pixel_AUROC=0.975, train_loss_epoch=-4.55e+5]"
     ]
    },
    {
     "name": "stdout",
     "output_type": "stream",
     "text": [
      "\n"
     ]
    },
    {
     "name": "stdout",
     "output_type": "stream",
     "text": [
      "\r",
      "Validation DataLoader 0: 100%|██████████| 3/3 [00:00<00:00, 11.43it/s]"
     ]
    },
    {
     "name": "stdout",
     "output_type": "stream",
     "text": [
      "\u001b[A"
     ]
    },
    {
     "name": "stdout",
     "output_type": "stream",
     "text": [
      "\r",
      "Epoch 12: 100%|██████████| 10/10 [00:05<00:00,  1.96it/s, loss=-4.57e+05, v_num=0, train_loss_step=-4.89e+5, pixel_AUROC=0.975, train_loss_epoch=-4.55e+5]"
     ]
    },
    {
     "name": "stdout",
     "output_type": "stream",
     "text": [
      "\r",
      "Epoch 12: 100%|██████████| 10/10 [00:05<00:00,  1.71it/s, loss=-4.57e+05, v_num=0, train_loss_step=-4.89e+5, pixel_AUROC=0.974, train_loss_epoch=-4.55e+5]"
     ]
    },
    {
     "name": "stdout",
     "output_type": "stream",
     "text": [
      "\n"
     ]
    },
    {
     "name": "stdout",
     "output_type": "stream",
     "text": [
      "\r",
      "                                                                      "
     ]
    },
    {
     "name": "stdout",
     "output_type": "stream",
     "text": [
      "\u001b[A"
     ]
    },
    {
     "name": "stdout",
     "output_type": "stream",
     "text": [
      "\r",
      "Epoch 12: 100%|██████████| 10/10 [00:05<00:00,  1.71it/s, loss=-4.57e+05, v_num=0, train_loss_step=-4.89e+5, pixel_AUROC=0.974, train_loss_epoch=-4.81e+5]"
     ]
    },
    {
     "name": "stdout",
     "output_type": "stream",
     "text": [
      "\r",
      "Epoch 12:   0%|          | 0/10 [00:00<?, ?it/s, loss=-4.57e+05, v_num=0, train_loss_step=-4.89e+5, pixel_AUROC=0.974, train_loss_epoch=-4.81e+5]         "
     ]
    },
    {
     "name": "stdout",
     "output_type": "stream",
     "text": [
      "\r",
      "Epoch 13:   0%|          | 0/10 [00:00<?, ?it/s, loss=-4.57e+05, v_num=0, train_loss_step=-4.89e+5, pixel_AUROC=0.974, train_loss_epoch=-4.81e+5]"
     ]
    },
    {
     "name": "stdout",
     "output_type": "stream",
     "text": [
      "\r",
      "Epoch 13:  10%|█         | 1/10 [00:02<00:20,  2.26s/it, loss=-4.57e+05, v_num=0, train_loss_step=-4.89e+5, pixel_AUROC=0.974, train_loss_epoch=-4.81e+5]"
     ]
    },
    {
     "name": "stdout",
     "output_type": "stream",
     "text": [
      "\r",
      "Epoch 13:  10%|█         | 1/10 [00:02<00:20,  2.27s/it, loss=-4.6e+05, v_num=0, train_loss_step=-4.95e+5, pixel_AUROC=0.974, train_loss_epoch=-4.81e+5] "
     ]
    },
    {
     "name": "stdout",
     "output_type": "stream",
     "text": [
      "\r",
      "Epoch 13:  20%|██        | 2/10 [00:02<00:09,  1.20s/it, loss=-4.6e+05, v_num=0, train_loss_step=-4.95e+5, pixel_AUROC=0.974, train_loss_epoch=-4.81e+5]"
     ]
    },
    {
     "name": "stdout",
     "output_type": "stream",
     "text": [
      "\r",
      "Epoch 13:  20%|██        | 2/10 [00:02<00:09,  1.20s/it, loss=-4.64e+05, v_num=0, train_loss_step=-4.99e+5, pixel_AUROC=0.974, train_loss_epoch=-4.81e+5]"
     ]
    },
    {
     "name": "stdout",
     "output_type": "stream",
     "text": [
      "\r",
      "Epoch 13:  30%|███       | 3/10 [00:02<00:05,  1.19it/s, loss=-4.64e+05, v_num=0, train_loss_step=-4.99e+5, pixel_AUROC=0.974, train_loss_epoch=-4.81e+5]"
     ]
    },
    {
     "name": "stdout",
     "output_type": "stream",
     "text": [
      "\r",
      "Epoch 13:  30%|███       | 3/10 [00:02<00:05,  1.19it/s, loss=-4.68e+05, v_num=0, train_loss_step=-4.98e+5, pixel_AUROC=0.974, train_loss_epoch=-4.81e+5]"
     ]
    },
    {
     "name": "stdout",
     "output_type": "stream",
     "text": [
      "\r",
      "Epoch 13:  40%|████      | 4/10 [00:02<00:03,  1.52it/s, loss=-4.68e+05, v_num=0, train_loss_step=-4.98e+5, pixel_AUROC=0.974, train_loss_epoch=-4.81e+5]"
     ]
    },
    {
     "name": "stdout",
     "output_type": "stream",
     "text": [
      "\r",
      "Epoch 13:  40%|████      | 4/10 [00:02<00:03,  1.52it/s, loss=-4.72e+05, v_num=0, train_loss_step=-5.05e+5, pixel_AUROC=0.974, train_loss_epoch=-4.81e+5]"
     ]
    },
    {
     "name": "stdout",
     "output_type": "stream",
     "text": [
      "\r",
      "Epoch 13:  50%|█████     | 5/10 [00:02<00:02,  1.82it/s, loss=-4.72e+05, v_num=0, train_loss_step=-5.05e+5, pixel_AUROC=0.974, train_loss_epoch=-4.81e+5]"
     ]
    },
    {
     "name": "stdout",
     "output_type": "stream",
     "text": [
      "\r",
      "Epoch 13:  50%|█████     | 5/10 [00:02<00:02,  1.81it/s, loss=-4.76e+05, v_num=0, train_loss_step=-5.1e+5, pixel_AUROC=0.974, train_loss_epoch=-4.81e+5] "
     ]
    },
    {
     "name": "stdout",
     "output_type": "stream",
     "text": [
      "\r",
      "Epoch 13:  60%|██████    | 6/10 [00:02<00:01,  2.09it/s, loss=-4.76e+05, v_num=0, train_loss_step=-5.1e+5, pixel_AUROC=0.974, train_loss_epoch=-4.81e+5]"
     ]
    },
    {
     "name": "stdout",
     "output_type": "stream",
     "text": [
      "\r",
      "Epoch 13:  60%|██████    | 6/10 [00:02<00:01,  2.08it/s, loss=-4.79e+05, v_num=0, train_loss_step=-5.04e+5, pixel_AUROC=0.974, train_loss_epoch=-4.81e+5]"
     ]
    },
    {
     "name": "stdout",
     "output_type": "stream",
     "text": [
      "\r",
      "Epoch 13:  70%|███████   | 7/10 [00:02<00:01,  2.35it/s, loss=-4.79e+05, v_num=0, train_loss_step=-5.04e+5, pixel_AUROC=0.974, train_loss_epoch=-4.81e+5]"
     ]
    },
    {
     "name": "stdout",
     "output_type": "stream",
     "text": [
      "\r",
      "Epoch 13:  70%|███████   | 7/10 [00:02<00:01,  2.35it/s, loss=-4.82e+05, v_num=0, train_loss_step=-5.15e+5, pixel_AUROC=0.974, train_loss_epoch=-4.81e+5]"
     ]
    },
    {
     "name": "stdout",
     "output_type": "stream",
     "text": [
      "\n"
     ]
    },
    {
     "name": "stdout",
     "output_type": "stream",
     "text": [
      "\r",
      "Validation: 0it [00:00, ?it/s]"
     ]
    },
    {
     "name": "stdout",
     "output_type": "stream",
     "text": [
      "\u001b[A"
     ]
    },
    {
     "name": "stdout",
     "output_type": "stream",
     "text": [
      "\n"
     ]
    },
    {
     "name": "stdout",
     "output_type": "stream",
     "text": [
      "\r",
      "Validation:   0%|          | 0/3 [00:00<?, ?it/s]"
     ]
    },
    {
     "name": "stdout",
     "output_type": "stream",
     "text": [
      "\u001b[A"
     ]
    },
    {
     "name": "stdout",
     "output_type": "stream",
     "text": [
      "\n"
     ]
    },
    {
     "name": "stdout",
     "output_type": "stream",
     "text": [
      "\r",
      "Validation DataLoader 0:   0%|          | 0/3 [00:00<?, ?it/s]"
     ]
    },
    {
     "name": "stdout",
     "output_type": "stream",
     "text": [
      "\u001b[A"
     ]
    },
    {
     "name": "stdout",
     "output_type": "stream",
     "text": [
      "\n"
     ]
    },
    {
     "name": "stdout",
     "output_type": "stream",
     "text": [
      "\r",
      "Validation DataLoader 0:  33%|███▎      | 1/3 [00:00<00:00, 11.56it/s]"
     ]
    },
    {
     "name": "stdout",
     "output_type": "stream",
     "text": [
      "\u001b[A"
     ]
    },
    {
     "name": "stdout",
     "output_type": "stream",
     "text": [
      "\r",
      "Epoch 13:  80%|████████  | 8/10 [00:05<00:01,  1.57it/s, loss=-4.82e+05, v_num=0, train_loss_step=-5.15e+5, pixel_AUROC=0.974, train_loss_epoch=-4.81e+5]"
     ]
    },
    {
     "name": "stdout",
     "output_type": "stream",
     "text": [
      "\n"
     ]
    },
    {
     "name": "stdout",
     "output_type": "stream",
     "text": [
      "\r",
      "Validation DataLoader 0:  67%|██████▋   | 2/3 [00:00<00:00, 10.80it/s]"
     ]
    },
    {
     "name": "stdout",
     "output_type": "stream",
     "text": [
      "\u001b[A"
     ]
    },
    {
     "name": "stdout",
     "output_type": "stream",
     "text": [
      "\r",
      "Epoch 13:  90%|█████████ | 9/10 [00:05<00:00,  1.73it/s, loss=-4.82e+05, v_num=0, train_loss_step=-5.15e+5, pixel_AUROC=0.974, train_loss_epoch=-4.81e+5]"
     ]
    },
    {
     "name": "stdout",
     "output_type": "stream",
     "text": [
      "\n"
     ]
    },
    {
     "name": "stdout",
     "output_type": "stream",
     "text": [
      "\r",
      "Validation DataLoader 0: 100%|██████████| 3/3 [00:00<00:00, 11.99it/s]"
     ]
    },
    {
     "name": "stdout",
     "output_type": "stream",
     "text": [
      "\u001b[A"
     ]
    },
    {
     "name": "stdout",
     "output_type": "stream",
     "text": [
      "\r",
      "Epoch 13: 100%|██████████| 10/10 [00:05<00:00,  1.90it/s, loss=-4.82e+05, v_num=0, train_loss_step=-5.15e+5, pixel_AUROC=0.974, train_loss_epoch=-4.81e+5]"
     ]
    },
    {
     "name": "stdout",
     "output_type": "stream",
     "text": [
      "\r",
      "Epoch 13: 100%|██████████| 10/10 [00:05<00:00,  1.67it/s, loss=-4.82e+05, v_num=0, train_loss_step=-5.15e+5, pixel_AUROC=0.974, train_loss_epoch=-4.81e+5]"
     ]
    },
    {
     "name": "stdout",
     "output_type": "stream",
     "text": [
      "\n"
     ]
    },
    {
     "name": "stdout",
     "output_type": "stream",
     "text": [
      "\r",
      "                                                                      "
     ]
    },
    {
     "name": "stdout",
     "output_type": "stream",
     "text": [
      "\u001b[A"
     ]
    },
    {
     "name": "stdout",
     "output_type": "stream",
     "text": [
      "\r",
      "Epoch 13: 100%|██████████| 10/10 [00:06<00:00,  1.67it/s, loss=-4.82e+05, v_num=0, train_loss_step=-5.15e+5, pixel_AUROC=0.974, train_loss_epoch=-5.03e+5]"
     ]
    },
    {
     "name": "stdout",
     "output_type": "stream",
     "text": [
      "\r",
      "Epoch 13:   0%|          | 0/10 [00:00<?, ?it/s, loss=-4.82e+05, v_num=0, train_loss_step=-5.15e+5, pixel_AUROC=0.974, train_loss_epoch=-5.03e+5]         "
     ]
    },
    {
     "name": "stdout",
     "output_type": "stream",
     "text": [
      "\r",
      "Epoch 14:   0%|          | 0/10 [00:00<?, ?it/s, loss=-4.82e+05, v_num=0, train_loss_step=-5.15e+5, pixel_AUROC=0.974, train_loss_epoch=-5.03e+5]"
     ]
    },
    {
     "name": "stdout",
     "output_type": "stream",
     "text": [
      "\r",
      "Epoch 14:  10%|█         | 1/10 [00:02<00:19,  2.17s/it, loss=-4.82e+05, v_num=0, train_loss_step=-5.15e+5, pixel_AUROC=0.974, train_loss_epoch=-5.03e+5]"
     ]
    },
    {
     "name": "stdout",
     "output_type": "stream",
     "text": [
      "\r",
      "Epoch 14:  10%|█         | 1/10 [00:02<00:19,  2.17s/it, loss=-4.85e+05, v_num=0, train_loss_step=-5.11e+5, pixel_AUROC=0.974, train_loss_epoch=-5.03e+5]"
     ]
    },
    {
     "name": "stdout",
     "output_type": "stream",
     "text": [
      "\r",
      "Epoch 14:  20%|██        | 2/10 [00:02<00:09,  1.15s/it, loss=-4.85e+05, v_num=0, train_loss_step=-5.11e+5, pixel_AUROC=0.974, train_loss_epoch=-5.03e+5]"
     ]
    },
    {
     "name": "stdout",
     "output_type": "stream",
     "text": [
      "\r",
      "Epoch 14:  20%|██        | 2/10 [00:02<00:09,  1.15s/it, loss=-4.89e+05, v_num=0, train_loss_step=-5.25e+5, pixel_AUROC=0.974, train_loss_epoch=-5.03e+5]"
     ]
    },
    {
     "name": "stdout",
     "output_type": "stream",
     "text": [
      "\r",
      "Epoch 14:  30%|███       | 3/10 [00:02<00:05,  1.23it/s, loss=-4.89e+05, v_num=0, train_loss_step=-5.25e+5, pixel_AUROC=0.974, train_loss_epoch=-5.03e+5]"
     ]
    },
    {
     "name": "stdout",
     "output_type": "stream",
     "text": [
      "\r",
      "Epoch 14:  30%|███       | 3/10 [00:02<00:05,  1.23it/s, loss=-4.92e+05, v_num=0, train_loss_step=-5.27e+5, pixel_AUROC=0.974, train_loss_epoch=-5.03e+5]"
     ]
    },
    {
     "name": "stdout",
     "output_type": "stream",
     "text": [
      "\r",
      "Epoch 14:  40%|████      | 4/10 [00:02<00:03,  1.56it/s, loss=-4.92e+05, v_num=0, train_loss_step=-5.27e+5, pixel_AUROC=0.974, train_loss_epoch=-5.03e+5]"
     ]
    },
    {
     "name": "stdout",
     "output_type": "stream",
     "text": [
      "\r",
      "Epoch 14:  40%|████      | 4/10 [00:02<00:03,  1.56it/s, loss=-4.96e+05, v_num=0, train_loss_step=-5.3e+5, pixel_AUROC=0.974, train_loss_epoch=-5.03e+5] "
     ]
    },
    {
     "name": "stdout",
     "output_type": "stream",
     "text": [
      "\r",
      "Epoch 14:  50%|█████     | 5/10 [00:02<00:02,  1.87it/s, loss=-4.96e+05, v_num=0, train_loss_step=-5.3e+5, pixel_AUROC=0.974, train_loss_epoch=-5.03e+5]"
     ]
    },
    {
     "name": "stdout",
     "output_type": "stream",
     "text": [
      "\r",
      "Epoch 14:  50%|█████     | 5/10 [00:02<00:02,  1.86it/s, loss=-4.99e+05, v_num=0, train_loss_step=-5.31e+5, pixel_AUROC=0.974, train_loss_epoch=-5.03e+5]"
     ]
    },
    {
     "name": "stdout",
     "output_type": "stream",
     "text": [
      "\r",
      "Epoch 14:  60%|██████    | 6/10 [00:02<00:01,  2.14it/s, loss=-4.99e+05, v_num=0, train_loss_step=-5.31e+5, pixel_AUROC=0.974, train_loss_epoch=-5.03e+5]"
     ]
    },
    {
     "name": "stdout",
     "output_type": "stream",
     "text": [
      "\r",
      "Epoch 14:  60%|██████    | 6/10 [00:02<00:01,  2.14it/s, loss=-5.03e+05, v_num=0, train_loss_step=-5.41e+5, pixel_AUROC=0.974, train_loss_epoch=-5.03e+5]"
     ]
    },
    {
     "name": "stdout",
     "output_type": "stream",
     "text": [
      "\r",
      "Epoch 14:  70%|███████   | 7/10 [00:02<00:01,  2.41it/s, loss=-5.03e+05, v_num=0, train_loss_step=-5.41e+5, pixel_AUROC=0.974, train_loss_epoch=-5.03e+5]"
     ]
    },
    {
     "name": "stdout",
     "output_type": "stream",
     "text": [
      "\r",
      "Epoch 14:  70%|███████   | 7/10 [00:02<00:01,  2.41it/s, loss=-5.06e+05, v_num=0, train_loss_step=-5.32e+5, pixel_AUROC=0.974, train_loss_epoch=-5.03e+5]"
     ]
    },
    {
     "name": "stdout",
     "output_type": "stream",
     "text": [
      "\n"
     ]
    },
    {
     "name": "stdout",
     "output_type": "stream",
     "text": [
      "\r",
      "Validation: 0it [00:00, ?it/s]"
     ]
    },
    {
     "name": "stdout",
     "output_type": "stream",
     "text": [
      "\u001b[A"
     ]
    },
    {
     "name": "stdout",
     "output_type": "stream",
     "text": [
      "\n"
     ]
    },
    {
     "name": "stdout",
     "output_type": "stream",
     "text": [
      "\r",
      "Validation:   0%|          | 0/3 [00:00<?, ?it/s]"
     ]
    },
    {
     "name": "stdout",
     "output_type": "stream",
     "text": [
      "\u001b[A"
     ]
    },
    {
     "name": "stdout",
     "output_type": "stream",
     "text": [
      "\n"
     ]
    },
    {
     "name": "stdout",
     "output_type": "stream",
     "text": [
      "\r",
      "Validation DataLoader 0:   0%|          | 0/3 [00:00<?, ?it/s]"
     ]
    },
    {
     "name": "stdout",
     "output_type": "stream",
     "text": [
      "\u001b[A"
     ]
    },
    {
     "name": "stdout",
     "output_type": "stream",
     "text": [
      "\n"
     ]
    },
    {
     "name": "stdout",
     "output_type": "stream",
     "text": [
      "\r",
      "Validation DataLoader 0:  33%|███▎      | 1/3 [00:00<00:00, 11.53it/s]"
     ]
    },
    {
     "name": "stdout",
     "output_type": "stream",
     "text": [
      "\u001b[A"
     ]
    },
    {
     "name": "stdout",
     "output_type": "stream",
     "text": [
      "\r",
      "Epoch 14:  80%|████████  | 8/10 [00:05<00:01,  1.60it/s, loss=-5.06e+05, v_num=0, train_loss_step=-5.32e+5, pixel_AUROC=0.974, train_loss_epoch=-5.03e+5]"
     ]
    },
    {
     "name": "stdout",
     "output_type": "stream",
     "text": [
      "\n"
     ]
    },
    {
     "name": "stdout",
     "output_type": "stream",
     "text": [
      "\r",
      "Validation DataLoader 0:  67%|██████▋   | 2/3 [00:00<00:00, 10.81it/s]"
     ]
    },
    {
     "name": "stdout",
     "output_type": "stream",
     "text": [
      "\u001b[A"
     ]
    },
    {
     "name": "stdout",
     "output_type": "stream",
     "text": [
      "\r",
      "Epoch 14:  90%|█████████ | 9/10 [00:05<00:00,  1.76it/s, loss=-5.06e+05, v_num=0, train_loss_step=-5.32e+5, pixel_AUROC=0.974, train_loss_epoch=-5.03e+5]"
     ]
    },
    {
     "name": "stdout",
     "output_type": "stream",
     "text": [
      "\n"
     ]
    },
    {
     "name": "stdout",
     "output_type": "stream",
     "text": [
      "\r",
      "Validation DataLoader 0: 100%|██████████| 3/3 [00:00<00:00, 11.46it/s]"
     ]
    },
    {
     "name": "stdout",
     "output_type": "stream",
     "text": [
      "\u001b[A"
     ]
    },
    {
     "name": "stdout",
     "output_type": "stream",
     "text": [
      "\r",
      "Epoch 14: 100%|██████████| 10/10 [00:05<00:00,  1.93it/s, loss=-5.06e+05, v_num=0, train_loss_step=-5.32e+5, pixel_AUROC=0.974, train_loss_epoch=-5.03e+5]"
     ]
    },
    {
     "name": "stdout",
     "output_type": "stream",
     "text": [
      "\r",
      "Epoch 14: 100%|██████████| 10/10 [00:05<00:00,  1.69it/s, loss=-5.06e+05, v_num=0, train_loss_step=-5.32e+5, pixel_AUROC=0.975, train_loss_epoch=-5.03e+5]"
     ]
    },
    {
     "name": "stdout",
     "output_type": "stream",
     "text": [
      "\n"
     ]
    },
    {
     "name": "stdout",
     "output_type": "stream",
     "text": [
      "\r",
      "                                                                      "
     ]
    },
    {
     "name": "stdout",
     "output_type": "stream",
     "text": [
      "\u001b[A"
     ]
    },
    {
     "name": "stdout",
     "output_type": "stream",
     "text": [
      "\r",
      "Epoch 14: 100%|██████████| 10/10 [00:05<00:00,  1.69it/s, loss=-5.06e+05, v_num=0, train_loss_step=-5.32e+5, pixel_AUROC=0.975, train_loss_epoch=-5.28e+5]"
     ]
    },
    {
     "name": "stdout",
     "output_type": "stream",
     "text": [
      "\r",
      "Epoch 14: 100%|██████████| 10/10 [00:05<00:00,  1.69it/s, loss=-5.06e+05, v_num=0, train_loss_step=-5.32e+5, pixel_AUROC=0.975, train_loss_epoch=-5.28e+5]"
     ]
    },
    {
     "name": "stdout",
     "output_type": "stream",
     "text": [
      "\n"
     ]
    }
   ],
   "source": [
    "trainer.fit(datamodule=datamodule, model=model)"
   ]
  },
  {
   "cell_type": "markdown",
   "metadata": {
    "pycharm": {
     "name": "#%% md\n"
    }
   },
   "source": [
    "The training has finished after 12 epochs. This is because, we set the `EarlyStopping` criteria with a patience of 3, which terminated the training after `pixel_AUROC` stopped improving. If we increased the `patience`, the training would continue further.\n",
    "\n",
    "## Testing\n",
    "\n",
    "Now that we trained the model, we could test the model to check the overall performance on the test set. We will also be writing the output of the test images to a file since we set `VisualizerCallback` in `callbacks`."
   ]
  },
  {
   "cell_type": "code",
   "execution_count": 13,
   "metadata": {
    "execution": {
     "iopub.execute_input": "2023-02-28T17:00:41.433344Z",
     "iopub.status.busy": "2023-02-28T17:00:41.432521Z",
     "iopub.status.idle": "2023-02-28T17:01:03.887578Z",
     "shell.execute_reply": "2023-02-28T17:01:03.886200Z"
    },
    "pycharm": {
     "name": "#%%\n"
    }
   },
   "outputs": [
    {
     "name": "stderr",
     "output_type": "stream",
     "text": [
      "LOCAL_RANK: 0 - CUDA_VISIBLE_DEVICES: [3]\n"
     ]
    },
    {
     "name": "stdout",
     "output_type": "stream",
     "text": [
      "\r",
      "Testing: 0it [00:00, ?it/s]"
     ]
    },
    {
     "name": "stdout",
     "output_type": "stream",
     "text": [
      "\r",
      "Testing:   0%|          | 0/3 [00:00<?, ?it/s]"
     ]
    },
    {
     "name": "stdout",
     "output_type": "stream",
     "text": [
      "\r",
      "Testing DataLoader 0:   0%|          | 0/3 [00:00<?, ?it/s]"
     ]
    },
    {
     "name": "stdout",
     "output_type": "stream",
     "text": [
      "\r",
      "Testing DataLoader 0:  33%|███▎      | 1/3 [00:08<00:16,  8.19s/it]"
     ]
    },
    {
     "name": "stdout",
     "output_type": "stream",
     "text": [
      "\r",
      "Testing DataLoader 0:  67%|██████▋   | 2/3 [00:15<00:07,  7.79s/it]"
     ]
    },
    {
     "name": "stdout",
     "output_type": "stream",
     "text": [
      "\r",
      "Testing DataLoader 0: 100%|██████████| 3/3 [00:20<00:00,  6.68s/it]"
     ]
    },
    {
     "name": "stdout",
     "output_type": "stream",
     "text": [
      "\r",
      "Testing DataLoader 0: 100%|██████████| 3/3 [00:20<00:00,  6.76s/it]"
     ]
    },
    {
     "name": "stdout",
     "output_type": "stream",
     "text": [
      "\n",
      "────────────────────────────────────────────────────────────────────────────────────────────────────────────────────────\n",
      "       Test metric             DataLoader 0\n",
      "────────────────────────────────────────────────────────────────────────────────────────────────────────────────────────\n",
      "       image_AUROC                  1.0\n",
      "       pixel_AUROC          0.9746474027633667\n",
      "────────────────────────────────────────────────────────────────────────────────────────────────────────────────────────\n"
     ]
    },
    {
     "data": {
      "text/plain": [
       "[{'pixel_AUROC': 0.9746474027633667, 'image_AUROC': 1.0}]"
      ]
     },
     "execution_count": 13,
     "metadata": {},
     "output_type": "execute_result"
    }
   ],
   "source": [
    "trainer.test(datamodule=datamodule, model=model)"
   ]
  },
  {
   "cell_type": "markdown",
   "metadata": {
    "pycharm": {
     "name": "#%% md\n"
    }
   },
   "source": [
    "`trainer.test` returns the `pixel_AUROC` and `image_AUROC` results. We could also find the saved output in `images` directory."
   ]
  },
  {
   "cell_type": "code",
   "execution_count": 14,
   "metadata": {
    "execution": {
     "iopub.execute_input": "2023-02-28T17:01:03.894354Z",
     "iopub.status.busy": "2023-02-28T17:01:03.893676Z",
     "iopub.status.idle": "2023-02-28T17:01:04.384565Z",
     "shell.execute_reply": "2023-02-28T17:01:04.382658Z"
    },
    "pycharm": {
     "name": "#%%\n"
    }
   },
   "outputs": [
    {
     "name": "stdout",
     "output_type": "stream",
     "text": [
      "ls: cannot access 'images': No such file or directory\r\n"
     ]
    }
   ],
   "source": [
    "!ls images"
   ]
  },
  {
   "cell_type": "markdown",
   "metadata": {
    "pycharm": {
     "name": "#%% md\n"
    }
   },
   "source": [
    "## Inference\n",
    "\n",
    "Since we have a trained model, we could infer the model on an individual image or folder of images. Anomalib has an `InferenceDataset` to let you create an inference dataset. So let's try it."
   ]
  },
  {
   "cell_type": "code",
   "execution_count": 15,
   "metadata": {
    "execution": {
     "iopub.execute_input": "2023-02-28T17:01:04.392500Z",
     "iopub.status.busy": "2023-02-28T17:01:04.391641Z",
     "iopub.status.idle": "2023-02-28T17:01:04.403211Z",
     "shell.execute_reply": "2023-02-28T17:01:04.401752Z"
    },
    "pycharm": {
     "name": "#%%\n"
    }
   },
   "outputs": [],
   "source": [
    "inference_dataset = InferenceDataset(path=dataset_root / \"bottle/test/broken_large/000.png\", image_size=(256, 256))\n",
    "inference_dataloader = DataLoader(dataset=inference_dataset)"
   ]
  },
  {
   "cell_type": "markdown",
   "metadata": {
    "pycharm": {
     "name": "#%% md\n"
    }
   },
   "source": [
    "We could utilize `Trainer`'s `predict` method to infer, and get the outputs to visualize"
   ]
  },
  {
   "cell_type": "code",
   "execution_count": 16,
   "metadata": {
    "execution": {
     "iopub.execute_input": "2023-02-28T17:01:04.410517Z",
     "iopub.status.busy": "2023-02-28T17:01:04.409317Z",
     "iopub.status.idle": "2023-02-28T17:01:04.957498Z",
     "shell.execute_reply": "2023-02-28T17:01:04.956461Z"
    },
    "pycharm": {
     "name": "#%%\n"
    }
   },
   "outputs": [
    {
     "name": "stderr",
     "output_type": "stream",
     "text": [
      "LOCAL_RANK: 0 - CUDA_VISIBLE_DEVICES: [3]\n"
     ]
    },
    {
     "name": "stderr",
     "output_type": "stream",
     "text": [
      "/home/user/conda/lib/python3.8/site-packages/pytorch_lightning/trainer/connectors/data_connector.py:224: PossibleUserWarning: The dataloader, predict_dataloader 0, does not have many workers which may be a bottleneck. Consider increasing the value of the `num_workers` argument` (try 96 which is the number of cpus on this machine) in the `DataLoader` init to improve performance.\n",
      "  rank_zero_warn(\n"
     ]
    },
    {
     "name": "stdout",
     "output_type": "stream",
     "text": [
      "\r",
      "Predicting: 7it [00:00, ?it/s]"
     ]
    },
    {
     "name": "stdout",
     "output_type": "stream",
     "text": [
      "\r",
      "Predicting:   0%|          | 0/1 [00:00<00:00, -65682.61it/s]"
     ]
    },
    {
     "name": "stdout",
     "output_type": "stream",
     "text": [
      "\r",
      "Predicting DataLoader 0:   0%|          | 0/1 [00:00<?, ?it/s]"
     ]
    },
    {
     "name": "stdout",
     "output_type": "stream",
     "text": [
      "\r",
      "Predicting DataLoader 0: 100%|██████████| 1/1 [00:00<00:00,  3.16it/s]"
     ]
    },
    {
     "name": "stdout",
     "output_type": "stream",
     "text": [
      "\r",
      "Predicting DataLoader 0: 100%|██████████| 1/1 [00:00<00:00,  3.13it/s]"
     ]
    },
    {
     "name": "stdout",
     "output_type": "stream",
     "text": [
      "\n"
     ]
    }
   ],
   "source": [
    "predictions = trainer.predict(model=model, dataloaders=inference_dataloader)[0]"
   ]
  },
  {
   "cell_type": "markdown",
   "metadata": {
    "pycharm": {
     "name": "#%% md\n"
    }
   },
   "source": [
    "`predictions` contain image, anomaly maps, predicted scores, labels and masks. These are all stored in a dictionary. We could check this by printing the `prediction` keys."
   ]
  },
  {
   "cell_type": "code",
   "execution_count": 17,
   "metadata": {
    "execution": {
     "iopub.execute_input": "2023-02-28T17:01:04.963047Z",
     "iopub.status.busy": "2023-02-28T17:01:04.962691Z",
     "iopub.status.idle": "2023-02-28T17:01:04.968429Z",
     "shell.execute_reply": "2023-02-28T17:01:04.967389Z"
    },
    "pycharm": {
     "name": "#%%\n"
    }
   },
   "outputs": [
    {
     "name": "stdout",
     "output_type": "stream",
     "text": [
      "dict_keys(['image', 'image_path', 'anomaly_maps', 'pred_scores', 'pred_labels', 'pred_masks', 'pred_boxes', 'box_scores', 'box_labels'])\n"
     ]
    }
   ],
   "source": [
    "print(predictions.keys())"
   ]
  },
  {
   "cell_type": "code",
   "execution_count": 18,
   "metadata": {
    "execution": {
     "iopub.execute_input": "2023-02-28T17:01:04.974906Z",
     "iopub.status.busy": "2023-02-28T17:01:04.974263Z",
     "iopub.status.idle": "2023-02-28T17:01:04.980549Z",
     "shell.execute_reply": "2023-02-28T17:01:04.979393Z"
    },
    "pycharm": {
     "name": "#%%\n"
    }
   },
   "outputs": [
    {
     "name": "stdout",
     "output_type": "stream",
     "text": [
      "Image Shape: torch.Size([1, 3, 256, 256]),\n",
      "Anomaly Map Shape: {predictions[\"anomaly_maps\"].shape}, \n",
      "Predicted Mask Shape: {predictions[\"pred_masks\"].shape}\n"
     ]
    }
   ],
   "source": [
    "print(\n",
    "    f'Image Shape: {predictions[\"image\"].shape},\\n'\n",
    "    'Anomaly Map Shape: {predictions[\"anomaly_maps\"].shape}, \\n'\n",
    "    'Predicted Mask Shape: {predictions[\"pred_masks\"].shape}'\n",
    ")"
   ]
  },
  {
   "cell_type": "markdown",
   "metadata": {
    "pycharm": {
     "name": "#%% md\n"
    }
   },
   "source": [
    "## Visualization"
   ]
  },
  {
   "cell_type": "markdown",
   "metadata": {
    "pycharm": {
     "name": "#%% md\n"
    }
   },
   "source": [
    "To properly visualize the predictions, we will need to perform some post-processing operations.\n",
    "\n",
    "Let's post-process each output one by one. We could start with the image. Each `image` is a tensor and within (0, 1) range. To visualize it, we need to denormalize it to (0, 255) scale. Anomalib already has a class for this. Let's use it."
   ]
  },
  {
   "cell_type": "code",
   "execution_count": 19,
   "metadata": {
    "execution": {
     "iopub.execute_input": "2023-02-28T17:01:04.986260Z",
     "iopub.status.busy": "2023-02-28T17:01:04.985233Z",
     "iopub.status.idle": "2023-02-28T17:01:05.001859Z",
     "shell.execute_reply": "2023-02-28T17:01:04.996922Z"
    },
    "pycharm": {
     "name": "#%%\n"
    }
   },
   "outputs": [
    {
     "name": "stdout",
     "output_type": "stream",
     "text": [
      "Image Shape: (256, 256, 3)\n",
      " Min Pixel: 29 \n",
      " Max Pixel: 255\n"
     ]
    },
    {
     "name": "stderr",
     "output_type": "stream",
     "text": [
      "/home/user/actions-runner/_work/anomalib/anomalib/anomalib/pre_processing/transforms/custom.py:25: UserWarning: Denormalize is no longer used and will be deprecated in v0.4.0\n",
      "  warnings.warn(\"Denormalize is no longer used and will be deprecated in v0.4.0\")\n"
     ]
    }
   ],
   "source": [
    "image = predictions[\"image\"][0]\n",
    "image = Denormalize()(image)\n",
    "print(f\"Image Shape: {image.shape}\\n Min Pixel: {image.min()} \\n Max Pixel: {image.max()}\")"
   ]
  },
  {
   "cell_type": "markdown",
   "metadata": {
    "pycharm": {
     "name": "#%% md\n"
    }
   },
   "source": [
    "We could now see that `image` is of a numpy array and within the range of \\[0, 255\\]. It's ready to be visualized now."
   ]
  },
  {
   "cell_type": "code",
   "execution_count": 20,
   "metadata": {
    "execution": {
     "iopub.execute_input": "2023-02-28T17:01:05.006954Z",
     "iopub.status.busy": "2023-02-28T17:01:05.006076Z",
     "iopub.status.idle": "2023-02-28T17:01:05.263985Z",
     "shell.execute_reply": "2023-02-28T17:01:05.263057Z"
    },
    "pycharm": {
     "name": "#%%\n"
    }
   },
   "outputs": [
    {
     "data": {
      "text/plain": [
       "<matplotlib.image.AxesImage at 0x7f90e5ed1850>"
      ]
     },
     "execution_count": 20,
     "metadata": {},
     "output_type": "execute_result"
    },
    {
     "data": {
      "image/png": "[encoded data removed]",
      "text/plain": [
       "<Figure size 640x480 with 1 Axes>"
      ]
     },
     "metadata": {},
     "output_type": "display_data"
    }
   ],
   "source": [
    "plt.imshow(image)"
   ]
  },
  {
   "cell_type": "markdown",
   "metadata": {
    "pycharm": {
     "name": "#%% md\n"
    }
   },
   "source": [
    "The second output of the predictions is the anomaly map. As can be seen above, it's also a torch tensor and of size `torch.Size([1, 1, 256, 256])`. We therefore need to convert it to numpy and squeeze the dimensions to make it `256x256` output to visualize."
   ]
  },
  {
   "cell_type": "code",
   "execution_count": 21,
   "metadata": {
    "execution": {
     "iopub.execute_input": "2023-02-28T17:01:05.278308Z",
     "iopub.status.busy": "2023-02-28T17:01:05.277855Z",
     "iopub.status.idle": "2023-02-28T17:01:05.544902Z",
     "shell.execute_reply": "2023-02-28T17:01:05.543774Z"
    },
    "pycharm": {
     "name": "#%%\n"
    }
   },
   "outputs": [
    {
     "data": {
      "text/plain": [
       "<matplotlib.image.AxesImage at 0x7f90e5e18250>"
      ]
     },
     "execution_count": 21,
     "metadata": {},
     "output_type": "execute_result"
    },
    {
     "data": {
      "image/png": "[encoded data removed]",
      "text/plain": [
       "<Figure size 640x480 with 1 Axes>"
      ]
     },
     "metadata": {},
     "output_type": "display_data"
    }
   ],
   "source": [
    "anomaly_map = predictions[\"anomaly_maps\"][0]\n",
    "anomaly_map = anomaly_map.cpu().numpy().squeeze()\n",
    "plt.imshow(anomaly_map)"
   ]
  },
  {
   "cell_type": "markdown",
   "metadata": {
    "pycharm": {
     "name": "#%% md\n"
    }
   },
   "source": [
    "We could superimpose (overlay) the anomaly map on top of the original image to get a heat map. Anomalib has a built-in function to achieve this. Let's try it."
   ]
  },
  {
   "cell_type": "code",
   "execution_count": 22,
   "metadata": {
    "execution": {
     "iopub.execute_input": "2023-02-28T17:01:05.555534Z",
     "iopub.status.busy": "2023-02-28T17:01:05.555083Z",
     "iopub.status.idle": "2023-02-28T17:01:05.797118Z",
     "shell.execute_reply": "2023-02-28T17:01:05.796199Z"
    },
    "pycharm": {
     "name": "#%%\n"
    }
   },
   "outputs": [
    {
     "data": {
      "text/plain": [
       "<matplotlib.image.AxesImage at 0x7f90e5d82e20>"
      ]
     },
     "execution_count": 22,
     "metadata": {},
     "output_type": "execute_result"
    },
    {
     "data": {
      "image/png": "[encoded data removed]",
      "text/plain": [
       "<Figure size 640x480 with 1 Axes>"
      ]
     },
     "metadata": {},
     "output_type": "display_data"
    }
   ],
   "source": [
    "heat_map = superimpose_anomaly_map(anomaly_map=anomaly_map, image=image, normalize=True)\n",
    "plt.imshow(heat_map)"
   ]
  },
  {
   "cell_type": "markdown",
   "metadata": {
    "pycharm": {
     "name": "#%% md\n"
    }
   },
   "source": [
    "`predictions` also contains prediction scores and labels."
   ]
  },
  {
   "cell_type": "code",
   "execution_count": 23,
   "metadata": {
    "execution": {
     "iopub.execute_input": "2023-02-28T17:01:05.811050Z",
     "iopub.status.busy": "2023-02-28T17:01:05.810641Z",
     "iopub.status.idle": "2023-02-28T17:01:05.818057Z",
     "shell.execute_reply": "2023-02-28T17:01:05.816891Z"
    },
    "pycharm": {
     "name": "#%%\n"
    }
   },
   "outputs": [
    {
     "name": "stdout",
     "output_type": "stream",
     "text": [
      "tensor(-0.0179) tensor(True)\n"
     ]
    }
   ],
   "source": [
    "pred_score = predictions[\"pred_scores\"][0]\n",
    "pred_labels = predictions[\"pred_labels\"][0]\n",
    "print(pred_score, pred_labels)"
   ]
  },
  {
   "cell_type": "markdown",
   "metadata": {
    "pycharm": {
     "name": "#%% md\n"
    }
   },
   "source": [
    "The last part of the predictions is the mask that is predicted by the model. This is a boolean mask containing True/False for the abnormal/normal pixels, respectively."
   ]
  },
  {
   "cell_type": "code",
   "execution_count": 24,
   "metadata": {
    "execution": {
     "iopub.execute_input": "2023-02-28T17:01:05.823009Z",
     "iopub.status.busy": "2023-02-28T17:01:05.822300Z",
     "iopub.status.idle": "2023-02-28T17:01:06.004338Z",
     "shell.execute_reply": "2023-02-28T17:01:06.003417Z"
    },
    "pycharm": {
     "name": "#%%\n"
    }
   },
   "outputs": [
    {
     "data": {
      "text/plain": [
       "<matplotlib.image.AxesImage at 0x7f90e5d04220>"
      ]
     },
     "execution_count": 24,
     "metadata": {},
     "output_type": "execute_result"
    },
    {
     "data": {
      "image/png": "[encoded data removed]",
      "text/plain": [
       "<Figure size 640x480 with 1 Axes>"
      ]
     },
     "metadata": {},
     "output_type": "display_data"
    }
   ],
   "source": [
    "pred_masks = predictions[\"pred_masks\"][0].squeeze().cpu().numpy()\n",
    "plt.imshow(pred_masks)"
   ]
  },
  {
   "cell_type": "markdown",
   "metadata": {
    "pycharm": {
     "name": "#%% md\n"
    }
   },
   "source": [
    "That wraps it! In this notebook, we show how we could train, test and finally infer a FastFlow model using Anomalib API."
   ]
  }
 ],
 "metadata": {
  "kernelspec": {
   "display_name": "anomalib",
   "language": "python",
   "name": "python3"
  },
  "language_info": {
   "codemirror_mode": {
    "name": "ipython",
    "version": 3
   },
   "file_extension": ".py",
   "mimetype": "text/x-python",
   "name": "python",
   "nbconvert_exporter": "python",
   "pygments_lexer": "ipython3",
   "version": "3.8.13"
  },
  "vscode": {
   "interpreter": {
    "hash": "f26beec5b578f06009232863ae217b956681fd13da2e828fa5a0ecf8cf2ccd29"
   }
  }
 },
 "nbformat": 4,
 "nbformat_minor": 2
}
