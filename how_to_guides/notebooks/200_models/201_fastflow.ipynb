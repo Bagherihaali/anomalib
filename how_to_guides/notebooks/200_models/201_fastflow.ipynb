{
 "cells": [
  {
   "attachments": {},
   "cell_type": "markdown",
   "metadata": {},
   "source": [
    "## Setting up the Working Directory\n",
    "This cell is to ensure we change the directory to anomalib source code to have access to the datasets and config files. We assume that you already went through `001_getting_started.ipynb` and install the required packages."
   ]
  },
  {
   "cell_type": "code",
   "execution_count": 1,
   "metadata": {
    "execution": {
     "iopub.execute_input": "2023-02-06T13:37:23.063531Z",
     "iopub.status.busy": "2023-02-06T13:37:23.062627Z",
     "iopub.status.idle": "2023-02-06T13:37:23.139192Z",
     "shell.execute_reply": "2023-02-06T13:37:23.137990Z"
    }
   },
   "outputs": [],
   "source": [
    "import os\n",
    "from functools import partial, update_wrapper\n",
    "from pathlib import Path\n",
    "from types import MethodType\n",
    "from typing import Any\n",
    "\n",
    "from git.repo import Repo\n",
    "\n",
    "current_directory = Path.cwd()\n",
    "if current_directory.name == \"200_models\":\n",
    "    # On the assumption that, the notebook is located in\n",
    "    #   ~/anomalib/notebooks/100_datamodules/\n",
    "    root_directory = current_directory.parent.parent\n",
    "elif current_directory.name == \"anomalib\":\n",
    "    # This means that the notebook is run from the main anomalib directory.\n",
    "    root_directory = current_directory\n",
    "else:\n",
    "    # Otherwise, we'll need to clone the anomalib repo to the `current_directory`\n",
    "    repo = Repo.clone_from(url=\"https://github.com/openvinotoolkit/anomalib.git\", to_path=current_directory)\n",
    "    root_directory = current_directory / \"anomalib\"\n",
    "\n",
    "os.chdir(root_directory)\n",
    "dataset_root = root_directory / \"datasets\" / \"MVTec\""
   ]
  },
  {
   "cell_type": "markdown",
   "metadata": {
    "pycharm": {
     "name": "#%% md\n"
    }
   },
   "source": [
    "# Train a Model via API\n",
    "\n",
    "This notebook demonstrates how to train, test and infer the FastFlow model via Anomalib API. Compared to the CLI entrypoints such as \\`tools/\\<train, test, inference>.py, the API offers more flexibility such as modifying the existing model or designing custom approaches.\n",
    "\n",
    "## Imports"
   ]
  },
  {
   "cell_type": "code",
   "execution_count": 2,
   "metadata": {
    "execution": {
     "iopub.execute_input": "2023-02-06T13:37:23.145331Z",
     "iopub.status.busy": "2023-02-06T13:37:23.144913Z",
     "iopub.status.idle": "2023-02-06T13:37:26.164968Z",
     "shell.execute_reply": "2023-02-06T13:37:26.163773Z"
    },
    "pycharm": {
     "name": "#%%\n"
    }
   },
   "outputs": [
    {
     "name": "stderr",
     "output_type": "stream",
     "text": [
      "/home/user/conda/lib/python3.8/site-packages/tqdm/auto.py:22: TqdmWarning: IProgress not found. Please update jupyter and ipywidgets. See https://ipywidgets.readthedocs.io/en/stable/user_install.html\n",
      "  from .autonotebook import tqdm as notebook_tqdm\n"
     ]
    }
   ],
   "source": [
    "from matplotlib import pyplot as plt\n",
    "from pytorch_lightning import LightningModule, Trainer\n",
    "from pytorch_lightning.callbacks import EarlyStopping, ModelCheckpoint\n",
    "from torch.optim import Optimizer\n",
    "from torch.optim.adam import Adam\n",
    "from torch.utils.data import DataLoader\n",
    "\n",
    "from anomalib.data import InferenceDataset, TaskType\n",
    "from anomalib.data.mvtec import MVTec\n",
    "from anomalib.models.fastflow.lightning_model import Fastflow\n",
    "from anomalib.post_processing import (\n",
    "    NormalizationMethod,\n",
    "    ThresholdMethod,\n",
    "    superimpose_anomaly_map,\n",
    ")\n",
    "from anomalib.pre_processing.transforms import Denormalize\n",
    "from anomalib.utils.callbacks import (\n",
    "    ImageVisualizerCallback,\n",
    "    MetricsConfigurationCallback,\n",
    "    MetricVisualizerCallback,\n",
    "    PostProcessingConfigurationCallback,\n",
    ")"
   ]
  },
  {
   "attachments": {},
   "cell_type": "markdown",
   "metadata": {
    "pycharm": {
     "name": "#%% md\n"
    }
   },
   "source": [
    "## Data Module\n",
    "\n",
    "To train the model end-to-end, we do need to have a dataset. In our [previous notebooks](https://github.com/openvinotoolkit/anomalib/tree/main/notebooks/100_datamodules), we demonstrate how to initialize benchmark- and custom datasets. In this tutorial, we will use MVTec AD DataModule. We assume that `datasets` directory is created in the `anomalib` root directory and `MVTec` dataset is located in `datasets` directory.\n",
    "\n",
    "Before creating the dataset, let's define the task type that we will be working on. In this notebook, we will be working on a segmentation task. Therefore the `task` variable would be:"
   ]
  },
  {
   "cell_type": "code",
   "execution_count": 3,
   "metadata": {
    "execution": {
     "iopub.execute_input": "2023-02-06T13:37:26.169272Z",
     "iopub.status.busy": "2023-02-06T13:37:26.168675Z",
     "iopub.status.idle": "2023-02-06T13:37:26.173720Z",
     "shell.execute_reply": "2023-02-06T13:37:26.172658Z"
    }
   },
   "outputs": [],
   "source": [
    "task = TaskType.SEGMENTATION"
   ]
  },
  {
   "cell_type": "code",
   "execution_count": 4,
   "metadata": {
    "execution": {
     "iopub.execute_input": "2023-02-06T13:37:26.177375Z",
     "iopub.status.busy": "2023-02-06T13:37:26.177011Z",
     "iopub.status.idle": "2023-02-06T13:37:27.196899Z",
     "shell.execute_reply": "2023-02-06T13:37:27.194921Z"
    },
    "pycharm": {
     "name": "#%%\n"
    }
   },
   "outputs": [
    {
     "name": "stdout",
     "output_type": "stream",
     "text": [
      "Image Shape: torch.Size([32, 3, 256, 256]) Mask Shape: torch.Size([32, 256, 256])\n"
     ]
    }
   ],
   "source": [
    "datamodule = MVTec(\n",
    "    root=dataset_root,\n",
    "    category=\"bottle\",\n",
    "    image_size=256,\n",
    "    train_batch_size=32,\n",
    "    eval_batch_size=32,\n",
    "    num_workers=8,\n",
    "    task=task,\n",
    ")\n",
    "datamodule.setup()\n",
    "i, data = next(enumerate(datamodule.test_dataloader()))\n",
    "print(f'Image Shape: {data[\"image\"].shape} Mask Shape: {data[\"mask\"].shape}')"
   ]
  },
  {
   "cell_type": "markdown",
   "metadata": {
    "pycharm": {
     "name": "#%% md\n"
    }
   },
   "source": [
    "## FastFlow Model\n",
    "\n",
    "Now that we have created the MVTec datamodule, we could create the FastFlow model. We could start with printing its docstring."
   ]
  },
  {
   "cell_type": "code",
   "execution_count": 5,
   "metadata": {
    "execution": {
     "iopub.execute_input": "2023-02-06T13:37:27.204917Z",
     "iopub.status.busy": "2023-02-06T13:37:27.204011Z",
     "iopub.status.idle": "2023-02-06T13:37:27.286515Z",
     "shell.execute_reply": "2023-02-06T13:37:27.285398Z"
    },
    "pycharm": {
     "name": "#%%\n"
    }
   },
   "outputs": [],
   "source": [
    "Fastflow??"
   ]
  },
  {
   "cell_type": "code",
   "execution_count": 6,
   "metadata": {
    "execution": {
     "iopub.execute_input": "2023-02-06T13:37:27.289923Z",
     "iopub.status.busy": "2023-02-06T13:37:27.289575Z",
     "iopub.status.idle": "2023-02-06T13:37:27.655077Z",
     "shell.execute_reply": "2023-02-06T13:37:27.654387Z"
    },
    "pycharm": {
     "name": "#%%\n"
    }
   },
   "outputs": [
    {
     "name": "stderr",
     "output_type": "stream",
     "text": [
      "/home/user/conda/lib/python3.8/site-packages/torchmetrics/utilities/prints.py:36: DeprecationWarning: From v0.10 an `'Binary*'`, `'Multiclass*', `'Multilabel*'` version now exist of each classification metric. Moving forward we recommend using these versions. This base metric will still work as it did prior to v0.10 until v0.11. From v0.11 the `task` argument introduced in this metric will be required and the general order of arguments may change, such that this metric will just function as an single entrypoint to calling the three specialized versions.\n",
      "  warnings.warn(*args, **kwargs)\n",
      "/home/user/conda/lib/python3.8/site-packages/torchmetrics/utilities/prints.py:36: UserWarning: Metric `PrecisionRecallCurve` will save all targets and predictions in buffer. For large datasets this may lead to large memory footprint.\n",
      "  warnings.warn(*args, **kwargs)\n"
     ]
    }
   ],
   "source": [
    "model = Fastflow(input_size=(256, 256), backbone=\"resnet18\", flow_steps=8)"
   ]
  },
  {
   "cell_type": "markdown",
   "metadata": {
    "pycharm": {
     "name": "#%% md\n"
    }
   },
   "source": [
    "Depending on the `training` mode, `model` returns two different outputs. If the model is in `training` mode, it returns the hidden variable and the log of the jacobian, based on the feature maps."
   ]
  },
  {
   "cell_type": "code",
   "execution_count": 7,
   "metadata": {
    "execution": {
     "iopub.execute_input": "2023-02-06T13:37:27.658468Z",
     "iopub.status.busy": "2023-02-06T13:37:27.658174Z",
     "iopub.status.idle": "2023-02-06T13:37:28.560324Z",
     "shell.execute_reply": "2023-02-06T13:37:28.559492Z"
    },
    "pycharm": {
     "name": "#%%\n"
    }
   },
   "outputs": [
    {
     "name": "stdout",
     "output_type": "stream",
     "text": [
      "Hidden Variable Shape: torch.Size([32, 64, 64, 64])\n"
     ]
    }
   ],
   "source": [
    "model.training = True\n",
    "train_output = model(data[\"image\"])\n",
    "hidden_variables, log_jacobian = train_output\n",
    "print(f\"Hidden Variable Shape: {hidden_variables[0].shape}\")"
   ]
  },
  {
   "cell_type": "markdown",
   "metadata": {
    "pycharm": {
     "name": "#%% md\n"
    }
   },
   "source": [
    "During the test/inference mode, the model returns an anomaly heatmap localizing the anomalous regions."
   ]
  },
  {
   "cell_type": "code",
   "execution_count": 8,
   "metadata": {
    "execution": {
     "iopub.execute_input": "2023-02-06T13:37:28.563082Z",
     "iopub.status.busy": "2023-02-06T13:37:28.562792Z",
     "iopub.status.idle": "2023-02-06T13:37:29.392312Z",
     "shell.execute_reply": "2023-02-06T13:37:29.391640Z"
    },
    "pycharm": {
     "name": "#%%\n"
    }
   },
   "outputs": [
    {
     "name": "stdout",
     "output_type": "stream",
     "text": [
      "Anomaly Map Shape: torch.Size([32, 1, 256, 256])\n"
     ]
    }
   ],
   "source": [
    "model.model.training = False\n",
    "anomaly_map = model(data[\"image\"])\n",
    "print(f\"Anomaly Map Shape: {anomaly_map.shape}\")"
   ]
  },
  {
   "cell_type": "markdown",
   "metadata": {
    "pycharm": {
     "name": "#%% md\n"
    }
   },
   "source": [
    "## Optimizer\n",
    "\n",
    "`LightningModule` has `configure_optimizer` method that returns the optimizer object. This is not implemented in the FastFlow model. Instead, it is left to the user to make it configurable by either CLI or API. Here we will be configuring it via the API. To do so, we first need to create the optimizer object, wrap it around a function and finally inject this function into the model class."
   ]
  },
  {
   "cell_type": "code",
   "execution_count": 9,
   "metadata": {
    "execution": {
     "iopub.execute_input": "2023-02-06T13:37:29.395279Z",
     "iopub.status.busy": "2023-02-06T13:37:29.394989Z",
     "iopub.status.idle": "2023-02-06T13:37:29.400623Z",
     "shell.execute_reply": "2023-02-06T13:37:29.400092Z"
    },
    "pycharm": {
     "name": "#%%\n"
    }
   },
   "outputs": [],
   "source": [
    "def configure_optimizers(lightning_module: LightningModule, optimizer: Optimizer) -> Any:  # pylint: disable=W0613,W0621\n",
    "    \"\"\"Override to customize the LightningModule.configure_optimizers` method.\"\"\"\n",
    "    return optimizer\n",
    "\n",
    "\n",
    "optimizer = Adam(params=model.parameters(), lr=0.001, betas=(0.9, 0.999), weight_decay=1e-5)\n",
    "fn = partial(configure_optimizers, optimizer=optimizer)\n",
    "update_wrapper(fn, configure_optimizers)  # necessary for `is_overridden`\n",
    "model.configure_optimizers = MethodType(fn, model)"
   ]
  },
  {
   "cell_type": "markdown",
   "metadata": {
    "pycharm": {
     "name": "#%% md\n"
    }
   },
   "source": [
    "## Callbacks\n",
    "\n",
    "To train the model properly, we will to add some other \"non-essential\" logic such as saving the weights, early-stopping, normalizing the anomaly scores and visualizing the input/output images. To achieve these we use `Callbacks`. Anomalib has its own callbacks and also supports PyTorch Lightning's native callbacks. So, let's create the list of callbacks we want to execute during the training."
   ]
  },
  {
   "cell_type": "code",
   "execution_count": 10,
   "metadata": {
    "execution": {
     "iopub.execute_input": "2023-02-06T13:37:29.403477Z",
     "iopub.status.busy": "2023-02-06T13:37:29.403124Z",
     "iopub.status.idle": "2023-02-06T13:37:29.410803Z",
     "shell.execute_reply": "2023-02-06T13:37:29.410111Z"
    },
    "pycharm": {
     "name": "#%%\n"
    }
   },
   "outputs": [],
   "source": [
    "callbacks = [\n",
    "    MetricsConfigurationCallback(\n",
    "        task=task,\n",
    "        image_metrics=[\"AUROC\"],\n",
    "        pixel_metrics=[\"AUROC\"],\n",
    "    ),\n",
    "    ModelCheckpoint(\n",
    "        mode=\"max\",\n",
    "        monitor=\"pixel_AUROC\",\n",
    "    ),\n",
    "    EarlyStopping(\n",
    "        monitor=\"pixel_AUROC\",\n",
    "        mode=\"max\",\n",
    "        patience=3,\n",
    "    ),\n",
    "    PostProcessingConfigurationCallback(\n",
    "        normalization_method=NormalizationMethod.MIN_MAX,\n",
    "        threshold_method=ThresholdMethod.ADAPTIVE,\n",
    "    ),\n",
    "    ImageVisualizerCallback(mode=\"full\", task=task, image_save_path=\"./results/images\"),\n",
    "    MetricVisualizerCallback(mode=\"full\", task=task, image_save_path=\"./results/images\"),\n",
    "]"
   ]
  },
  {
   "cell_type": "markdown",
   "metadata": {
    "pycharm": {
     "name": "#%% md\n"
    }
   },
   "source": [
    "## Training\n",
    "\n",
    "Now that we set up the datamodule, model, optimizer and the callbacks, we could now train the model.\n",
    "\n",
    "The final component to train the model is `pytorch_lightning` `Trainer` object, which handles train/test/predict pipeline. Let's create the trainer object to train the model."
   ]
  },
  {
   "cell_type": "code",
   "execution_count": 11,
   "metadata": {
    "execution": {
     "iopub.execute_input": "2023-02-06T13:37:29.414353Z",
     "iopub.status.busy": "2023-02-06T13:37:29.414076Z",
     "iopub.status.idle": "2023-02-06T13:37:29.424133Z",
     "shell.execute_reply": "2023-02-06T13:37:29.423279Z"
    },
    "pycharm": {
     "name": "#%%\n"
    }
   },
   "outputs": [
    {
     "name": "stderr",
     "output_type": "stream",
     "text": [
      "GPU available: True, used: True\n"
     ]
    },
    {
     "name": "stderr",
     "output_type": "stream",
     "text": [
      "TPU available: False, using: 0 TPU cores\n"
     ]
    },
    {
     "name": "stderr",
     "output_type": "stream",
     "text": [
      "IPU available: False, using: 0 IPUs\n"
     ]
    },
    {
     "name": "stderr",
     "output_type": "stream",
     "text": [
      "HPU available: False, using: 0 HPUs\n"
     ]
    }
   ],
   "source": [
    "trainer = Trainer(\n",
    "    callbacks=callbacks,\n",
    "    accelerator=\"auto\",  # \\<\"cpu\", \"gpu\", \"tpu\", \"ipu\", \"hpu\", \"auto\">,\n",
    "    devices=1,\n",
    "    max_epochs=100,\n",
    ")"
   ]
  },
  {
   "cell_type": "markdown",
   "metadata": {
    "pycharm": {
     "name": "#%% md\n"
    }
   },
   "source": [
    "`Trainer` object has number of options that suit all specific needs. For more details, refer to [Lightning Documentation](https://pytorch-lightning.readthedocs.io/en/stable/common/trainer.html) to see how it could be tweaked to your needs.\n",
    "\n",
    "Let's train the model now."
   ]
  },
  {
   "cell_type": "code",
   "execution_count": 12,
   "metadata": {
    "execution": {
     "iopub.execute_input": "2023-02-06T13:37:29.429062Z",
     "iopub.status.busy": "2023-02-06T13:37:29.428742Z",
     "iopub.status.idle": "2023-02-06T13:38:38.704524Z",
     "shell.execute_reply": "2023-02-06T13:38:38.702686Z"
    },
    "pycharm": {
     "name": "#%%\n"
    }
   },
   "outputs": [
    {
     "name": "stderr",
     "output_type": "stream",
     "text": [
      "Missing logger folder: /home/user/actions-runner/_work/anomalib/anomalib/lightning_logs\n"
     ]
    },
    {
     "name": "stderr",
     "output_type": "stream",
     "text": [
      "/home/user/conda/lib/python3.8/site-packages/torchmetrics/utilities/prints.py:36: UserWarning: Metric `ROC` will save all targets and predictions in buffer. For large datasets this may lead to large memory footprint.\n",
      "  warnings.warn(*args, **kwargs)\n"
     ]
    },
    {
     "name": "stderr",
     "output_type": "stream",
     "text": [
      "LOCAL_RANK: 0 - CUDA_VISIBLE_DEVICES: [3]\n"
     ]
    },
    {
     "name": "stderr",
     "output_type": "stream",
     "text": [
      "\n",
      "  | Name            | Type                     | Params\n",
      "-------------------------------------------------------------\n",
      "0 | image_threshold | AnomalyScoreThreshold    | 0     \n",
      "1 | pixel_threshold | AnomalyScoreThreshold    | 0     \n",
      "2 | model           | FastflowModel            | 7.7 M \n",
      "3 | loss            | FastflowLoss             | 0     \n",
      "4 | image_metrics   | AnomalibMetricCollection | 0     \n",
      "5 | pixel_metrics   | AnomalibMetricCollection | 0     \n",
      "-------------------------------------------------------------\n",
      "3.5 M     Trainable params\n",
      "4.2 M     Non-trainable params\n",
      "7.7 M     Total params\n",
      "30.678    Total estimated model params size (MB)\n"
     ]
    },
    {
     "name": "stdout",
     "output_type": "stream",
     "text": [
      "\r",
      "Sanity Checking: 0it [00:00, ?it/s]"
     ]
    },
    {
     "name": "stdout",
     "output_type": "stream",
     "text": [
      "\r",
      "Sanity Checking:   0%|          | 0/2 [00:00<?, ?it/s]"
     ]
    },
    {
     "name": "stdout",
     "output_type": "stream",
     "text": [
      "\r",
      "Sanity Checking DataLoader 0:   0%|          | 0/2 [00:00<?, ?it/s]"
     ]
    },
    {
     "name": "stdout",
     "output_type": "stream",
     "text": [
      "\r",
      "Sanity Checking DataLoader 0:  50%|█████     | 1/2 [00:00<00:00,  3.35it/s]"
     ]
    },
    {
     "name": "stdout",
     "output_type": "stream",
     "text": [
      "\r",
      "Sanity Checking DataLoader 0:  50%|█████     | 1/2 [00:00<00:00,  3.35it/s]"
     ]
    },
    {
     "name": "stdout",
     "output_type": "stream",
     "text": [
      "\r",
      "Sanity Checking DataLoader 0: 100%|██████████| 2/2 [00:00<00:00,  3.35it/s]"
     ]
    },
    {
     "name": "stdout",
     "output_type": "stream",
     "text": [
      "\r",
      "                                                                           "
     ]
    },
    {
     "name": "stderr",
     "output_type": "stream",
     "text": [
      "/home/user/conda/lib/python3.8/site-packages/torchmetrics/utilities/prints.py:36: DeprecationWarning: `torchmetrics.functional.auc` has been move to `torchmetrics.utilities.compute` in v0.10 and will be removed in v0.11.\n",
      "  warnings.warn(*args, **kwargs)\n",
      "/home/user/conda/lib/python3.8/site-packages/pytorch_lightning/trainer/trainer.py:1933: PossibleUserWarning: The number of training batches (7) is smaller than the logging interval Trainer(log_every_n_steps=50). Set a lower value for log_every_n_steps if you want to see logs for the training epoch.\n",
      "  rank_zero_warn(\n"
     ]
    },
    {
     "name": "stdout",
     "output_type": "stream",
     "text": [
      "\r"
     ]
    },
    {
     "name": "stdout",
     "output_type": "stream",
     "text": [
      "\r",
      "Training: 0it [00:00, ?it/s]"
     ]
    },
    {
     "name": "stdout",
     "output_type": "stream",
     "text": [
      "\r",
      "Training:   0%|          | 0/10 [00:00<?, ?it/s]"
     ]
    },
    {
     "name": "stdout",
     "output_type": "stream",
     "text": [
      "\r",
      "Epoch 0:   0%|          | 0/10 [00:00<?, ?it/s] "
     ]
    },
    {
     "name": "stdout",
     "output_type": "stream",
     "text": [
      "\r",
      "Epoch 0:  10%|█         | 1/10 [00:01<00:17,  1.98s/it]"
     ]
    },
    {
     "name": "stdout",
     "output_type": "stream",
     "text": [
      "\r",
      "Epoch 0:  10%|█         | 1/10 [00:01<00:17,  1.98s/it]"
     ]
    },
    {
     "name": "stdout",
     "output_type": "stream",
     "text": [
      "\r",
      "Epoch 0:  10%|█         | 1/10 [00:01<00:17,  1.99s/it, loss=2.33e+05, v_num=0, train_loss_step=2.33e+5]"
     ]
    },
    {
     "name": "stderr",
     "output_type": "stream",
     "text": [
      "/home/user/conda/lib/python3.8/site-packages/pytorch_lightning/utilities/data.py:72: UserWarning: Trying to infer the `batch_size` from an ambiguous collection. The batch size we found is 32. To avoid any miscalculations, use `self.log(..., batch_size=batch_size)`.\n",
      "  warning_cache.warn(\n"
     ]
    },
    {
     "name": "stdout",
     "output_type": "stream",
     "text": [
      "\r",
      "Epoch 0:  20%|██        | 2/10 [00:02<00:08,  1.06s/it, loss=2.33e+05, v_num=0, train_loss_step=2.33e+5]"
     ]
    },
    {
     "name": "stdout",
     "output_type": "stream",
     "text": [
      "\r",
      "Epoch 0:  20%|██        | 2/10 [00:02<00:08,  1.06s/it, loss=2.33e+05, v_num=0, train_loss_step=2.33e+5]"
     ]
    },
    {
     "name": "stdout",
     "output_type": "stream",
     "text": [
      "\r",
      "Epoch 0:  20%|██        | 2/10 [00:02<00:08,  1.06s/it, loss=2.19e+05, v_num=0, train_loss_step=2.05e+5]"
     ]
    },
    {
     "name": "stdout",
     "output_type": "stream",
     "text": [
      "\r",
      "Epoch 0:  30%|███       | 3/10 [00:02<00:05,  1.34it/s, loss=2.19e+05, v_num=0, train_loss_step=2.05e+5]"
     ]
    },
    {
     "name": "stdout",
     "output_type": "stream",
     "text": [
      "\r",
      "Epoch 0:  30%|███       | 3/10 [00:02<00:05,  1.34it/s, loss=2.19e+05, v_num=0, train_loss_step=2.05e+5]"
     ]
    },
    {
     "name": "stdout",
     "output_type": "stream",
     "text": [
      "\r",
      "Epoch 0:  30%|███       | 3/10 [00:02<00:05,  1.34it/s, loss=2.07e+05, v_num=0, train_loss_step=1.82e+5]"
     ]
    },
    {
     "name": "stdout",
     "output_type": "stream",
     "text": [
      "\r",
      "Epoch 0:  40%|████      | 4/10 [00:02<00:03,  1.70it/s, loss=2.07e+05, v_num=0, train_loss_step=1.82e+5]"
     ]
    },
    {
     "name": "stdout",
     "output_type": "stream",
     "text": [
      "\r",
      "Epoch 0:  40%|████      | 4/10 [00:02<00:03,  1.70it/s, loss=2.07e+05, v_num=0, train_loss_step=1.82e+5]"
     ]
    },
    {
     "name": "stdout",
     "output_type": "stream",
     "text": [
      "\r",
      "Epoch 0:  40%|████      | 4/10 [00:02<00:03,  1.69it/s, loss=1.96e+05, v_num=0, train_loss_step=1.63e+5]"
     ]
    },
    {
     "name": "stdout",
     "output_type": "stream",
     "text": [
      "\r",
      "Epoch 0:  50%|█████     | 5/10 [00:02<00:02,  2.01it/s, loss=1.96e+05, v_num=0, train_loss_step=1.63e+5]"
     ]
    },
    {
     "name": "stdout",
     "output_type": "stream",
     "text": [
      "\r",
      "Epoch 0:  50%|█████     | 5/10 [00:02<00:02,  2.01it/s, loss=1.96e+05, v_num=0, train_loss_step=1.63e+5]"
     ]
    },
    {
     "name": "stdout",
     "output_type": "stream",
     "text": [
      "\r",
      "Epoch 0:  50%|█████     | 5/10 [00:02<00:02,  2.01it/s, loss=1.86e+05, v_num=0, train_loss_step=1.44e+5]"
     ]
    },
    {
     "name": "stdout",
     "output_type": "stream",
     "text": [
      "\r",
      "Epoch 0:  60%|██████    | 6/10 [00:02<00:01,  2.29it/s, loss=1.86e+05, v_num=0, train_loss_step=1.44e+5]"
     ]
    },
    {
     "name": "stdout",
     "output_type": "stream",
     "text": [
      "\r",
      "Epoch 0:  60%|██████    | 6/10 [00:02<00:01,  2.29it/s, loss=1.86e+05, v_num=0, train_loss_step=1.44e+5]"
     ]
    },
    {
     "name": "stdout",
     "output_type": "stream",
     "text": [
      "\r",
      "Epoch 0:  60%|██████    | 6/10 [00:02<00:01,  2.29it/s, loss=1.76e+05, v_num=0, train_loss_step=1.28e+5]"
     ]
    },
    {
     "name": "stdout",
     "output_type": "stream",
     "text": [
      "\r",
      "Epoch 0:  70%|███████   | 7/10 [00:02<00:01,  2.56it/s, loss=1.76e+05, v_num=0, train_loss_step=1.28e+5]"
     ]
    },
    {
     "name": "stdout",
     "output_type": "stream",
     "text": [
      "\r",
      "Epoch 0:  70%|███████   | 7/10 [00:02<00:01,  2.56it/s, loss=1.76e+05, v_num=0, train_loss_step=1.28e+5]"
     ]
    },
    {
     "name": "stdout",
     "output_type": "stream",
     "text": [
      "\r",
      "Epoch 0:  70%|███████   | 7/10 [00:02<00:01,  2.56it/s, loss=1.67e+05, v_num=0, train_loss_step=1.12e+5]"
     ]
    },
    {
     "name": "stderr",
     "output_type": "stream",
     "text": [
      "/home/user/conda/lib/python3.8/site-packages/pytorch_lightning/utilities/data.py:72: UserWarning: Trying to infer the `batch_size` from an ambiguous collection. The batch size we found is 17. To avoid any miscalculations, use `self.log(..., batch_size=batch_size)`.\n",
      "  warning_cache.warn(\n"
     ]
    },
    {
     "name": "stdout",
     "output_type": "stream",
     "text": [
      "\n"
     ]
    },
    {
     "name": "stdout",
     "output_type": "stream",
     "text": [
      "\r",
      "Validation: 0it [00:00, ?it/s]"
     ]
    },
    {
     "name": "stdout",
     "output_type": "stream",
     "text": [
      "\u001b[A"
     ]
    },
    {
     "name": "stdout",
     "output_type": "stream",
     "text": [
      "\n"
     ]
    },
    {
     "name": "stdout",
     "output_type": "stream",
     "text": [
      "\r",
      "Validation:   0%|          | 0/3 [00:00<?, ?it/s]"
     ]
    },
    {
     "name": "stdout",
     "output_type": "stream",
     "text": [
      "\u001b[A"
     ]
    },
    {
     "name": "stdout",
     "output_type": "stream",
     "text": [
      "\n"
     ]
    },
    {
     "name": "stdout",
     "output_type": "stream",
     "text": [
      "\r",
      "Validation DataLoader 0:   0%|          | 0/3 [00:00<?, ?it/s]"
     ]
    },
    {
     "name": "stdout",
     "output_type": "stream",
     "text": [
      "\u001b[A"
     ]
    },
    {
     "name": "stdout",
     "output_type": "stream",
     "text": [
      "\n"
     ]
    },
    {
     "name": "stdout",
     "output_type": "stream",
     "text": [
      "\r",
      "Validation DataLoader 0:  33%|███▎      | 1/3 [00:00<00:00, 11.22it/s]"
     ]
    },
    {
     "name": "stdout",
     "output_type": "stream",
     "text": [
      "\u001b[A"
     ]
    },
    {
     "name": "stdout",
     "output_type": "stream",
     "text": [
      "\r",
      "Epoch 0:  80%|████████  | 8/10 [00:04<00:01,  1.70it/s, loss=1.67e+05, v_num=0, train_loss_step=1.12e+5]"
     ]
    },
    {
     "name": "stdout",
     "output_type": "stream",
     "text": [
      "\r",
      "Epoch 0:  80%|████████  | 8/10 [00:04<00:01,  1.70it/s, loss=1.67e+05, v_num=0, train_loss_step=1.12e+5]"
     ]
    },
    {
     "name": "stdout",
     "output_type": "stream",
     "text": [
      "\n"
     ]
    },
    {
     "name": "stdout",
     "output_type": "stream",
     "text": [
      "\r",
      "Validation DataLoader 0:  67%|██████▋   | 2/3 [00:00<00:00, 10.90it/s]"
     ]
    },
    {
     "name": "stdout",
     "output_type": "stream",
     "text": [
      "\u001b[A"
     ]
    },
    {
     "name": "stdout",
     "output_type": "stream",
     "text": [
      "\n"
     ]
    },
    {
     "name": "stdout",
     "output_type": "stream",
     "text": [
      "\r",
      "Validation DataLoader 0:  67%|██████▋   | 2/3 [00:00<00:00, 10.90it/s]"
     ]
    },
    {
     "name": "stdout",
     "output_type": "stream",
     "text": [
      "\u001b[A"
     ]
    },
    {
     "name": "stdout",
     "output_type": "stream",
     "text": [
      "\r",
      "Epoch 0:  90%|█████████ | 9/10 [00:04<00:00,  1.87it/s, loss=1.67e+05, v_num=0, train_loss_step=1.12e+5]"
     ]
    },
    {
     "name": "stdout",
     "output_type": "stream",
     "text": [
      "\n"
     ]
    },
    {
     "name": "stdout",
     "output_type": "stream",
     "text": [
      "\r",
      "Validation DataLoader 0: 100%|██████████| 3/3 [00:00<00:00, 10.90it/s]"
     ]
    },
    {
     "name": "stdout",
     "output_type": "stream",
     "text": [
      "\u001b[A"
     ]
    },
    {
     "name": "stdout",
     "output_type": "stream",
     "text": [
      "\r",
      "Epoch 0: 100%|██████████| 10/10 [00:04<00:00,  2.05it/s, loss=1.67e+05, v_num=0, train_loss_step=1.12e+5]"
     ]
    },
    {
     "name": "stdout",
     "output_type": "stream",
     "text": [
      "\r",
      "Epoch 0: 100%|██████████| 10/10 [00:04<00:00,  2.05it/s, loss=1.67e+05, v_num=0, train_loss_step=1.12e+5]"
     ]
    },
    {
     "name": "stdout",
     "output_type": "stream",
     "text": [
      "\r",
      "Epoch 0: 100%|██████████| 10/10 [00:05<00:00,  1.78it/s, loss=1.67e+05, v_num=0, train_loss_step=1.12e+5, pixel_AUROC=0.794]"
     ]
    },
    {
     "name": "stdout",
     "output_type": "stream",
     "text": [
      "\n"
     ]
    },
    {
     "name": "stdout",
     "output_type": "stream",
     "text": [
      "\r",
      "                                                                      "
     ]
    },
    {
     "name": "stdout",
     "output_type": "stream",
     "text": [
      "\u001b[A"
     ]
    },
    {
     "name": "stdout",
     "output_type": "stream",
     "text": [
      "\r",
      "Epoch 0: 100%|██████████| 10/10 [00:05<00:00,  1.78it/s, loss=1.67e+05, v_num=0, train_loss_step=1.12e+5, pixel_AUROC=0.794, train_loss_epoch=1.71e+5]"
     ]
    },
    {
     "name": "stdout",
     "output_type": "stream",
     "text": [
      "\r",
      "Epoch 0:   0%|          | 0/10 [00:00<?, ?it/s, loss=1.67e+05, v_num=0, train_loss_step=1.12e+5, pixel_AUROC=0.794, train_loss_epoch=1.71e+5]         "
     ]
    },
    {
     "name": "stdout",
     "output_type": "stream",
     "text": [
      "\r",
      "Epoch 1:   0%|          | 0/10 [00:00<?, ?it/s, loss=1.67e+05, v_num=0, train_loss_step=1.12e+5, pixel_AUROC=0.794, train_loss_epoch=1.71e+5]"
     ]
    },
    {
     "name": "stdout",
     "output_type": "stream",
     "text": [
      "\r",
      "Epoch 1:  10%|█         | 1/10 [00:02<00:18,  2.04s/it, loss=1.67e+05, v_num=0, train_loss_step=1.12e+5, pixel_AUROC=0.794, train_loss_epoch=1.71e+5]"
     ]
    },
    {
     "name": "stdout",
     "output_type": "stream",
     "text": [
      "\r",
      "Epoch 1:  10%|█         | 1/10 [00:02<00:18,  2.04s/it, loss=1.58e+05, v_num=0, train_loss_step=9.61e+4, pixel_AUROC=0.794, train_loss_epoch=1.71e+5]"
     ]
    },
    {
     "name": "stdout",
     "output_type": "stream",
     "text": [
      "\r",
      "Epoch 1:  20%|██        | 2/10 [00:02<00:08,  1.09s/it, loss=1.58e+05, v_num=0, train_loss_step=9.61e+4, pixel_AUROC=0.794, train_loss_epoch=1.71e+5]"
     ]
    },
    {
     "name": "stdout",
     "output_type": "stream",
     "text": [
      "\r",
      "Epoch 1:  20%|██        | 2/10 [00:02<00:08,  1.09s/it, loss=1.58e+05, v_num=0, train_loss_step=9.61e+4, pixel_AUROC=0.794, train_loss_epoch=1.71e+5]"
     ]
    },
    {
     "name": "stdout",
     "output_type": "stream",
     "text": [
      "\r",
      "Epoch 1:  20%|██        | 2/10 [00:02<00:08,  1.09s/it, loss=1.49e+05, v_num=0, train_loss_step=8.03e+4, pixel_AUROC=0.794, train_loss_epoch=1.71e+5]"
     ]
    },
    {
     "name": "stdout",
     "output_type": "stream",
     "text": [
      "\r",
      "Epoch 1:  30%|███       | 3/10 [00:02<00:05,  1.31it/s, loss=1.49e+05, v_num=0, train_loss_step=8.03e+4, pixel_AUROC=0.794, train_loss_epoch=1.71e+5]"
     ]
    },
    {
     "name": "stdout",
     "output_type": "stream",
     "text": [
      "\r",
      "Epoch 1:  30%|███       | 3/10 [00:02<00:05,  1.31it/s, loss=1.41e+05, v_num=0, train_loss_step=6.46e+4, pixel_AUROC=0.794, train_loss_epoch=1.71e+5]"
     ]
    },
    {
     "name": "stdout",
     "output_type": "stream",
     "text": [
      "\r",
      "Epoch 1:  40%|████      | 4/10 [00:02<00:03,  1.66it/s, loss=1.41e+05, v_num=0, train_loss_step=6.46e+4, pixel_AUROC=0.794, train_loss_epoch=1.71e+5]"
     ]
    },
    {
     "name": "stdout",
     "output_type": "stream",
     "text": [
      "\r",
      "Epoch 1:  40%|████      | 4/10 [00:02<00:03,  1.66it/s, loss=1.41e+05, v_num=0, train_loss_step=6.46e+4, pixel_AUROC=0.794, train_loss_epoch=1.71e+5]"
     ]
    },
    {
     "name": "stdout",
     "output_type": "stream",
     "text": [
      "\r",
      "Epoch 1:  40%|████      | 4/10 [00:02<00:03,  1.65it/s, loss=1.33e+05, v_num=0, train_loss_step=4.94e+4, pixel_AUROC=0.794, train_loss_epoch=1.71e+5]"
     ]
    },
    {
     "name": "stdout",
     "output_type": "stream",
     "text": [
      "\r",
      "Epoch 1:  50%|█████     | 5/10 [00:02<00:02,  1.97it/s, loss=1.33e+05, v_num=0, train_loss_step=4.94e+4, pixel_AUROC=0.794, train_loss_epoch=1.71e+5]"
     ]
    },
    {
     "name": "stdout",
     "output_type": "stream",
     "text": [
      "\r",
      "Epoch 1:  50%|█████     | 5/10 [00:02<00:02,  1.97it/s, loss=1.24e+05, v_num=0, train_loss_step=3.45e+4, pixel_AUROC=0.794, train_loss_epoch=1.71e+5]"
     ]
    },
    {
     "name": "stdout",
     "output_type": "stream",
     "text": [
      "\r",
      "Epoch 1:  60%|██████    | 6/10 [00:02<00:01,  2.26it/s, loss=1.24e+05, v_num=0, train_loss_step=3.45e+4, pixel_AUROC=0.794, train_loss_epoch=1.71e+5]"
     ]
    },
    {
     "name": "stdout",
     "output_type": "stream",
     "text": [
      "\r",
      "Epoch 1:  60%|██████    | 6/10 [00:02<00:01,  2.26it/s, loss=1.24e+05, v_num=0, train_loss_step=3.45e+4, pixel_AUROC=0.794, train_loss_epoch=1.71e+5]"
     ]
    },
    {
     "name": "stdout",
     "output_type": "stream",
     "text": [
      "\r",
      "Epoch 1:  60%|██████    | 6/10 [00:02<00:01,  2.26it/s, loss=1.16e+05, v_num=0, train_loss_step=2.02e+4, pixel_AUROC=0.794, train_loss_epoch=1.71e+5]"
     ]
    },
    {
     "name": "stdout",
     "output_type": "stream",
     "text": [
      "\r",
      "Epoch 1:  70%|███████   | 7/10 [00:02<00:01,  2.53it/s, loss=1.16e+05, v_num=0, train_loss_step=2.02e+4, pixel_AUROC=0.794, train_loss_epoch=1.71e+5]"
     ]
    },
    {
     "name": "stdout",
     "output_type": "stream",
     "text": [
      "\r",
      "Epoch 1:  70%|███████   | 7/10 [00:02<00:01,  2.53it/s, loss=1.09e+05, v_num=0, train_loss_step=6e+3, pixel_AUROC=0.794, train_loss_epoch=1.71e+5]   "
     ]
    },
    {
     "name": "stdout",
     "output_type": "stream",
     "text": [
      "\n"
     ]
    },
    {
     "name": "stdout",
     "output_type": "stream",
     "text": [
      "\r",
      "Validation: 0it [00:00, ?it/s]"
     ]
    },
    {
     "name": "stdout",
     "output_type": "stream",
     "text": [
      "\u001b[A"
     ]
    },
    {
     "name": "stdout",
     "output_type": "stream",
     "text": [
      "\n"
     ]
    },
    {
     "name": "stdout",
     "output_type": "stream",
     "text": [
      "\r",
      "Validation:   0%|          | 0/3 [00:00<?, ?it/s]"
     ]
    },
    {
     "name": "stdout",
     "output_type": "stream",
     "text": [
      "\u001b[A"
     ]
    },
    {
     "name": "stdout",
     "output_type": "stream",
     "text": [
      "\n"
     ]
    },
    {
     "name": "stdout",
     "output_type": "stream",
     "text": [
      "\r",
      "Validation DataLoader 0:   0%|          | 0/3 [00:00<?, ?it/s]"
     ]
    },
    {
     "name": "stdout",
     "output_type": "stream",
     "text": [
      "\u001b[A"
     ]
    },
    {
     "name": "stdout",
     "output_type": "stream",
     "text": [
      "\n"
     ]
    },
    {
     "name": "stdout",
     "output_type": "stream",
     "text": [
      "\r",
      "Validation DataLoader 0:  33%|███▎      | 1/3 [00:00<00:00, 11.61it/s]"
     ]
    },
    {
     "name": "stdout",
     "output_type": "stream",
     "text": [
      "\u001b[A"
     ]
    },
    {
     "name": "stdout",
     "output_type": "stream",
     "text": [
      "\r",
      "Epoch 1:  80%|████████  | 8/10 [00:04<00:01,  1.71it/s, loss=1.09e+05, v_num=0, train_loss_step=6e+3, pixel_AUROC=0.794, train_loss_epoch=1.71e+5]"
     ]
    },
    {
     "name": "stdout",
     "output_type": "stream",
     "text": [
      "\r",
      "Epoch 1:  80%|████████  | 8/10 [00:04<00:01,  1.71it/s, loss=1.09e+05, v_num=0, train_loss_step=6e+3, pixel_AUROC=0.794, train_loss_epoch=1.71e+5]"
     ]
    },
    {
     "name": "stdout",
     "output_type": "stream",
     "text": [
      "\n"
     ]
    },
    {
     "name": "stdout",
     "output_type": "stream",
     "text": [
      "\r",
      "Validation DataLoader 0:  67%|██████▋   | 2/3 [00:00<00:00, 11.08it/s]"
     ]
    },
    {
     "name": "stdout",
     "output_type": "stream",
     "text": [
      "\u001b[A"
     ]
    },
    {
     "name": "stdout",
     "output_type": "stream",
     "text": [
      "\n"
     ]
    },
    {
     "name": "stdout",
     "output_type": "stream",
     "text": [
      "\r",
      "Validation DataLoader 0:  67%|██████▋   | 2/3 [00:00<00:00, 11.08it/s]"
     ]
    },
    {
     "name": "stdout",
     "output_type": "stream",
     "text": [
      "\u001b[A"
     ]
    },
    {
     "name": "stdout",
     "output_type": "stream",
     "text": [
      "\r",
      "Epoch 1:  90%|█████████ | 9/10 [00:04<00:00,  1.89it/s, loss=1.09e+05, v_num=0, train_loss_step=6e+3, pixel_AUROC=0.794, train_loss_epoch=1.71e+5]"
     ]
    },
    {
     "name": "stdout",
     "output_type": "stream",
     "text": [
      "\n"
     ]
    },
    {
     "name": "stdout",
     "output_type": "stream",
     "text": [
      "\r",
      "Validation DataLoader 0: 100%|██████████| 3/3 [00:00<00:00, 11.08it/s]"
     ]
    },
    {
     "name": "stdout",
     "output_type": "stream",
     "text": [
      "\u001b[A"
     ]
    },
    {
     "name": "stdout",
     "output_type": "stream",
     "text": [
      "\r",
      "Epoch 1: 100%|██████████| 10/10 [00:04<00:00,  2.06it/s, loss=1.09e+05, v_num=0, train_loss_step=6e+3, pixel_AUROC=0.794, train_loss_epoch=1.71e+5]"
     ]
    },
    {
     "name": "stdout",
     "output_type": "stream",
     "text": [
      "\r",
      "Epoch 1: 100%|██████████| 10/10 [00:04<00:00,  2.06it/s, loss=1.09e+05, v_num=0, train_loss_step=6e+3, pixel_AUROC=0.794, train_loss_epoch=1.71e+5]"
     ]
    },
    {
     "name": "stdout",
     "output_type": "stream",
     "text": [
      "\r",
      "Epoch 1: 100%|██████████| 10/10 [00:05<00:00,  1.79it/s, loss=1.09e+05, v_num=0, train_loss_step=6e+3, pixel_AUROC=0.892, train_loss_epoch=1.71e+5]"
     ]
    },
    {
     "name": "stdout",
     "output_type": "stream",
     "text": [
      "\n"
     ]
    },
    {
     "name": "stdout",
     "output_type": "stream",
     "text": [
      "\r",
      "                                                                      "
     ]
    },
    {
     "name": "stdout",
     "output_type": "stream",
     "text": [
      "\u001b[A"
     ]
    },
    {
     "name": "stdout",
     "output_type": "stream",
     "text": [
      "\r",
      "Epoch 1: 100%|██████████| 10/10 [00:05<00:00,  1.79it/s, loss=1.09e+05, v_num=0, train_loss_step=6e+3, pixel_AUROC=0.892, train_loss_epoch=5.33e+4]"
     ]
    },
    {
     "name": "stdout",
     "output_type": "stream",
     "text": [
      "\r",
      "Epoch 1:   0%|          | 0/10 [00:00<?, ?it/s, loss=1.09e+05, v_num=0, train_loss_step=6e+3, pixel_AUROC=0.892, train_loss_epoch=5.33e+4]         "
     ]
    },
    {
     "name": "stdout",
     "output_type": "stream",
     "text": [
      "\r",
      "Epoch 2:   0%|          | 0/10 [00:00<?, ?it/s, loss=1.09e+05, v_num=0, train_loss_step=6e+3, pixel_AUROC=0.892, train_loss_epoch=5.33e+4]"
     ]
    },
    {
     "name": "stdout",
     "output_type": "stream",
     "text": [
      "\r",
      "Epoch 2:  10%|█         | 1/10 [00:02<00:18,  2.02s/it, loss=1.09e+05, v_num=0, train_loss_step=6e+3, pixel_AUROC=0.892, train_loss_epoch=5.33e+4]"
     ]
    },
    {
     "name": "stdout",
     "output_type": "stream",
     "text": [
      "\r",
      "Epoch 2:  10%|█         | 1/10 [00:02<00:18,  2.02s/it, loss=1.01e+05, v_num=0, train_loss_step=-8.5e+3, pixel_AUROC=0.892, train_loss_epoch=5.33e+4]"
     ]
    },
    {
     "name": "stdout",
     "output_type": "stream",
     "text": [
      "\r",
      "Epoch 2:  20%|██        | 2/10 [00:02<00:08,  1.08s/it, loss=1.01e+05, v_num=0, train_loss_step=-8.5e+3, pixel_AUROC=0.892, train_loss_epoch=5.33e+4]"
     ]
    },
    {
     "name": "stdout",
     "output_type": "stream",
     "text": [
      "\r",
      "Epoch 2:  20%|██        | 2/10 [00:02<00:08,  1.08s/it, loss=1.01e+05, v_num=0, train_loss_step=-8.5e+3, pixel_AUROC=0.892, train_loss_epoch=5.33e+4]"
     ]
    },
    {
     "name": "stdout",
     "output_type": "stream",
     "text": [
      "\r",
      "Epoch 2:  20%|██        | 2/10 [00:02<00:08,  1.08s/it, loss=9.32e+04, v_num=0, train_loss_step=-2.03e+4, pixel_AUROC=0.892, train_loss_epoch=5.33e+4]"
     ]
    },
    {
     "name": "stdout",
     "output_type": "stream",
     "text": [
      "\r",
      "Epoch 2:  30%|███       | 3/10 [00:02<00:05,  1.32it/s, loss=9.32e+04, v_num=0, train_loss_step=-2.03e+4, pixel_AUROC=0.892, train_loss_epoch=5.33e+4]"
     ]
    },
    {
     "name": "stdout",
     "output_type": "stream",
     "text": [
      "\r",
      "Epoch 2:  30%|███       | 3/10 [00:02<00:05,  1.31it/s, loss=8.57e+04, v_num=0, train_loss_step=-3.4e+4, pixel_AUROC=0.892, train_loss_epoch=5.33e+4] "
     ]
    },
    {
     "name": "stdout",
     "output_type": "stream",
     "text": [
      "\r",
      "Epoch 2:  40%|████      | 4/10 [00:02<00:03,  1.66it/s, loss=8.57e+04, v_num=0, train_loss_step=-3.4e+4, pixel_AUROC=0.892, train_loss_epoch=5.33e+4]"
     ]
    },
    {
     "name": "stdout",
     "output_type": "stream",
     "text": [
      "\r",
      "Epoch 2:  40%|████      | 4/10 [00:02<00:03,  1.66it/s, loss=8.57e+04, v_num=0, train_loss_step=-3.4e+4, pixel_AUROC=0.892, train_loss_epoch=5.33e+4]"
     ]
    },
    {
     "name": "stdout",
     "output_type": "stream",
     "text": [
      "\r",
      "Epoch 2:  40%|████      | 4/10 [00:02<00:03,  1.66it/s, loss=7.84e+04, v_num=0, train_loss_step=-4.53e+4, pixel_AUROC=0.892, train_loss_epoch=5.33e+4]"
     ]
    },
    {
     "name": "stdout",
     "output_type": "stream",
     "text": [
      "\r",
      "Epoch 2:  50%|█████     | 5/10 [00:02<00:02,  1.98it/s, loss=7.84e+04, v_num=0, train_loss_step=-4.53e+4, pixel_AUROC=0.892, train_loss_epoch=5.33e+4]"
     ]
    },
    {
     "name": "stdout",
     "output_type": "stream",
     "text": [
      "\r",
      "Epoch 2:  50%|█████     | 5/10 [00:02<00:02,  1.98it/s, loss=7.13e+04, v_num=0, train_loss_step=-5.69e+4, pixel_AUROC=0.892, train_loss_epoch=5.33e+4]"
     ]
    },
    {
     "name": "stdout",
     "output_type": "stream",
     "text": [
      "\r",
      "Epoch 2:  60%|██████    | 6/10 [00:02<00:01,  2.27it/s, loss=7.13e+04, v_num=0, train_loss_step=-5.69e+4, pixel_AUROC=0.892, train_loss_epoch=5.33e+4]"
     ]
    },
    {
     "name": "stdout",
     "output_type": "stream",
     "text": [
      "\r",
      "Epoch 2:  60%|██████    | 6/10 [00:02<00:01,  2.27it/s, loss=7.13e+04, v_num=0, train_loss_step=-5.69e+4, pixel_AUROC=0.892, train_loss_epoch=5.33e+4]"
     ]
    },
    {
     "name": "stdout",
     "output_type": "stream",
     "text": [
      "\r",
      "Epoch 2:  60%|██████    | 6/10 [00:02<00:01,  2.26it/s, loss=6.45e+04, v_num=0, train_loss_step=-6.49e+4, pixel_AUROC=0.892, train_loss_epoch=5.33e+4]"
     ]
    },
    {
     "name": "stdout",
     "output_type": "stream",
     "text": [
      "\r",
      "Epoch 2:  70%|███████   | 7/10 [00:02<00:01,  2.54it/s, loss=6.45e+04, v_num=0, train_loss_step=-6.49e+4, pixel_AUROC=0.892, train_loss_epoch=5.33e+4]"
     ]
    },
    {
     "name": "stdout",
     "output_type": "stream",
     "text": [
      "\r",
      "Epoch 2:  70%|███████   | 7/10 [00:02<00:01,  2.54it/s, loss=4.9e+04, v_num=0, train_loss_step=-7.71e+4, pixel_AUROC=0.892, train_loss_epoch=5.33e+4] "
     ]
    },
    {
     "name": "stdout",
     "output_type": "stream",
     "text": [
      "\n"
     ]
    },
    {
     "name": "stdout",
     "output_type": "stream",
     "text": [
      "\r",
      "Validation: 0it [00:00, ?it/s]"
     ]
    },
    {
     "name": "stdout",
     "output_type": "stream",
     "text": [
      "\u001b[A"
     ]
    },
    {
     "name": "stdout",
     "output_type": "stream",
     "text": [
      "\n"
     ]
    },
    {
     "name": "stdout",
     "output_type": "stream",
     "text": [
      "\r",
      "Validation:   0%|          | 0/3 [00:00<?, ?it/s]"
     ]
    },
    {
     "name": "stdout",
     "output_type": "stream",
     "text": [
      "\u001b[A"
     ]
    },
    {
     "name": "stdout",
     "output_type": "stream",
     "text": [
      "\n"
     ]
    },
    {
     "name": "stdout",
     "output_type": "stream",
     "text": [
      "\r",
      "Validation DataLoader 0:   0%|          | 0/3 [00:00<?, ?it/s]"
     ]
    },
    {
     "name": "stdout",
     "output_type": "stream",
     "text": [
      "\u001b[A"
     ]
    },
    {
     "name": "stdout",
     "output_type": "stream",
     "text": [
      "\n"
     ]
    },
    {
     "name": "stdout",
     "output_type": "stream",
     "text": [
      "\r",
      "Validation DataLoader 0:  33%|███▎      | 1/3 [00:00<00:00, 11.18it/s]"
     ]
    },
    {
     "name": "stdout",
     "output_type": "stream",
     "text": [
      "\u001b[A"
     ]
    },
    {
     "name": "stdout",
     "output_type": "stream",
     "text": [
      "\r",
      "Epoch 2:  80%|████████  | 8/10 [00:04<00:01,  1.70it/s, loss=4.9e+04, v_num=0, train_loss_step=-7.71e+4, pixel_AUROC=0.892, train_loss_epoch=5.33e+4]"
     ]
    },
    {
     "name": "stdout",
     "output_type": "stream",
     "text": [
      "\r",
      "Epoch 2:  80%|████████  | 8/10 [00:04<00:01,  1.70it/s, loss=4.9e+04, v_num=0, train_loss_step=-7.71e+4, pixel_AUROC=0.892, train_loss_epoch=5.33e+4]"
     ]
    },
    {
     "name": "stdout",
     "output_type": "stream",
     "text": [
      "\n"
     ]
    },
    {
     "name": "stdout",
     "output_type": "stream",
     "text": [
      "\r",
      "Validation DataLoader 0:  67%|██████▋   | 2/3 [00:00<00:00, 10.48it/s]"
     ]
    },
    {
     "name": "stdout",
     "output_type": "stream",
     "text": [
      "\u001b[A"
     ]
    },
    {
     "name": "stdout",
     "output_type": "stream",
     "text": [
      "\n"
     ]
    },
    {
     "name": "stdout",
     "output_type": "stream",
     "text": [
      "\r",
      "Validation DataLoader 0:  67%|██████▋   | 2/3 [00:00<00:00, 10.48it/s]"
     ]
    },
    {
     "name": "stdout",
     "output_type": "stream",
     "text": [
      "\u001b[A"
     ]
    },
    {
     "name": "stdout",
     "output_type": "stream",
     "text": [
      "\r",
      "Epoch 2:  90%|█████████ | 9/10 [00:04<00:00,  1.87it/s, loss=4.9e+04, v_num=0, train_loss_step=-7.71e+4, pixel_AUROC=0.892, train_loss_epoch=5.33e+4]"
     ]
    },
    {
     "name": "stdout",
     "output_type": "stream",
     "text": [
      "\n"
     ]
    },
    {
     "name": "stdout",
     "output_type": "stream",
     "text": [
      "\r",
      "Validation DataLoader 0: 100%|██████████| 3/3 [00:00<00:00, 10.48it/s]"
     ]
    },
    {
     "name": "stdout",
     "output_type": "stream",
     "text": [
      "\u001b[A"
     ]
    },
    {
     "name": "stdout",
     "output_type": "stream",
     "text": [
      "\r",
      "Epoch 2: 100%|██████████| 10/10 [00:04<00:00,  2.05it/s, loss=4.9e+04, v_num=0, train_loss_step=-7.71e+4, pixel_AUROC=0.892, train_loss_epoch=5.33e+4]"
     ]
    },
    {
     "name": "stdout",
     "output_type": "stream",
     "text": [
      "\r",
      "Epoch 2: 100%|██████████| 10/10 [00:04<00:00,  2.05it/s, loss=4.9e+04, v_num=0, train_loss_step=-7.71e+4, pixel_AUROC=0.892, train_loss_epoch=5.33e+4]"
     ]
    },
    {
     "name": "stdout",
     "output_type": "stream",
     "text": [
      "\r",
      "Epoch 2: 100%|██████████| 10/10 [00:05<00:00,  1.78it/s, loss=4.9e+04, v_num=0, train_loss_step=-7.71e+4, pixel_AUROC=0.948, train_loss_epoch=5.33e+4]"
     ]
    },
    {
     "name": "stdout",
     "output_type": "stream",
     "text": [
      "\n"
     ]
    },
    {
     "name": "stdout",
     "output_type": "stream",
     "text": [
      "\r",
      "                                                                      "
     ]
    },
    {
     "name": "stdout",
     "output_type": "stream",
     "text": [
      "\u001b[A"
     ]
    },
    {
     "name": "stdout",
     "output_type": "stream",
     "text": [
      "\r",
      "Epoch 2: 100%|██████████| 10/10 [00:05<00:00,  1.77it/s, loss=4.9e+04, v_num=0, train_loss_step=-7.71e+4, pixel_AUROC=0.948, train_loss_epoch=-4.15e+4]"
     ]
    },
    {
     "name": "stdout",
     "output_type": "stream",
     "text": [
      "\r",
      "Epoch 2:   0%|          | 0/10 [00:00<?, ?it/s, loss=4.9e+04, v_num=0, train_loss_step=-7.71e+4, pixel_AUROC=0.948, train_loss_epoch=-4.15e+4]         "
     ]
    },
    {
     "name": "stdout",
     "output_type": "stream",
     "text": [
      "\r",
      "Epoch 3:   0%|          | 0/10 [00:00<?, ?it/s, loss=4.9e+04, v_num=0, train_loss_step=-7.71e+4, pixel_AUROC=0.948, train_loss_epoch=-4.15e+4]"
     ]
    },
    {
     "name": "stdout",
     "output_type": "stream",
     "text": [
      "\r",
      "Epoch 3:  10%|█         | 1/10 [00:02<00:18,  2.08s/it, loss=4.9e+04, v_num=0, train_loss_step=-7.71e+4, pixel_AUROC=0.948, train_loss_epoch=-4.15e+4]"
     ]
    },
    {
     "name": "stdout",
     "output_type": "stream",
     "text": [
      "\r",
      "Epoch 3:  10%|█         | 1/10 [00:02<00:18,  2.09s/it, loss=3.42e+04, v_num=0, train_loss_step=-9.06e+4, pixel_AUROC=0.948, train_loss_epoch=-4.15e+4]"
     ]
    },
    {
     "name": "stdout",
     "output_type": "stream",
     "text": [
      "\r",
      "Epoch 3:  20%|██        | 2/10 [00:02<00:08,  1.11s/it, loss=3.42e+04, v_num=0, train_loss_step=-9.06e+4, pixel_AUROC=0.948, train_loss_epoch=-4.15e+4]"
     ]
    },
    {
     "name": "stdout",
     "output_type": "stream",
     "text": [
      "\r",
      "Epoch 3:  20%|██        | 2/10 [00:02<00:08,  1.11s/it, loss=3.42e+04, v_num=0, train_loss_step=-9.06e+4, pixel_AUROC=0.948, train_loss_epoch=-4.15e+4]"
     ]
    },
    {
     "name": "stdout",
     "output_type": "stream",
     "text": [
      "\r",
      "Epoch 3:  20%|██        | 2/10 [00:02<00:08,  1.11s/it, loss=2e+04, v_num=0, train_loss_step=-1.01e+5, pixel_AUROC=0.948, train_loss_epoch=-4.15e+4]   "
     ]
    },
    {
     "name": "stdout",
     "output_type": "stream",
     "text": [
      "\r",
      "Epoch 3:  30%|███       | 3/10 [00:02<00:05,  1.28it/s, loss=2e+04, v_num=0, train_loss_step=-1.01e+5, pixel_AUROC=0.948, train_loss_epoch=-4.15e+4]"
     ]
    },
    {
     "name": "stdout",
     "output_type": "stream",
     "text": [
      "\r",
      "Epoch 3:  30%|███       | 3/10 [00:02<00:05,  1.28it/s, loss=6.19e+03, v_num=0, train_loss_step=-1.13e+5, pixel_AUROC=0.948, train_loss_epoch=-4.15e+4]"
     ]
    },
    {
     "name": "stdout",
     "output_type": "stream",
     "text": [
      "\r",
      "Epoch 3:  40%|████      | 4/10 [00:02<00:03,  1.62it/s, loss=6.19e+03, v_num=0, train_loss_step=-1.13e+5, pixel_AUROC=0.948, train_loss_epoch=-4.15e+4]"
     ]
    },
    {
     "name": "stdout",
     "output_type": "stream",
     "text": [
      "\r",
      "Epoch 3:  40%|████      | 4/10 [00:02<00:03,  1.62it/s, loss=6.19e+03, v_num=0, train_loss_step=-1.13e+5, pixel_AUROC=0.948, train_loss_epoch=-4.15e+4]"
     ]
    },
    {
     "name": "stdout",
     "output_type": "stream",
     "text": [
      "\r",
      "Epoch 3:  40%|████      | 4/10 [00:02<00:03,  1.62it/s, loss=-7.08e+03, v_num=0, train_loss_step=-1.21e+5, pixel_AUROC=0.948, train_loss_epoch=-4.15e+4]"
     ]
    },
    {
     "name": "stdout",
     "output_type": "stream",
     "text": [
      "\r",
      "Epoch 3:  50%|█████     | 5/10 [00:02<00:02,  1.93it/s, loss=-7.08e+03, v_num=0, train_loss_step=-1.21e+5, pixel_AUROC=0.948, train_loss_epoch=-4.15e+4]"
     ]
    },
    {
     "name": "stdout",
     "output_type": "stream",
     "text": [
      "\r",
      "Epoch 3:  50%|█████     | 5/10 [00:02<00:02,  1.93it/s, loss=-2.01e+04, v_num=0, train_loss_step=-1.32e+5, pixel_AUROC=0.948, train_loss_epoch=-4.15e+4]"
     ]
    },
    {
     "name": "stdout",
     "output_type": "stream",
     "text": [
      "\r",
      "Epoch 3:  60%|██████    | 6/10 [00:02<00:01,  2.22it/s, loss=-2.01e+04, v_num=0, train_loss_step=-1.32e+5, pixel_AUROC=0.948, train_loss_epoch=-4.15e+4]"
     ]
    },
    {
     "name": "stdout",
     "output_type": "stream",
     "text": [
      "\r",
      "Epoch 3:  60%|██████    | 6/10 [00:02<00:01,  2.22it/s, loss=-2.01e+04, v_num=0, train_loss_step=-1.32e+5, pixel_AUROC=0.948, train_loss_epoch=-4.15e+4]"
     ]
    },
    {
     "name": "stdout",
     "output_type": "stream",
     "text": [
      "\r",
      "Epoch 3:  60%|██████    | 6/10 [00:02<00:01,  2.22it/s, loss=-3.28e+04, v_num=0, train_loss_step=-1.42e+5, pixel_AUROC=0.948, train_loss_epoch=-4.15e+4]"
     ]
    },
    {
     "name": "stdout",
     "output_type": "stream",
     "text": [
      "\r",
      "Epoch 3:  70%|███████   | 7/10 [00:02<00:01,  2.49it/s, loss=-3.28e+04, v_num=0, train_loss_step=-1.42e+5, pixel_AUROC=0.948, train_loss_epoch=-4.15e+4]"
     ]
    },
    {
     "name": "stdout",
     "output_type": "stream",
     "text": [
      "\r",
      "Epoch 3:  70%|███████   | 7/10 [00:02<00:01,  2.49it/s, loss=-4.52e+04, v_num=0, train_loss_step=-1.52e+5, pixel_AUROC=0.948, train_loss_epoch=-4.15e+4]"
     ]
    },
    {
     "name": "stdout",
     "output_type": "stream",
     "text": [
      "\n"
     ]
    },
    {
     "name": "stdout",
     "output_type": "stream",
     "text": [
      "\r",
      "Validation: 0it [00:00, ?it/s]"
     ]
    },
    {
     "name": "stdout",
     "output_type": "stream",
     "text": [
      "\u001b[A"
     ]
    },
    {
     "name": "stdout",
     "output_type": "stream",
     "text": [
      "\n"
     ]
    },
    {
     "name": "stdout",
     "output_type": "stream",
     "text": [
      "\r",
      "Validation:   0%|          | 0/3 [00:00<?, ?it/s]"
     ]
    },
    {
     "name": "stdout",
     "output_type": "stream",
     "text": [
      "\u001b[A"
     ]
    },
    {
     "name": "stdout",
     "output_type": "stream",
     "text": [
      "\n"
     ]
    },
    {
     "name": "stdout",
     "output_type": "stream",
     "text": [
      "\r",
      "Validation DataLoader 0:   0%|          | 0/3 [00:00<?, ?it/s]"
     ]
    },
    {
     "name": "stdout",
     "output_type": "stream",
     "text": [
      "\u001b[A"
     ]
    },
    {
     "name": "stdout",
     "output_type": "stream",
     "text": [
      "\n"
     ]
    },
    {
     "name": "stdout",
     "output_type": "stream",
     "text": [
      "\r",
      "Validation DataLoader 0:  33%|███▎      | 1/3 [00:00<00:00, 11.05it/s]"
     ]
    },
    {
     "name": "stdout",
     "output_type": "stream",
     "text": [
      "\u001b[A"
     ]
    },
    {
     "name": "stdout",
     "output_type": "stream",
     "text": [
      "\r",
      "Epoch 3:  80%|████████  | 8/10 [00:04<00:01,  1.67it/s, loss=-4.52e+04, v_num=0, train_loss_step=-1.52e+5, pixel_AUROC=0.948, train_loss_epoch=-4.15e+4]"
     ]
    },
    {
     "name": "stdout",
     "output_type": "stream",
     "text": [
      "\r",
      "Epoch 3:  80%|████████  | 8/10 [00:04<00:01,  1.67it/s, loss=-4.52e+04, v_num=0, train_loss_step=-1.52e+5, pixel_AUROC=0.948, train_loss_epoch=-4.15e+4]"
     ]
    },
    {
     "name": "stdout",
     "output_type": "stream",
     "text": [
      "\n"
     ]
    },
    {
     "name": "stdout",
     "output_type": "stream",
     "text": [
      "\r",
      "Validation DataLoader 0:  67%|██████▋   | 2/3 [00:00<00:00, 10.81it/s]"
     ]
    },
    {
     "name": "stdout",
     "output_type": "stream",
     "text": [
      "\u001b[A"
     ]
    },
    {
     "name": "stdout",
     "output_type": "stream",
     "text": [
      "\n"
     ]
    },
    {
     "name": "stdout",
     "output_type": "stream",
     "text": [
      "\r",
      "Validation DataLoader 0:  67%|██████▋   | 2/3 [00:00<00:00, 10.81it/s]"
     ]
    },
    {
     "name": "stdout",
     "output_type": "stream",
     "text": [
      "\u001b[A"
     ]
    },
    {
     "name": "stdout",
     "output_type": "stream",
     "text": [
      "\r",
      "Epoch 3:  90%|█████████ | 9/10 [00:04<00:00,  1.85it/s, loss=-4.52e+04, v_num=0, train_loss_step=-1.52e+5, pixel_AUROC=0.948, train_loss_epoch=-4.15e+4]"
     ]
    },
    {
     "name": "stdout",
     "output_type": "stream",
     "text": [
      "\n"
     ]
    },
    {
     "name": "stdout",
     "output_type": "stream",
     "text": [
      "\r",
      "Validation DataLoader 0: 100%|██████████| 3/3 [00:00<00:00, 10.81it/s]"
     ]
    },
    {
     "name": "stdout",
     "output_type": "stream",
     "text": [
      "\u001b[A"
     ]
    },
    {
     "name": "stdout",
     "output_type": "stream",
     "text": [
      "\r",
      "Epoch 3: 100%|██████████| 10/10 [00:04<00:00,  2.02it/s, loss=-4.52e+04, v_num=0, train_loss_step=-1.52e+5, pixel_AUROC=0.948, train_loss_epoch=-4.15e+4]"
     ]
    },
    {
     "name": "stdout",
     "output_type": "stream",
     "text": [
      "\r",
      "Epoch 3: 100%|██████████| 10/10 [00:04<00:00,  2.02it/s, loss=-4.52e+04, v_num=0, train_loss_step=-1.52e+5, pixel_AUROC=0.948, train_loss_epoch=-4.15e+4]"
     ]
    },
    {
     "name": "stdout",
     "output_type": "stream",
     "text": [
      "\r",
      "Epoch 3: 100%|██████████| 10/10 [00:05<00:00,  1.76it/s, loss=-4.52e+04, v_num=0, train_loss_step=-1.52e+5, pixel_AUROC=0.962, train_loss_epoch=-4.15e+4]"
     ]
    },
    {
     "name": "stdout",
     "output_type": "stream",
     "text": [
      "\n"
     ]
    },
    {
     "name": "stdout",
     "output_type": "stream",
     "text": [
      "\r",
      "                                                                      "
     ]
    },
    {
     "name": "stdout",
     "output_type": "stream",
     "text": [
      "\u001b[A"
     ]
    },
    {
     "name": "stdout",
     "output_type": "stream",
     "text": [
      "\r",
      "Epoch 3: 100%|██████████| 10/10 [00:05<00:00,  1.76it/s, loss=-4.52e+04, v_num=0, train_loss_step=-1.52e+5, pixel_AUROC=0.962, train_loss_epoch=-1.19e+5]"
     ]
    },
    {
     "name": "stdout",
     "output_type": "stream",
     "text": [
      "\r",
      "Epoch 3:   0%|          | 0/10 [00:00<?, ?it/s, loss=-4.52e+04, v_num=0, train_loss_step=-1.52e+5, pixel_AUROC=0.962, train_loss_epoch=-1.19e+5]         "
     ]
    },
    {
     "name": "stdout",
     "output_type": "stream",
     "text": [
      "\r",
      "Epoch 4:   0%|          | 0/10 [00:00<?, ?it/s, loss=-4.52e+04, v_num=0, train_loss_step=-1.52e+5, pixel_AUROC=0.962, train_loss_epoch=-1.19e+5]"
     ]
    },
    {
     "name": "stdout",
     "output_type": "stream",
     "text": [
      "\r",
      "Epoch 4:  10%|█         | 1/10 [00:01<00:17,  2.00s/it, loss=-4.52e+04, v_num=0, train_loss_step=-1.52e+5, pixel_AUROC=0.962, train_loss_epoch=-1.19e+5]"
     ]
    },
    {
     "name": "stdout",
     "output_type": "stream",
     "text": [
      "\r",
      "Epoch 4:  10%|█         | 1/10 [00:02<00:18,  2.00s/it, loss=-5.74e+04, v_num=0, train_loss_step=-1.64e+5, pixel_AUROC=0.962, train_loss_epoch=-1.19e+5]"
     ]
    },
    {
     "name": "stdout",
     "output_type": "stream",
     "text": [
      "\r",
      "Epoch 4:  20%|██        | 2/10 [00:02<00:08,  1.06s/it, loss=-5.74e+04, v_num=0, train_loss_step=-1.64e+5, pixel_AUROC=0.962, train_loss_epoch=-1.19e+5]"
     ]
    },
    {
     "name": "stdout",
     "output_type": "stream",
     "text": [
      "\r",
      "Epoch 4:  20%|██        | 2/10 [00:02<00:08,  1.06s/it, loss=-5.74e+04, v_num=0, train_loss_step=-1.64e+5, pixel_AUROC=0.962, train_loss_epoch=-1.19e+5]"
     ]
    },
    {
     "name": "stdout",
     "output_type": "stream",
     "text": [
      "\r",
      "Epoch 4:  20%|██        | 2/10 [00:02<00:08,  1.06s/it, loss=-6.9e+04, v_num=0, train_loss_step=-1.68e+5, pixel_AUROC=0.962, train_loss_epoch=-1.19e+5] "
     ]
    },
    {
     "name": "stdout",
     "output_type": "stream",
     "text": [
      "\r",
      "Epoch 4:  30%|███       | 3/10 [00:02<00:05,  1.34it/s, loss=-6.9e+04, v_num=0, train_loss_step=-1.68e+5, pixel_AUROC=0.962, train_loss_epoch=-1.19e+5]"
     ]
    },
    {
     "name": "stdout",
     "output_type": "stream",
     "text": [
      "\r",
      "Epoch 4:  30%|███       | 3/10 [00:02<00:05,  1.34it/s, loss=-8.04e+04, v_num=0, train_loss_step=-1.78e+5, pixel_AUROC=0.962, train_loss_epoch=-1.19e+5]"
     ]
    },
    {
     "name": "stdout",
     "output_type": "stream",
     "text": [
      "\r",
      "Epoch 4:  40%|████      | 4/10 [00:02<00:03,  1.70it/s, loss=-8.04e+04, v_num=0, train_loss_step=-1.78e+5, pixel_AUROC=0.962, train_loss_epoch=-1.19e+5]"
     ]
    },
    {
     "name": "stdout",
     "output_type": "stream",
     "text": [
      "\r",
      "Epoch 4:  40%|████      | 4/10 [00:02<00:03,  1.70it/s, loss=-8.04e+04, v_num=0, train_loss_step=-1.78e+5, pixel_AUROC=0.962, train_loss_epoch=-1.19e+5]"
     ]
    },
    {
     "name": "stdout",
     "output_type": "stream",
     "text": [
      "\r",
      "Epoch 4:  40%|████      | 4/10 [00:02<00:03,  1.70it/s, loss=-9.14e+04, v_num=0, train_loss_step=-1.86e+5, pixel_AUROC=0.962, train_loss_epoch=-1.19e+5]"
     ]
    },
    {
     "name": "stdout",
     "output_type": "stream",
     "text": [
      "\r",
      "Epoch 4:  50%|█████     | 5/10 [00:02<00:02,  2.03it/s, loss=-9.14e+04, v_num=0, train_loss_step=-1.86e+5, pixel_AUROC=0.962, train_loss_epoch=-1.19e+5]"
     ]
    },
    {
     "name": "stdout",
     "output_type": "stream",
     "text": [
      "\r",
      "Epoch 4:  50%|█████     | 5/10 [00:02<00:02,  2.03it/s, loss=-1.02e+05, v_num=0, train_loss_step=-1.94e+5, pixel_AUROC=0.962, train_loss_epoch=-1.19e+5]"
     ]
    },
    {
     "name": "stdout",
     "output_type": "stream",
     "text": [
      "\r",
      "Epoch 4:  60%|██████    | 6/10 [00:02<00:01,  2.33it/s, loss=-1.02e+05, v_num=0, train_loss_step=-1.94e+5, pixel_AUROC=0.962, train_loss_epoch=-1.19e+5]"
     ]
    },
    {
     "name": "stdout",
     "output_type": "stream",
     "text": [
      "\r",
      "Epoch 4:  60%|██████    | 6/10 [00:02<00:01,  2.33it/s, loss=-1.02e+05, v_num=0, train_loss_step=-1.94e+5, pixel_AUROC=0.962, train_loss_epoch=-1.19e+5]"
     ]
    },
    {
     "name": "stdout",
     "output_type": "stream",
     "text": [
      "\r",
      "Epoch 4:  60%|██████    | 6/10 [00:02<00:01,  2.33it/s, loss=-1.13e+05, v_num=0, train_loss_step=-2.02e+5, pixel_AUROC=0.962, train_loss_epoch=-1.19e+5]"
     ]
    },
    {
     "name": "stdout",
     "output_type": "stream",
     "text": [
      "\r",
      "Epoch 4:  70%|███████   | 7/10 [00:02<00:01,  2.64it/s, loss=-1.13e+05, v_num=0, train_loss_step=-2.02e+5, pixel_AUROC=0.962, train_loss_epoch=-1.19e+5]"
     ]
    },
    {
     "name": "stdout",
     "output_type": "stream",
     "text": [
      "\r",
      "Epoch 4:  70%|███████   | 7/10 [00:02<00:01,  2.63it/s, loss=-1.23e+05, v_num=0, train_loss_step=-2.12e+5, pixel_AUROC=0.962, train_loss_epoch=-1.19e+5]"
     ]
    },
    {
     "name": "stdout",
     "output_type": "stream",
     "text": [
      "\n"
     ]
    },
    {
     "name": "stdout",
     "output_type": "stream",
     "text": [
      "\r",
      "Validation: 0it [00:00, ?it/s]"
     ]
    },
    {
     "name": "stdout",
     "output_type": "stream",
     "text": [
      "\u001b[A"
     ]
    },
    {
     "name": "stdout",
     "output_type": "stream",
     "text": [
      "\n"
     ]
    },
    {
     "name": "stdout",
     "output_type": "stream",
     "text": [
      "\r",
      "Validation:   0%|          | 0/3 [00:00<?, ?it/s]"
     ]
    },
    {
     "name": "stdout",
     "output_type": "stream",
     "text": [
      "\u001b[A"
     ]
    },
    {
     "name": "stdout",
     "output_type": "stream",
     "text": [
      "\n"
     ]
    },
    {
     "name": "stdout",
     "output_type": "stream",
     "text": [
      "\r",
      "Validation DataLoader 0:   0%|          | 0/3 [00:00<?, ?it/s]"
     ]
    },
    {
     "name": "stdout",
     "output_type": "stream",
     "text": [
      "\u001b[A"
     ]
    },
    {
     "name": "stdout",
     "output_type": "stream",
     "text": [
      "\n"
     ]
    },
    {
     "name": "stdout",
     "output_type": "stream",
     "text": [
      "\r",
      "Validation DataLoader 0:  33%|███▎      | 1/3 [00:00<00:00, 10.93it/s]"
     ]
    },
    {
     "name": "stdout",
     "output_type": "stream",
     "text": [
      "\u001b[A"
     ]
    },
    {
     "name": "stdout",
     "output_type": "stream",
     "text": [
      "\r",
      "Epoch 4:  80%|████████  | 8/10 [00:04<00:01,  1.74it/s, loss=-1.23e+05, v_num=0, train_loss_step=-2.12e+5, pixel_AUROC=0.962, train_loss_epoch=-1.19e+5]"
     ]
    },
    {
     "name": "stdout",
     "output_type": "stream",
     "text": [
      "\r",
      "Epoch 4:  80%|████████  | 8/10 [00:04<00:01,  1.74it/s, loss=-1.23e+05, v_num=0, train_loss_step=-2.12e+5, pixel_AUROC=0.962, train_loss_epoch=-1.19e+5]"
     ]
    },
    {
     "name": "stdout",
     "output_type": "stream",
     "text": [
      "\n"
     ]
    },
    {
     "name": "stdout",
     "output_type": "stream",
     "text": [
      "\r",
      "Validation DataLoader 0:  67%|██████▋   | 2/3 [00:00<00:00, 10.78it/s]"
     ]
    },
    {
     "name": "stdout",
     "output_type": "stream",
     "text": [
      "\u001b[A"
     ]
    },
    {
     "name": "stdout",
     "output_type": "stream",
     "text": [
      "\n"
     ]
    },
    {
     "name": "stdout",
     "output_type": "stream",
     "text": [
      "\r",
      "Validation DataLoader 0:  67%|██████▋   | 2/3 [00:00<00:00, 10.78it/s]"
     ]
    },
    {
     "name": "stdout",
     "output_type": "stream",
     "text": [
      "\u001b[A"
     ]
    },
    {
     "name": "stdout",
     "output_type": "stream",
     "text": [
      "\r",
      "Epoch 4:  90%|█████████ | 9/10 [00:04<00:00,  1.92it/s, loss=-1.23e+05, v_num=0, train_loss_step=-2.12e+5, pixel_AUROC=0.962, train_loss_epoch=-1.19e+5]"
     ]
    },
    {
     "name": "stdout",
     "output_type": "stream",
     "text": [
      "\n"
     ]
    },
    {
     "name": "stdout",
     "output_type": "stream",
     "text": [
      "\r",
      "Validation DataLoader 0: 100%|██████████| 3/3 [00:00<00:00, 10.78it/s]"
     ]
    },
    {
     "name": "stdout",
     "output_type": "stream",
     "text": [
      "\u001b[A"
     ]
    },
    {
     "name": "stdout",
     "output_type": "stream",
     "text": [
      "\r",
      "Epoch 4: 100%|██████████| 10/10 [00:04<00:00,  2.10it/s, loss=-1.23e+05, v_num=0, train_loss_step=-2.12e+5, pixel_AUROC=0.962, train_loss_epoch=-1.19e+5]"
     ]
    },
    {
     "name": "stdout",
     "output_type": "stream",
     "text": [
      "\r",
      "Epoch 4: 100%|██████████| 10/10 [00:04<00:00,  2.10it/s, loss=-1.23e+05, v_num=0, train_loss_step=-2.12e+5, pixel_AUROC=0.962, train_loss_epoch=-1.19e+5]"
     ]
    },
    {
     "name": "stdout",
     "output_type": "stream",
     "text": [
      "\r",
      "Epoch 4: 100%|██████████| 10/10 [00:05<00:00,  1.82it/s, loss=-1.23e+05, v_num=0, train_loss_step=-2.12e+5, pixel_AUROC=0.967, train_loss_epoch=-1.19e+5]"
     ]
    },
    {
     "name": "stdout",
     "output_type": "stream",
     "text": [
      "\n"
     ]
    },
    {
     "name": "stdout",
     "output_type": "stream",
     "text": [
      "\r",
      "                                                                      "
     ]
    },
    {
     "name": "stdout",
     "output_type": "stream",
     "text": [
      "\u001b[A"
     ]
    },
    {
     "name": "stdout",
     "output_type": "stream",
     "text": [
      "\r",
      "Epoch 4: 100%|██████████| 10/10 [00:05<00:00,  1.81it/s, loss=-1.23e+05, v_num=0, train_loss_step=-2.12e+5, pixel_AUROC=0.967, train_loss_epoch=-1.84e+5]"
     ]
    },
    {
     "name": "stdout",
     "output_type": "stream",
     "text": [
      "\r",
      "Epoch 4:   0%|          | 0/10 [00:00<?, ?it/s, loss=-1.23e+05, v_num=0, train_loss_step=-2.12e+5, pixel_AUROC=0.967, train_loss_epoch=-1.84e+5]         "
     ]
    },
    {
     "name": "stdout",
     "output_type": "stream",
     "text": [
      "\r",
      "Epoch 5:   0%|          | 0/10 [00:00<?, ?it/s, loss=-1.23e+05, v_num=0, train_loss_step=-2.12e+5, pixel_AUROC=0.967, train_loss_epoch=-1.84e+5]"
     ]
    },
    {
     "name": "stdout",
     "output_type": "stream",
     "text": [
      "\r",
      "Epoch 5:  10%|█         | 1/10 [00:02<00:18,  2.03s/it, loss=-1.23e+05, v_num=0, train_loss_step=-2.12e+5, pixel_AUROC=0.967, train_loss_epoch=-1.84e+5]"
     ]
    },
    {
     "name": "stdout",
     "output_type": "stream",
     "text": [
      "\r",
      "Epoch 5:  10%|█         | 1/10 [00:02<00:18,  2.04s/it, loss=-1.33e+05, v_num=0, train_loss_step=-2.18e+5, pixel_AUROC=0.967, train_loss_epoch=-1.84e+5]"
     ]
    },
    {
     "name": "stdout",
     "output_type": "stream",
     "text": [
      "\r",
      "Epoch 5:  20%|██        | 2/10 [00:02<00:08,  1.08s/it, loss=-1.33e+05, v_num=0, train_loss_step=-2.18e+5, pixel_AUROC=0.967, train_loss_epoch=-1.84e+5]"
     ]
    },
    {
     "name": "stdout",
     "output_type": "stream",
     "text": [
      "\r",
      "Epoch 5:  20%|██        | 2/10 [00:02<00:08,  1.08s/it, loss=-1.33e+05, v_num=0, train_loss_step=-2.18e+5, pixel_AUROC=0.967, train_loss_epoch=-1.84e+5]"
     ]
    },
    {
     "name": "stdout",
     "output_type": "stream",
     "text": [
      "\r",
      "Epoch 5:  20%|██        | 2/10 [00:02<00:08,  1.08s/it, loss=-1.42e+05, v_num=0, train_loss_step=-2.26e+5, pixel_AUROC=0.967, train_loss_epoch=-1.84e+5]"
     ]
    },
    {
     "name": "stdout",
     "output_type": "stream",
     "text": [
      "\r",
      "Epoch 5:  30%|███       | 3/10 [00:02<00:05,  1.31it/s, loss=-1.42e+05, v_num=0, train_loss_step=-2.26e+5, pixel_AUROC=0.967, train_loss_epoch=-1.84e+5]"
     ]
    },
    {
     "name": "stdout",
     "output_type": "stream",
     "text": [
      "\r",
      "Epoch 5:  30%|███       | 3/10 [00:02<00:05,  1.31it/s, loss=-1.52e+05, v_num=0, train_loss_step=-2.33e+5, pixel_AUROC=0.967, train_loss_epoch=-1.84e+5]"
     ]
    },
    {
     "name": "stdout",
     "output_type": "stream",
     "text": [
      "\r",
      "Epoch 5:  40%|████      | 4/10 [00:02<00:03,  1.66it/s, loss=-1.52e+05, v_num=0, train_loss_step=-2.33e+5, pixel_AUROC=0.967, train_loss_epoch=-1.84e+5]"
     ]
    },
    {
     "name": "stdout",
     "output_type": "stream",
     "text": [
      "\r",
      "Epoch 5:  40%|████      | 4/10 [00:02<00:03,  1.66it/s, loss=-1.52e+05, v_num=0, train_loss_step=-2.33e+5, pixel_AUROC=0.967, train_loss_epoch=-1.84e+5]"
     ]
    },
    {
     "name": "stdout",
     "output_type": "stream",
     "text": [
      "\r",
      "Epoch 5:  40%|████      | 4/10 [00:02<00:03,  1.66it/s, loss=-1.61e+05, v_num=0, train_loss_step=-2.4e+5, pixel_AUROC=0.967, train_loss_epoch=-1.84e+5] "
     ]
    },
    {
     "name": "stdout",
     "output_type": "stream",
     "text": [
      "\r",
      "Epoch 5:  50%|█████     | 5/10 [00:02<00:02,  1.97it/s, loss=-1.61e+05, v_num=0, train_loss_step=-2.4e+5, pixel_AUROC=0.967, train_loss_epoch=-1.84e+5]"
     ]
    },
    {
     "name": "stdout",
     "output_type": "stream",
     "text": [
      "\r",
      "Epoch 5:  50%|█████     | 5/10 [00:02<00:02,  1.97it/s, loss=-1.7e+05, v_num=0, train_loss_step=-2.48e+5, pixel_AUROC=0.967, train_loss_epoch=-1.84e+5]"
     ]
    },
    {
     "name": "stdout",
     "output_type": "stream",
     "text": [
      "\r",
      "Epoch 5:  60%|██████    | 6/10 [00:02<00:01,  2.26it/s, loss=-1.7e+05, v_num=0, train_loss_step=-2.48e+5, pixel_AUROC=0.967, train_loss_epoch=-1.84e+5]"
     ]
    },
    {
     "name": "stdout",
     "output_type": "stream",
     "text": [
      "\r",
      "Epoch 5:  60%|██████    | 6/10 [00:02<00:01,  2.26it/s, loss=-1.7e+05, v_num=0, train_loss_step=-2.48e+5, pixel_AUROC=0.967, train_loss_epoch=-1.84e+5]"
     ]
    },
    {
     "name": "stdout",
     "output_type": "stream",
     "text": [
      "\r",
      "Epoch 5:  60%|██████    | 6/10 [00:02<00:01,  2.26it/s, loss=-1.79e+05, v_num=0, train_loss_step=-2.54e+5, pixel_AUROC=0.967, train_loss_epoch=-1.84e+5]"
     ]
    },
    {
     "name": "stdout",
     "output_type": "stream",
     "text": [
      "\r",
      "Epoch 5:  70%|███████   | 7/10 [00:02<00:01,  2.54it/s, loss=-1.79e+05, v_num=0, train_loss_step=-2.54e+5, pixel_AUROC=0.967, train_loss_epoch=-1.84e+5]"
     ]
    },
    {
     "name": "stdout",
     "output_type": "stream",
     "text": [
      "\r",
      "Epoch 5:  70%|███████   | 7/10 [00:02<00:01,  2.54it/s, loss=-1.87e+05, v_num=0, train_loss_step=-2.63e+5, pixel_AUROC=0.967, train_loss_epoch=-1.84e+5]"
     ]
    },
    {
     "name": "stdout",
     "output_type": "stream",
     "text": [
      "\n"
     ]
    },
    {
     "name": "stdout",
     "output_type": "stream",
     "text": [
      "\r",
      "Validation: 0it [00:00, ?it/s]"
     ]
    },
    {
     "name": "stdout",
     "output_type": "stream",
     "text": [
      "\u001b[A"
     ]
    },
    {
     "name": "stdout",
     "output_type": "stream",
     "text": [
      "\n"
     ]
    },
    {
     "name": "stdout",
     "output_type": "stream",
     "text": [
      "\r",
      "Validation:   0%|          | 0/3 [00:00<?, ?it/s]"
     ]
    },
    {
     "name": "stdout",
     "output_type": "stream",
     "text": [
      "\u001b[A"
     ]
    },
    {
     "name": "stdout",
     "output_type": "stream",
     "text": [
      "\n"
     ]
    },
    {
     "name": "stdout",
     "output_type": "stream",
     "text": [
      "\r",
      "Validation DataLoader 0:   0%|          | 0/3 [00:00<?, ?it/s]"
     ]
    },
    {
     "name": "stdout",
     "output_type": "stream",
     "text": [
      "\u001b[A"
     ]
    },
    {
     "name": "stdout",
     "output_type": "stream",
     "text": [
      "\n"
     ]
    },
    {
     "name": "stdout",
     "output_type": "stream",
     "text": [
      "\r",
      "Validation DataLoader 0:  33%|███▎      | 1/3 [00:00<00:00, 10.32it/s]"
     ]
    },
    {
     "name": "stdout",
     "output_type": "stream",
     "text": [
      "\u001b[A"
     ]
    },
    {
     "name": "stdout",
     "output_type": "stream",
     "text": [
      "\r",
      "Epoch 5:  80%|████████  | 8/10 [00:04<00:01,  1.68it/s, loss=-1.87e+05, v_num=0, train_loss_step=-2.63e+5, pixel_AUROC=0.967, train_loss_epoch=-1.84e+5]"
     ]
    },
    {
     "name": "stdout",
     "output_type": "stream",
     "text": [
      "\r",
      "Epoch 5:  80%|████████  | 8/10 [00:04<00:01,  1.67it/s, loss=-1.87e+05, v_num=0, train_loss_step=-2.63e+5, pixel_AUROC=0.967, train_loss_epoch=-1.84e+5]"
     ]
    },
    {
     "name": "stdout",
     "output_type": "stream",
     "text": [
      "\n"
     ]
    },
    {
     "name": "stdout",
     "output_type": "stream",
     "text": [
      "\r",
      "Validation DataLoader 0:  67%|██████▋   | 2/3 [00:00<00:00,  9.85it/s]"
     ]
    },
    {
     "name": "stdout",
     "output_type": "stream",
     "text": [
      "\u001b[A"
     ]
    },
    {
     "name": "stdout",
     "output_type": "stream",
     "text": [
      "\n"
     ]
    },
    {
     "name": "stdout",
     "output_type": "stream",
     "text": [
      "\r",
      "Validation DataLoader 0:  67%|██████▋   | 2/3 [00:00<00:00,  9.85it/s]"
     ]
    },
    {
     "name": "stdout",
     "output_type": "stream",
     "text": [
      "\u001b[A"
     ]
    },
    {
     "name": "stdout",
     "output_type": "stream",
     "text": [
      "\r",
      "Epoch 5:  90%|█████████ | 9/10 [00:04<00:00,  1.84it/s, loss=-1.87e+05, v_num=0, train_loss_step=-2.63e+5, pixel_AUROC=0.967, train_loss_epoch=-1.84e+5]"
     ]
    },
    {
     "name": "stdout",
     "output_type": "stream",
     "text": [
      "\n"
     ]
    },
    {
     "name": "stdout",
     "output_type": "stream",
     "text": [
      "\r",
      "Validation DataLoader 0: 100%|██████████| 3/3 [00:00<00:00,  9.85it/s]"
     ]
    },
    {
     "name": "stdout",
     "output_type": "stream",
     "text": [
      "\u001b[A"
     ]
    },
    {
     "name": "stdout",
     "output_type": "stream",
     "text": [
      "\r",
      "Epoch 5: 100%|██████████| 10/10 [00:04<00:00,  2.02it/s, loss=-1.87e+05, v_num=0, train_loss_step=-2.63e+5, pixel_AUROC=0.967, train_loss_epoch=-1.84e+5]"
     ]
    },
    {
     "name": "stdout",
     "output_type": "stream",
     "text": [
      "\r",
      "Epoch 5: 100%|██████████| 10/10 [00:04<00:00,  2.02it/s, loss=-1.87e+05, v_num=0, train_loss_step=-2.63e+5, pixel_AUROC=0.967, train_loss_epoch=-1.84e+5]"
     ]
    },
    {
     "name": "stdout",
     "output_type": "stream",
     "text": [
      "\r",
      "Epoch 5: 100%|██████████| 10/10 [00:05<00:00,  1.75it/s, loss=-1.87e+05, v_num=0, train_loss_step=-2.63e+5, pixel_AUROC=0.970, train_loss_epoch=-1.84e+5]"
     ]
    },
    {
     "name": "stdout",
     "output_type": "stream",
     "text": [
      "\n"
     ]
    },
    {
     "name": "stdout",
     "output_type": "stream",
     "text": [
      "\r",
      "                                                                      "
     ]
    },
    {
     "name": "stdout",
     "output_type": "stream",
     "text": [
      "\u001b[A"
     ]
    },
    {
     "name": "stdout",
     "output_type": "stream",
     "text": [
      "\r",
      "Epoch 5: 100%|██████████| 10/10 [00:05<00:00,  1.75it/s, loss=-1.87e+05, v_num=0, train_loss_step=-2.63e+5, pixel_AUROC=0.970, train_loss_epoch=-2.39e+5]"
     ]
    },
    {
     "name": "stdout",
     "output_type": "stream",
     "text": [
      "\r",
      "Epoch 5:   0%|          | 0/10 [00:00<?, ?it/s, loss=-1.87e+05, v_num=0, train_loss_step=-2.63e+5, pixel_AUROC=0.970, train_loss_epoch=-2.39e+5]         "
     ]
    },
    {
     "name": "stdout",
     "output_type": "stream",
     "text": [
      "\r",
      "Epoch 6:   0%|          | 0/10 [00:00<?, ?it/s, loss=-1.87e+05, v_num=0, train_loss_step=-2.63e+5, pixel_AUROC=0.970, train_loss_epoch=-2.39e+5]"
     ]
    },
    {
     "name": "stdout",
     "output_type": "stream",
     "text": [
      "\r",
      "Epoch 6:  10%|█         | 1/10 [00:02<00:18,  2.02s/it, loss=-1.87e+05, v_num=0, train_loss_step=-2.63e+5, pixel_AUROC=0.970, train_loss_epoch=-2.39e+5]"
     ]
    },
    {
     "name": "stdout",
     "output_type": "stream",
     "text": [
      "\r",
      "Epoch 6:  10%|█         | 1/10 [00:02<00:18,  2.03s/it, loss=-1.96e+05, v_num=0, train_loss_step=-2.67e+5, pixel_AUROC=0.970, train_loss_epoch=-2.39e+5]"
     ]
    },
    {
     "name": "stdout",
     "output_type": "stream",
     "text": [
      "\r",
      "Epoch 6:  20%|██        | 2/10 [00:02<00:08,  1.08s/it, loss=-1.96e+05, v_num=0, train_loss_step=-2.67e+5, pixel_AUROC=0.970, train_loss_epoch=-2.39e+5]"
     ]
    },
    {
     "name": "stdout",
     "output_type": "stream",
     "text": [
      "\r",
      "Epoch 6:  20%|██        | 2/10 [00:02<00:08,  1.08s/it, loss=-1.96e+05, v_num=0, train_loss_step=-2.67e+5, pixel_AUROC=0.970, train_loss_epoch=-2.39e+5]"
     ]
    },
    {
     "name": "stdout",
     "output_type": "stream",
     "text": [
      "\r",
      "Epoch 6:  20%|██        | 2/10 [00:02<00:08,  1.08s/it, loss=-2.04e+05, v_num=0, train_loss_step=-2.76e+5, pixel_AUROC=0.970, train_loss_epoch=-2.39e+5]"
     ]
    },
    {
     "name": "stdout",
     "output_type": "stream",
     "text": [
      "\r",
      "Epoch 6:  30%|███       | 3/10 [00:02<00:05,  1.31it/s, loss=-2.04e+05, v_num=0, train_loss_step=-2.76e+5, pixel_AUROC=0.970, train_loss_epoch=-2.39e+5]"
     ]
    },
    {
     "name": "stdout",
     "output_type": "stream",
     "text": [
      "\r",
      "Epoch 6:  30%|███       | 3/10 [00:02<00:05,  1.31it/s, loss=-2.12e+05, v_num=0, train_loss_step=-2.78e+5, pixel_AUROC=0.970, train_loss_epoch=-2.39e+5]"
     ]
    },
    {
     "name": "stdout",
     "output_type": "stream",
     "text": [
      "\r",
      "Epoch 6:  40%|████      | 4/10 [00:02<00:03,  1.66it/s, loss=-2.12e+05, v_num=0, train_loss_step=-2.78e+5, pixel_AUROC=0.970, train_loss_epoch=-2.39e+5]"
     ]
    },
    {
     "name": "stdout",
     "output_type": "stream",
     "text": [
      "\r",
      "Epoch 6:  40%|████      | 4/10 [00:02<00:03,  1.66it/s, loss=-2.12e+05, v_num=0, train_loss_step=-2.78e+5, pixel_AUROC=0.970, train_loss_epoch=-2.39e+5]"
     ]
    },
    {
     "name": "stdout",
     "output_type": "stream",
     "text": [
      "\r",
      "Epoch 6:  40%|████      | 4/10 [00:02<00:03,  1.66it/s, loss=-2.19e+05, v_num=0, train_loss_step=-2.85e+5, pixel_AUROC=0.970, train_loss_epoch=-2.39e+5]"
     ]
    },
    {
     "name": "stdout",
     "output_type": "stream",
     "text": [
      "\r",
      "Epoch 6:  50%|█████     | 5/10 [00:02<00:02,  1.98it/s, loss=-2.19e+05, v_num=0, train_loss_step=-2.85e+5, pixel_AUROC=0.970, train_loss_epoch=-2.39e+5]"
     ]
    },
    {
     "name": "stdout",
     "output_type": "stream",
     "text": [
      "\r",
      "Epoch 6:  50%|█████     | 5/10 [00:02<00:02,  1.97it/s, loss=-2.27e+05, v_num=0, train_loss_step=-2.91e+5, pixel_AUROC=0.970, train_loss_epoch=-2.39e+5]"
     ]
    },
    {
     "name": "stdout",
     "output_type": "stream",
     "text": [
      "\r",
      "Epoch 6:  60%|██████    | 6/10 [00:02<00:01,  2.26it/s, loss=-2.27e+05, v_num=0, train_loss_step=-2.91e+5, pixel_AUROC=0.970, train_loss_epoch=-2.39e+5]"
     ]
    },
    {
     "name": "stdout",
     "output_type": "stream",
     "text": [
      "\r",
      "Epoch 6:  60%|██████    | 6/10 [00:02<00:01,  2.26it/s, loss=-2.27e+05, v_num=0, train_loss_step=-2.91e+5, pixel_AUROC=0.970, train_loss_epoch=-2.39e+5]"
     ]
    },
    {
     "name": "stdout",
     "output_type": "stream",
     "text": [
      "\r",
      "Epoch 6:  60%|██████    | 6/10 [00:02<00:01,  2.26it/s, loss=-2.34e+05, v_num=0, train_loss_step=-2.96e+5, pixel_AUROC=0.970, train_loss_epoch=-2.39e+5]"
     ]
    },
    {
     "name": "stdout",
     "output_type": "stream",
     "text": [
      "\r",
      "Epoch 6:  70%|███████   | 7/10 [00:02<00:01,  2.54it/s, loss=-2.34e+05, v_num=0, train_loss_step=-2.96e+5, pixel_AUROC=0.970, train_loss_epoch=-2.39e+5]"
     ]
    },
    {
     "name": "stdout",
     "output_type": "stream",
     "text": [
      "\r",
      "Epoch 6:  70%|███████   | 7/10 [00:02<00:01,  2.54it/s, loss=-2.41e+05, v_num=0, train_loss_step=-3.05e+5, pixel_AUROC=0.970, train_loss_epoch=-2.39e+5]"
     ]
    },
    {
     "name": "stdout",
     "output_type": "stream",
     "text": [
      "\n"
     ]
    },
    {
     "name": "stdout",
     "output_type": "stream",
     "text": [
      "\r",
      "Validation: 0it [00:00, ?it/s]"
     ]
    },
    {
     "name": "stdout",
     "output_type": "stream",
     "text": [
      "\u001b[A"
     ]
    },
    {
     "name": "stdout",
     "output_type": "stream",
     "text": [
      "\n"
     ]
    },
    {
     "name": "stdout",
     "output_type": "stream",
     "text": [
      "\r",
      "Validation:   0%|          | 0/3 [00:00<?, ?it/s]"
     ]
    },
    {
     "name": "stdout",
     "output_type": "stream",
     "text": [
      "\u001b[A"
     ]
    },
    {
     "name": "stdout",
     "output_type": "stream",
     "text": [
      "\n"
     ]
    },
    {
     "name": "stdout",
     "output_type": "stream",
     "text": [
      "\r",
      "Validation DataLoader 0:   0%|          | 0/3 [00:00<?, ?it/s]"
     ]
    },
    {
     "name": "stdout",
     "output_type": "stream",
     "text": [
      "\u001b[A"
     ]
    },
    {
     "name": "stdout",
     "output_type": "stream",
     "text": [
      "\n"
     ]
    },
    {
     "name": "stdout",
     "output_type": "stream",
     "text": [
      "\r",
      "Validation DataLoader 0:  33%|███▎      | 1/3 [00:00<00:00, 11.66it/s]"
     ]
    },
    {
     "name": "stdout",
     "output_type": "stream",
     "text": [
      "\u001b[A"
     ]
    },
    {
     "name": "stdout",
     "output_type": "stream",
     "text": [
      "\r",
      "Epoch 6:  80%|████████  | 8/10 [00:04<00:01,  1.71it/s, loss=-2.41e+05, v_num=0, train_loss_step=-3.05e+5, pixel_AUROC=0.970, train_loss_epoch=-2.39e+5]"
     ]
    },
    {
     "name": "stdout",
     "output_type": "stream",
     "text": [
      "\r",
      "Epoch 6:  80%|████████  | 8/10 [00:04<00:01,  1.71it/s, loss=-2.41e+05, v_num=0, train_loss_step=-3.05e+5, pixel_AUROC=0.970, train_loss_epoch=-2.39e+5]"
     ]
    },
    {
     "name": "stdout",
     "output_type": "stream",
     "text": [
      "\n"
     ]
    },
    {
     "name": "stdout",
     "output_type": "stream",
     "text": [
      "\r",
      "Validation DataLoader 0:  67%|██████▋   | 2/3 [00:00<00:00, 11.08it/s]"
     ]
    },
    {
     "name": "stdout",
     "output_type": "stream",
     "text": [
      "\u001b[A"
     ]
    },
    {
     "name": "stdout",
     "output_type": "stream",
     "text": [
      "\n"
     ]
    },
    {
     "name": "stdout",
     "output_type": "stream",
     "text": [
      "\r",
      "Validation DataLoader 0:  67%|██████▋   | 2/3 [00:00<00:00, 11.08it/s]"
     ]
    },
    {
     "name": "stdout",
     "output_type": "stream",
     "text": [
      "\u001b[A"
     ]
    },
    {
     "name": "stdout",
     "output_type": "stream",
     "text": [
      "\r",
      "Epoch 6:  90%|█████████ | 9/10 [00:04<00:00,  1.89it/s, loss=-2.41e+05, v_num=0, train_loss_step=-3.05e+5, pixel_AUROC=0.970, train_loss_epoch=-2.39e+5]"
     ]
    },
    {
     "name": "stdout",
     "output_type": "stream",
     "text": [
      "\n"
     ]
    },
    {
     "name": "stdout",
     "output_type": "stream",
     "text": [
      "\r",
      "Validation DataLoader 0: 100%|██████████| 3/3 [00:00<00:00, 11.08it/s]"
     ]
    },
    {
     "name": "stdout",
     "output_type": "stream",
     "text": [
      "\u001b[A"
     ]
    },
    {
     "name": "stdout",
     "output_type": "stream",
     "text": [
      "\r",
      "Epoch 6: 100%|██████████| 10/10 [00:04<00:00,  2.07it/s, loss=-2.41e+05, v_num=0, train_loss_step=-3.05e+5, pixel_AUROC=0.970, train_loss_epoch=-2.39e+5]"
     ]
    },
    {
     "name": "stdout",
     "output_type": "stream",
     "text": [
      "\r",
      "Epoch 6: 100%|██████████| 10/10 [00:04<00:00,  2.07it/s, loss=-2.41e+05, v_num=0, train_loss_step=-3.05e+5, pixel_AUROC=0.970, train_loss_epoch=-2.39e+5]"
     ]
    },
    {
     "name": "stdout",
     "output_type": "stream",
     "text": [
      "\r",
      "Epoch 6: 100%|██████████| 10/10 [00:05<00:00,  1.79it/s, loss=-2.41e+05, v_num=0, train_loss_step=-3.05e+5, pixel_AUROC=0.970, train_loss_epoch=-2.39e+5]"
     ]
    },
    {
     "name": "stdout",
     "output_type": "stream",
     "text": [
      "\n"
     ]
    },
    {
     "name": "stdout",
     "output_type": "stream",
     "text": [
      "\r",
      "                                                                      "
     ]
    },
    {
     "name": "stdout",
     "output_type": "stream",
     "text": [
      "\u001b[A"
     ]
    },
    {
     "name": "stdout",
     "output_type": "stream",
     "text": [
      "\r",
      "Epoch 6: 100%|██████████| 10/10 [00:05<00:00,  1.79it/s, loss=-2.41e+05, v_num=0, train_loss_step=-3.05e+5, pixel_AUROC=0.970, train_loss_epoch=-2.84e+5]"
     ]
    },
    {
     "name": "stdout",
     "output_type": "stream",
     "text": [
      "\r",
      "Epoch 6:   0%|          | 0/10 [00:00<?, ?it/s, loss=-2.41e+05, v_num=0, train_loss_step=-3.05e+5, pixel_AUROC=0.970, train_loss_epoch=-2.84e+5]         "
     ]
    },
    {
     "name": "stdout",
     "output_type": "stream",
     "text": [
      "\r",
      "Epoch 7:   0%|          | 0/10 [00:00<?, ?it/s, loss=-2.41e+05, v_num=0, train_loss_step=-3.05e+5, pixel_AUROC=0.970, train_loss_epoch=-2.84e+5]"
     ]
    },
    {
     "name": "stdout",
     "output_type": "stream",
     "text": [
      "\r",
      "Epoch 7:  10%|█         | 1/10 [00:02<00:19,  2.17s/it, loss=-2.41e+05, v_num=0, train_loss_step=-3.05e+5, pixel_AUROC=0.970, train_loss_epoch=-2.84e+5]"
     ]
    },
    {
     "name": "stdout",
     "output_type": "stream",
     "text": [
      "\r",
      "Epoch 7:  10%|█         | 1/10 [00:02<00:19,  2.17s/it, loss=-2.48e+05, v_num=0, train_loss_step=-3.1e+5, pixel_AUROC=0.970, train_loss_epoch=-2.84e+5] "
     ]
    },
    {
     "name": "stdout",
     "output_type": "stream",
     "text": [
      "\r",
      "Epoch 7:  20%|██        | 2/10 [00:02<00:09,  1.15s/it, loss=-2.48e+05, v_num=0, train_loss_step=-3.1e+5, pixel_AUROC=0.970, train_loss_epoch=-2.84e+5]"
     ]
    },
    {
     "name": "stdout",
     "output_type": "stream",
     "text": [
      "\r",
      "Epoch 7:  20%|██        | 2/10 [00:02<00:09,  1.15s/it, loss=-2.48e+05, v_num=0, train_loss_step=-3.1e+5, pixel_AUROC=0.970, train_loss_epoch=-2.84e+5]"
     ]
    },
    {
     "name": "stdout",
     "output_type": "stream",
     "text": [
      "\r",
      "Epoch 7:  20%|██        | 2/10 [00:02<00:09,  1.15s/it, loss=-2.55e+05, v_num=0, train_loss_step=-3.14e+5, pixel_AUROC=0.970, train_loss_epoch=-2.84e+5]"
     ]
    },
    {
     "name": "stdout",
     "output_type": "stream",
     "text": [
      "\r",
      "Epoch 7:  30%|███       | 3/10 [00:02<00:05,  1.24it/s, loss=-2.55e+05, v_num=0, train_loss_step=-3.14e+5, pixel_AUROC=0.970, train_loss_epoch=-2.84e+5]"
     ]
    },
    {
     "name": "stdout",
     "output_type": "stream",
     "text": [
      "\r",
      "Epoch 7:  30%|███       | 3/10 [00:02<00:05,  1.24it/s, loss=-2.62e+05, v_num=0, train_loss_step=-3.19e+5, pixel_AUROC=0.970, train_loss_epoch=-2.84e+5]"
     ]
    },
    {
     "name": "stdout",
     "output_type": "stream",
     "text": [
      "\r",
      "Epoch 7:  40%|████      | 4/10 [00:02<00:03,  1.57it/s, loss=-2.62e+05, v_num=0, train_loss_step=-3.19e+5, pixel_AUROC=0.970, train_loss_epoch=-2.84e+5]"
     ]
    },
    {
     "name": "stdout",
     "output_type": "stream",
     "text": [
      "\r",
      "Epoch 7:  40%|████      | 4/10 [00:02<00:03,  1.57it/s, loss=-2.62e+05, v_num=0, train_loss_step=-3.19e+5, pixel_AUROC=0.970, train_loss_epoch=-2.84e+5]"
     ]
    },
    {
     "name": "stdout",
     "output_type": "stream",
     "text": [
      "\r",
      "Epoch 7:  40%|████      | 4/10 [00:02<00:03,  1.57it/s, loss=-2.68e+05, v_num=0, train_loss_step=-3.26e+5, pixel_AUROC=0.970, train_loss_epoch=-2.84e+5]"
     ]
    },
    {
     "name": "stdout",
     "output_type": "stream",
     "text": [
      "\r",
      "Epoch 7:  50%|█████     | 5/10 [00:02<00:02,  1.87it/s, loss=-2.68e+05, v_num=0, train_loss_step=-3.26e+5, pixel_AUROC=0.970, train_loss_epoch=-2.84e+5]"
     ]
    },
    {
     "name": "stdout",
     "output_type": "stream",
     "text": [
      "\r",
      "Epoch 7:  50%|█████     | 5/10 [00:02<00:02,  1.87it/s, loss=-2.75e+05, v_num=0, train_loss_step=-3.33e+5, pixel_AUROC=0.970, train_loss_epoch=-2.84e+5]"
     ]
    },
    {
     "name": "stdout",
     "output_type": "stream",
     "text": [
      "\r",
      "Epoch 7:  60%|██████    | 6/10 [00:02<00:01,  2.15it/s, loss=-2.75e+05, v_num=0, train_loss_step=-3.33e+5, pixel_AUROC=0.970, train_loss_epoch=-2.84e+5]"
     ]
    },
    {
     "name": "stdout",
     "output_type": "stream",
     "text": [
      "\r",
      "Epoch 7:  60%|██████    | 6/10 [00:02<00:01,  2.15it/s, loss=-2.75e+05, v_num=0, train_loss_step=-3.33e+5, pixel_AUROC=0.970, train_loss_epoch=-2.84e+5]"
     ]
    },
    {
     "name": "stdout",
     "output_type": "stream",
     "text": [
      "\r",
      "Epoch 7:  60%|██████    | 6/10 [00:02<00:01,  2.15it/s, loss=-2.81e+05, v_num=0, train_loss_step=-3.37e+5, pixel_AUROC=0.970, train_loss_epoch=-2.84e+5]"
     ]
    },
    {
     "name": "stdout",
     "output_type": "stream",
     "text": [
      "\r",
      "Epoch 7:  70%|███████   | 7/10 [00:02<00:01,  2.42it/s, loss=-2.81e+05, v_num=0, train_loss_step=-3.37e+5, pixel_AUROC=0.970, train_loss_epoch=-2.84e+5]"
     ]
    },
    {
     "name": "stdout",
     "output_type": "stream",
     "text": [
      "\r",
      "Epoch 7:  70%|███████   | 7/10 [00:02<00:01,  2.42it/s, loss=-2.87e+05, v_num=0, train_loss_step=-3.45e+5, pixel_AUROC=0.970, train_loss_epoch=-2.84e+5]"
     ]
    },
    {
     "name": "stdout",
     "output_type": "stream",
     "text": [
      "\n"
     ]
    },
    {
     "name": "stdout",
     "output_type": "stream",
     "text": [
      "\r",
      "Validation: 0it [00:00, ?it/s]"
     ]
    },
    {
     "name": "stdout",
     "output_type": "stream",
     "text": [
      "\u001b[A"
     ]
    },
    {
     "name": "stdout",
     "output_type": "stream",
     "text": [
      "\n"
     ]
    },
    {
     "name": "stdout",
     "output_type": "stream",
     "text": [
      "\r",
      "Validation:   0%|          | 0/3 [00:00<?, ?it/s]"
     ]
    },
    {
     "name": "stdout",
     "output_type": "stream",
     "text": [
      "\u001b[A"
     ]
    },
    {
     "name": "stdout",
     "output_type": "stream",
     "text": [
      "\n"
     ]
    },
    {
     "name": "stdout",
     "output_type": "stream",
     "text": [
      "\r",
      "Validation DataLoader 0:   0%|          | 0/3 [00:00<?, ?it/s]"
     ]
    },
    {
     "name": "stdout",
     "output_type": "stream",
     "text": [
      "\u001b[A"
     ]
    },
    {
     "name": "stdout",
     "output_type": "stream",
     "text": [
      "\n"
     ]
    },
    {
     "name": "stdout",
     "output_type": "stream",
     "text": [
      "\r",
      "Validation DataLoader 0:  33%|███▎      | 1/3 [00:00<00:00, 10.69it/s]"
     ]
    },
    {
     "name": "stdout",
     "output_type": "stream",
     "text": [
      "\u001b[A"
     ]
    },
    {
     "name": "stdout",
     "output_type": "stream",
     "text": [
      "\r",
      "Epoch 7:  80%|████████  | 8/10 [00:04<00:01,  1.66it/s, loss=-2.87e+05, v_num=0, train_loss_step=-3.45e+5, pixel_AUROC=0.970, train_loss_epoch=-2.84e+5]"
     ]
    },
    {
     "name": "stdout",
     "output_type": "stream",
     "text": [
      "\r",
      "Epoch 7:  80%|████████  | 8/10 [00:04<00:01,  1.66it/s, loss=-2.87e+05, v_num=0, train_loss_step=-3.45e+5, pixel_AUROC=0.970, train_loss_epoch=-2.84e+5]"
     ]
    },
    {
     "name": "stdout",
     "output_type": "stream",
     "text": [
      "\n"
     ]
    },
    {
     "name": "stdout",
     "output_type": "stream",
     "text": [
      "\r",
      "Validation DataLoader 0:  67%|██████▋   | 2/3 [00:00<00:00, 10.51it/s]"
     ]
    },
    {
     "name": "stdout",
     "output_type": "stream",
     "text": [
      "\u001b[A"
     ]
    },
    {
     "name": "stdout",
     "output_type": "stream",
     "text": [
      "\n"
     ]
    },
    {
     "name": "stdout",
     "output_type": "stream",
     "text": [
      "\r",
      "Validation DataLoader 0:  67%|██████▋   | 2/3 [00:00<00:00, 10.51it/s]"
     ]
    },
    {
     "name": "stdout",
     "output_type": "stream",
     "text": [
      "\u001b[A"
     ]
    },
    {
     "name": "stdout",
     "output_type": "stream",
     "text": [
      "\r",
      "Epoch 7:  90%|█████████ | 9/10 [00:04<00:00,  1.83it/s, loss=-2.87e+05, v_num=0, train_loss_step=-3.45e+5, pixel_AUROC=0.970, train_loss_epoch=-2.84e+5]"
     ]
    },
    {
     "name": "stdout",
     "output_type": "stream",
     "text": [
      "\n"
     ]
    },
    {
     "name": "stdout",
     "output_type": "stream",
     "text": [
      "\r",
      "Validation DataLoader 0: 100%|██████████| 3/3 [00:00<00:00, 10.51it/s]"
     ]
    },
    {
     "name": "stdout",
     "output_type": "stream",
     "text": [
      "\u001b[A"
     ]
    },
    {
     "name": "stdout",
     "output_type": "stream",
     "text": [
      "\r",
      "Epoch 7: 100%|██████████| 10/10 [00:04<00:00,  2.00it/s, loss=-2.87e+05, v_num=0, train_loss_step=-3.45e+5, pixel_AUROC=0.970, train_loss_epoch=-2.84e+5]"
     ]
    },
    {
     "name": "stdout",
     "output_type": "stream",
     "text": [
      "\r",
      "Epoch 7: 100%|██████████| 10/10 [00:04<00:00,  2.00it/s, loss=-2.87e+05, v_num=0, train_loss_step=-3.45e+5, pixel_AUROC=0.970, train_loss_epoch=-2.84e+5]"
     ]
    },
    {
     "name": "stdout",
     "output_type": "stream",
     "text": [
      "\r",
      "Epoch 7: 100%|██████████| 10/10 [00:05<00:00,  1.74it/s, loss=-2.87e+05, v_num=0, train_loss_step=-3.45e+5, pixel_AUROC=0.973, train_loss_epoch=-2.84e+5]"
     ]
    },
    {
     "name": "stdout",
     "output_type": "stream",
     "text": [
      "\n"
     ]
    },
    {
     "name": "stdout",
     "output_type": "stream",
     "text": [
      "\r",
      "                                                                      "
     ]
    },
    {
     "name": "stdout",
     "output_type": "stream",
     "text": [
      "\u001b[A"
     ]
    },
    {
     "name": "stdout",
     "output_type": "stream",
     "text": [
      "\r",
      "Epoch 7: 100%|██████████| 10/10 [00:05<00:00,  1.74it/s, loss=-2.87e+05, v_num=0, train_loss_step=-3.45e+5, pixel_AUROC=0.973, train_loss_epoch=-3.25e+5]"
     ]
    },
    {
     "name": "stdout",
     "output_type": "stream",
     "text": [
      "\r",
      "Epoch 7:   0%|          | 0/10 [00:00<?, ?it/s, loss=-2.87e+05, v_num=0, train_loss_step=-3.45e+5, pixel_AUROC=0.973, train_loss_epoch=-3.25e+5]         "
     ]
    },
    {
     "name": "stdout",
     "output_type": "stream",
     "text": [
      "\r",
      "Epoch 8:   0%|          | 0/10 [00:00<?, ?it/s, loss=-2.87e+05, v_num=0, train_loss_step=-3.45e+5, pixel_AUROC=0.973, train_loss_epoch=-3.25e+5]"
     ]
    },
    {
     "name": "stdout",
     "output_type": "stream",
     "text": [
      "\r",
      "Epoch 8:  10%|█         | 1/10 [00:02<00:18,  2.08s/it, loss=-2.87e+05, v_num=0, train_loss_step=-3.45e+5, pixel_AUROC=0.973, train_loss_epoch=-3.25e+5]"
     ]
    },
    {
     "name": "stdout",
     "output_type": "stream",
     "text": [
      "\r",
      "Epoch 8:  10%|█         | 1/10 [00:02<00:18,  2.08s/it, loss=-2.94e+05, v_num=0, train_loss_step=-3.51e+5, pixel_AUROC=0.973, train_loss_epoch=-3.25e+5]"
     ]
    },
    {
     "name": "stdout",
     "output_type": "stream",
     "text": [
      "\r",
      "Epoch 8:  20%|██        | 2/10 [00:02<00:08,  1.10s/it, loss=-2.94e+05, v_num=0, train_loss_step=-3.51e+5, pixel_AUROC=0.973, train_loss_epoch=-3.25e+5]"
     ]
    },
    {
     "name": "stdout",
     "output_type": "stream",
     "text": [
      "\r",
      "Epoch 8:  20%|██        | 2/10 [00:02<00:08,  1.10s/it, loss=-2.94e+05, v_num=0, train_loss_step=-3.51e+5, pixel_AUROC=0.973, train_loss_epoch=-3.25e+5]"
     ]
    },
    {
     "name": "stdout",
     "output_type": "stream",
     "text": [
      "\r",
      "Epoch 8:  20%|██        | 2/10 [00:02<00:08,  1.10s/it, loss=-2.99e+05, v_num=0, train_loss_step=-3.5e+5, pixel_AUROC=0.973, train_loss_epoch=-3.25e+5] "
     ]
    },
    {
     "name": "stdout",
     "output_type": "stream",
     "text": [
      "\r",
      "Epoch 8:  30%|███       | 3/10 [00:02<00:05,  1.29it/s, loss=-2.99e+05, v_num=0, train_loss_step=-3.5e+5, pixel_AUROC=0.973, train_loss_epoch=-3.25e+5]"
     ]
    },
    {
     "name": "stdout",
     "output_type": "stream",
     "text": [
      "\r",
      "Epoch 8:  30%|███       | 3/10 [00:02<00:05,  1.29it/s, loss=-3.05e+05, v_num=0, train_loss_step=-3.57e+5, pixel_AUROC=0.973, train_loss_epoch=-3.25e+5]"
     ]
    },
    {
     "name": "stdout",
     "output_type": "stream",
     "text": [
      "\r",
      "Epoch 8:  40%|████      | 4/10 [00:02<00:03,  1.63it/s, loss=-3.05e+05, v_num=0, train_loss_step=-3.57e+5, pixel_AUROC=0.973, train_loss_epoch=-3.25e+5]"
     ]
    },
    {
     "name": "stdout",
     "output_type": "stream",
     "text": [
      "\r",
      "Epoch 8:  40%|████      | 4/10 [00:02<00:03,  1.63it/s, loss=-3.05e+05, v_num=0, train_loss_step=-3.57e+5, pixel_AUROC=0.973, train_loss_epoch=-3.25e+5]"
     ]
    },
    {
     "name": "stdout",
     "output_type": "stream",
     "text": [
      "\r",
      "Epoch 8:  40%|████      | 4/10 [00:02<00:03,  1.63it/s, loss=-3.11e+05, v_num=0, train_loss_step=-3.67e+5, pixel_AUROC=0.973, train_loss_epoch=-3.25e+5]"
     ]
    },
    {
     "name": "stdout",
     "output_type": "stream",
     "text": [
      "\r",
      "Epoch 8:  50%|█████     | 5/10 [00:02<00:02,  1.94it/s, loss=-3.11e+05, v_num=0, train_loss_step=-3.67e+5, pixel_AUROC=0.973, train_loss_epoch=-3.25e+5]"
     ]
    },
    {
     "name": "stdout",
     "output_type": "stream",
     "text": [
      "\r",
      "Epoch 8:  50%|█████     | 5/10 [00:02<00:02,  1.94it/s, loss=-3.17e+05, v_num=0, train_loss_step=-3.69e+5, pixel_AUROC=0.973, train_loss_epoch=-3.25e+5]"
     ]
    },
    {
     "name": "stdout",
     "output_type": "stream",
     "text": [
      "\r",
      "Epoch 8:  60%|██████    | 6/10 [00:02<00:01,  2.22it/s, loss=-3.17e+05, v_num=0, train_loss_step=-3.69e+5, pixel_AUROC=0.973, train_loss_epoch=-3.25e+5]"
     ]
    },
    {
     "name": "stdout",
     "output_type": "stream",
     "text": [
      "\r",
      "Epoch 8:  60%|██████    | 6/10 [00:02<00:01,  2.22it/s, loss=-3.17e+05, v_num=0, train_loss_step=-3.69e+5, pixel_AUROC=0.973, train_loss_epoch=-3.25e+5]"
     ]
    },
    {
     "name": "stdout",
     "output_type": "stream",
     "text": [
      "\r",
      "Epoch 8:  60%|██████    | 6/10 [00:02<00:01,  2.22it/s, loss=-3.23e+05, v_num=0, train_loss_step=-3.74e+5, pixel_AUROC=0.973, train_loss_epoch=-3.25e+5]"
     ]
    },
    {
     "name": "stdout",
     "output_type": "stream",
     "text": [
      "\r",
      "Epoch 8:  70%|███████   | 7/10 [00:02<00:01,  2.49it/s, loss=-3.23e+05, v_num=0, train_loss_step=-3.74e+5, pixel_AUROC=0.973, train_loss_epoch=-3.25e+5]"
     ]
    },
    {
     "name": "stdout",
     "output_type": "stream",
     "text": [
      "\r",
      "Epoch 8:  70%|███████   | 7/10 [00:02<00:01,  2.49it/s, loss=-3.28e+05, v_num=0, train_loss_step=-3.76e+5, pixel_AUROC=0.973, train_loss_epoch=-3.25e+5]"
     ]
    },
    {
     "name": "stdout",
     "output_type": "stream",
     "text": [
      "\n"
     ]
    },
    {
     "name": "stdout",
     "output_type": "stream",
     "text": [
      "\r",
      "Validation: 0it [00:00, ?it/s]"
     ]
    },
    {
     "name": "stdout",
     "output_type": "stream",
     "text": [
      "\u001b[A"
     ]
    },
    {
     "name": "stdout",
     "output_type": "stream",
     "text": [
      "\n"
     ]
    },
    {
     "name": "stdout",
     "output_type": "stream",
     "text": [
      "\r",
      "Validation:   0%|          | 0/3 [00:00<?, ?it/s]"
     ]
    },
    {
     "name": "stdout",
     "output_type": "stream",
     "text": [
      "\u001b[A"
     ]
    },
    {
     "name": "stdout",
     "output_type": "stream",
     "text": [
      "\n"
     ]
    },
    {
     "name": "stdout",
     "output_type": "stream",
     "text": [
      "\r",
      "Validation DataLoader 0:   0%|          | 0/3 [00:00<?, ?it/s]"
     ]
    },
    {
     "name": "stdout",
     "output_type": "stream",
     "text": [
      "\u001b[A"
     ]
    },
    {
     "name": "stdout",
     "output_type": "stream",
     "text": [
      "\n"
     ]
    },
    {
     "name": "stdout",
     "output_type": "stream",
     "text": [
      "\r",
      "Validation DataLoader 0:  33%|███▎      | 1/3 [00:00<00:00, 10.90it/s]"
     ]
    },
    {
     "name": "stdout",
     "output_type": "stream",
     "text": [
      "\u001b[A"
     ]
    },
    {
     "name": "stdout",
     "output_type": "stream",
     "text": [
      "\r",
      "Epoch 8:  80%|████████  | 8/10 [00:04<00:01,  1.66it/s, loss=-3.28e+05, v_num=0, train_loss_step=-3.76e+5, pixel_AUROC=0.973, train_loss_epoch=-3.25e+5]"
     ]
    },
    {
     "name": "stdout",
     "output_type": "stream",
     "text": [
      "\r",
      "Epoch 8:  80%|████████  | 8/10 [00:04<00:01,  1.66it/s, loss=-3.28e+05, v_num=0, train_loss_step=-3.76e+5, pixel_AUROC=0.973, train_loss_epoch=-3.25e+5]"
     ]
    },
    {
     "name": "stdout",
     "output_type": "stream",
     "text": [
      "\n"
     ]
    },
    {
     "name": "stdout",
     "output_type": "stream",
     "text": [
      "\r",
      "Validation DataLoader 0:  67%|██████▋   | 2/3 [00:00<00:00, 10.46it/s]"
     ]
    },
    {
     "name": "stdout",
     "output_type": "stream",
     "text": [
      "\u001b[A"
     ]
    },
    {
     "name": "stdout",
     "output_type": "stream",
     "text": [
      "\n"
     ]
    },
    {
     "name": "stdout",
     "output_type": "stream",
     "text": [
      "\r",
      "Validation DataLoader 0:  67%|██████▋   | 2/3 [00:00<00:00, 10.46it/s]"
     ]
    },
    {
     "name": "stdout",
     "output_type": "stream",
     "text": [
      "\u001b[A"
     ]
    },
    {
     "name": "stdout",
     "output_type": "stream",
     "text": [
      "\r",
      "Epoch 8:  90%|█████████ | 9/10 [00:04<00:00,  1.83it/s, loss=-3.28e+05, v_num=0, train_loss_step=-3.76e+5, pixel_AUROC=0.973, train_loss_epoch=-3.25e+5]"
     ]
    },
    {
     "name": "stdout",
     "output_type": "stream",
     "text": [
      "\n"
     ]
    },
    {
     "name": "stdout",
     "output_type": "stream",
     "text": [
      "\r",
      "Validation DataLoader 0: 100%|██████████| 3/3 [00:00<00:00, 10.46it/s]"
     ]
    },
    {
     "name": "stdout",
     "output_type": "stream",
     "text": [
      "\u001b[A"
     ]
    },
    {
     "name": "stdout",
     "output_type": "stream",
     "text": [
      "\r",
      "Epoch 8: 100%|██████████| 10/10 [00:04<00:00,  2.01it/s, loss=-3.28e+05, v_num=0, train_loss_step=-3.76e+5, pixel_AUROC=0.973, train_loss_epoch=-3.25e+5]"
     ]
    },
    {
     "name": "stdout",
     "output_type": "stream",
     "text": [
      "\r",
      "Epoch 8: 100%|██████████| 10/10 [00:04<00:00,  2.01it/s, loss=-3.28e+05, v_num=0, train_loss_step=-3.76e+5, pixel_AUROC=0.973, train_loss_epoch=-3.25e+5]"
     ]
    },
    {
     "name": "stdout",
     "output_type": "stream",
     "text": [
      "\r",
      "Epoch 8: 100%|██████████| 10/10 [00:05<00:00,  1.75it/s, loss=-3.28e+05, v_num=0, train_loss_step=-3.76e+5, pixel_AUROC=0.972, train_loss_epoch=-3.25e+5]"
     ]
    },
    {
     "name": "stdout",
     "output_type": "stream",
     "text": [
      "\n"
     ]
    },
    {
     "name": "stdout",
     "output_type": "stream",
     "text": [
      "\r",
      "                                                                      "
     ]
    },
    {
     "name": "stdout",
     "output_type": "stream",
     "text": [
      "\u001b[A"
     ]
    },
    {
     "name": "stdout",
     "output_type": "stream",
     "text": [
      "\r",
      "Epoch 8: 100%|██████████| 10/10 [00:05<00:00,  1.75it/s, loss=-3.28e+05, v_num=0, train_loss_step=-3.76e+5, pixel_AUROC=0.972, train_loss_epoch=-3.63e+5]"
     ]
    },
    {
     "name": "stdout",
     "output_type": "stream",
     "text": [
      "\r",
      "Epoch 8:   0%|          | 0/10 [00:00<?, ?it/s, loss=-3.28e+05, v_num=0, train_loss_step=-3.76e+5, pixel_AUROC=0.972, train_loss_epoch=-3.63e+5]         "
     ]
    },
    {
     "name": "stdout",
     "output_type": "stream",
     "text": [
      "\r",
      "Epoch 9:   0%|          | 0/10 [00:00<?, ?it/s, loss=-3.28e+05, v_num=0, train_loss_step=-3.76e+5, pixel_AUROC=0.972, train_loss_epoch=-3.63e+5]"
     ]
    },
    {
     "name": "stdout",
     "output_type": "stream",
     "text": [
      "\r",
      "Epoch 9:  10%|█         | 1/10 [00:02<00:19,  2.11s/it, loss=-3.28e+05, v_num=0, train_loss_step=-3.76e+5, pixel_AUROC=0.972, train_loss_epoch=-3.63e+5]"
     ]
    },
    {
     "name": "stdout",
     "output_type": "stream",
     "text": [
      "\r",
      "Epoch 9:  10%|█         | 1/10 [00:02<00:19,  2.12s/it, loss=-3.33e+05, v_num=0, train_loss_step=-3.85e+5, pixel_AUROC=0.972, train_loss_epoch=-3.63e+5]"
     ]
    },
    {
     "name": "stdout",
     "output_type": "stream",
     "text": [
      "\r",
      "Epoch 9:  20%|██        | 2/10 [00:02<00:08,  1.12s/it, loss=-3.33e+05, v_num=0, train_loss_step=-3.85e+5, pixel_AUROC=0.972, train_loss_epoch=-3.63e+5]"
     ]
    },
    {
     "name": "stdout",
     "output_type": "stream",
     "text": [
      "\r",
      "Epoch 9:  20%|██        | 2/10 [00:02<00:08,  1.12s/it, loss=-3.33e+05, v_num=0, train_loss_step=-3.85e+5, pixel_AUROC=0.972, train_loss_epoch=-3.63e+5]"
     ]
    },
    {
     "name": "stdout",
     "output_type": "stream",
     "text": [
      "\r",
      "Epoch 9:  20%|██        | 2/10 [00:02<00:08,  1.12s/it, loss=-3.39e+05, v_num=0, train_loss_step=-3.87e+5, pixel_AUROC=0.972, train_loss_epoch=-3.63e+5]"
     ]
    },
    {
     "name": "stdout",
     "output_type": "stream",
     "text": [
      "\r",
      "Epoch 9:  30%|███       | 3/10 [00:02<00:05,  1.27it/s, loss=-3.39e+05, v_num=0, train_loss_step=-3.87e+5, pixel_AUROC=0.972, train_loss_epoch=-3.63e+5]"
     ]
    },
    {
     "name": "stdout",
     "output_type": "stream",
     "text": [
      "\r",
      "Epoch 9:  30%|███       | 3/10 [00:02<00:05,  1.27it/s, loss=-3.44e+05, v_num=0, train_loss_step=-3.9e+5, pixel_AUROC=0.972, train_loss_epoch=-3.63e+5] "
     ]
    },
    {
     "name": "stdout",
     "output_type": "stream",
     "text": [
      "\r",
      "Epoch 9:  40%|████      | 4/10 [00:02<00:03,  1.61it/s, loss=-3.44e+05, v_num=0, train_loss_step=-3.9e+5, pixel_AUROC=0.972, train_loss_epoch=-3.63e+5]"
     ]
    },
    {
     "name": "stdout",
     "output_type": "stream",
     "text": [
      "\r",
      "Epoch 9:  40%|████      | 4/10 [00:02<00:03,  1.61it/s, loss=-3.44e+05, v_num=0, train_loss_step=-3.9e+5, pixel_AUROC=0.972, train_loss_epoch=-3.63e+5]"
     ]
    },
    {
     "name": "stdout",
     "output_type": "stream",
     "text": [
      "\r",
      "Epoch 9:  40%|████      | 4/10 [00:02<00:03,  1.61it/s, loss=-3.49e+05, v_num=0, train_loss_step=-3.92e+5, pixel_AUROC=0.972, train_loss_epoch=-3.63e+5]"
     ]
    },
    {
     "name": "stdout",
     "output_type": "stream",
     "text": [
      "\r",
      "Epoch 9:  50%|█████     | 5/10 [00:02<00:02,  1.92it/s, loss=-3.49e+05, v_num=0, train_loss_step=-3.92e+5, pixel_AUROC=0.972, train_loss_epoch=-3.63e+5]"
     ]
    },
    {
     "name": "stdout",
     "output_type": "stream",
     "text": [
      "\r",
      "Epoch 9:  50%|█████     | 5/10 [00:02<00:02,  1.92it/s, loss=-3.54e+05, v_num=0, train_loss_step=-4.01e+5, pixel_AUROC=0.972, train_loss_epoch=-3.63e+5]"
     ]
    },
    {
     "name": "stdout",
     "output_type": "stream",
     "text": [
      "\r",
      "Epoch 9:  60%|██████    | 6/10 [00:02<00:01,  2.20it/s, loss=-3.54e+05, v_num=0, train_loss_step=-4.01e+5, pixel_AUROC=0.972, train_loss_epoch=-3.63e+5]"
     ]
    },
    {
     "name": "stdout",
     "output_type": "stream",
     "text": [
      "\r",
      "Epoch 9:  60%|██████    | 6/10 [00:02<00:01,  2.20it/s, loss=-3.54e+05, v_num=0, train_loss_step=-4.01e+5, pixel_AUROC=0.972, train_loss_epoch=-3.63e+5]"
     ]
    },
    {
     "name": "stdout",
     "output_type": "stream",
     "text": [
      "\r",
      "Epoch 9:  60%|██████    | 6/10 [00:02<00:01,  2.20it/s, loss=-3.59e+05, v_num=0, train_loss_step=-4.05e+5, pixel_AUROC=0.972, train_loss_epoch=-3.63e+5]"
     ]
    },
    {
     "name": "stdout",
     "output_type": "stream",
     "text": [
      "\r",
      "Epoch 9:  70%|███████   | 7/10 [00:02<00:01,  2.47it/s, loss=-3.59e+05, v_num=0, train_loss_step=-4.05e+5, pixel_AUROC=0.972, train_loss_epoch=-3.63e+5]"
     ]
    },
    {
     "name": "stdout",
     "output_type": "stream",
     "text": [
      "\r",
      "Epoch 9:  70%|███████   | 7/10 [00:02<00:01,  2.47it/s, loss=-3.65e+05, v_num=0, train_loss_step=-4.12e+5, pixel_AUROC=0.972, train_loss_epoch=-3.63e+5]"
     ]
    },
    {
     "name": "stdout",
     "output_type": "stream",
     "text": [
      "\n"
     ]
    },
    {
     "name": "stdout",
     "output_type": "stream",
     "text": [
      "\r",
      "Validation: 0it [00:00, ?it/s]"
     ]
    },
    {
     "name": "stdout",
     "output_type": "stream",
     "text": [
      "\u001b[A"
     ]
    },
    {
     "name": "stdout",
     "output_type": "stream",
     "text": [
      "\n"
     ]
    },
    {
     "name": "stdout",
     "output_type": "stream",
     "text": [
      "\r",
      "Validation:   0%|          | 0/3 [00:00<?, ?it/s]"
     ]
    },
    {
     "name": "stdout",
     "output_type": "stream",
     "text": [
      "\u001b[A"
     ]
    },
    {
     "name": "stdout",
     "output_type": "stream",
     "text": [
      "\n"
     ]
    },
    {
     "name": "stdout",
     "output_type": "stream",
     "text": [
      "\r",
      "Validation DataLoader 0:   0%|          | 0/3 [00:00<?, ?it/s]"
     ]
    },
    {
     "name": "stdout",
     "output_type": "stream",
     "text": [
      "\u001b[A"
     ]
    },
    {
     "name": "stdout",
     "output_type": "stream",
     "text": [
      "\n"
     ]
    },
    {
     "name": "stdout",
     "output_type": "stream",
     "text": [
      "\r",
      "Validation DataLoader 0:  33%|███▎      | 1/3 [00:00<00:00, 10.81it/s]"
     ]
    },
    {
     "name": "stdout",
     "output_type": "stream",
     "text": [
      "\u001b[A"
     ]
    },
    {
     "name": "stdout",
     "output_type": "stream",
     "text": [
      "\r",
      "Epoch 9:  80%|████████  | 8/10 [00:04<00:01,  1.68it/s, loss=-3.65e+05, v_num=0, train_loss_step=-4.12e+5, pixel_AUROC=0.972, train_loss_epoch=-3.63e+5]"
     ]
    },
    {
     "name": "stdout",
     "output_type": "stream",
     "text": [
      "\r",
      "Epoch 9:  80%|████████  | 8/10 [00:04<00:01,  1.68it/s, loss=-3.65e+05, v_num=0, train_loss_step=-4.12e+5, pixel_AUROC=0.972, train_loss_epoch=-3.63e+5]"
     ]
    },
    {
     "name": "stdout",
     "output_type": "stream",
     "text": [
      "\n"
     ]
    },
    {
     "name": "stdout",
     "output_type": "stream",
     "text": [
      "\r",
      "Validation DataLoader 0:  67%|██████▋   | 2/3 [00:00<00:00, 10.75it/s]"
     ]
    },
    {
     "name": "stdout",
     "output_type": "stream",
     "text": [
      "\u001b[A"
     ]
    },
    {
     "name": "stdout",
     "output_type": "stream",
     "text": [
      "\n"
     ]
    },
    {
     "name": "stdout",
     "output_type": "stream",
     "text": [
      "\r",
      "Validation DataLoader 0:  67%|██████▋   | 2/3 [00:00<00:00, 10.75it/s]"
     ]
    },
    {
     "name": "stdout",
     "output_type": "stream",
     "text": [
      "\u001b[A"
     ]
    },
    {
     "name": "stdout",
     "output_type": "stream",
     "text": [
      "\r",
      "Epoch 9:  90%|█████████ | 9/10 [00:04<00:00,  1.85it/s, loss=-3.65e+05, v_num=0, train_loss_step=-4.12e+5, pixel_AUROC=0.972, train_loss_epoch=-3.63e+5]"
     ]
    },
    {
     "name": "stdout",
     "output_type": "stream",
     "text": [
      "\n"
     ]
    },
    {
     "name": "stdout",
     "output_type": "stream",
     "text": [
      "\r",
      "Validation DataLoader 0: 100%|██████████| 3/3 [00:00<00:00, 10.75it/s]"
     ]
    },
    {
     "name": "stdout",
     "output_type": "stream",
     "text": [
      "\u001b[A"
     ]
    },
    {
     "name": "stdout",
     "output_type": "stream",
     "text": [
      "\r",
      "Epoch 9: 100%|██████████| 10/10 [00:04<00:00,  2.03it/s, loss=-3.65e+05, v_num=0, train_loss_step=-4.12e+5, pixel_AUROC=0.972, train_loss_epoch=-3.63e+5]"
     ]
    },
    {
     "name": "stdout",
     "output_type": "stream",
     "text": [
      "\r",
      "Epoch 9: 100%|██████████| 10/10 [00:04<00:00,  2.03it/s, loss=-3.65e+05, v_num=0, train_loss_step=-4.12e+5, pixel_AUROC=0.972, train_loss_epoch=-3.63e+5]"
     ]
    },
    {
     "name": "stdout",
     "output_type": "stream",
     "text": [
      "\r",
      "Epoch 9: 100%|██████████| 10/10 [00:05<00:00,  1.76it/s, loss=-3.65e+05, v_num=0, train_loss_step=-4.12e+5, pixel_AUROC=0.972, train_loss_epoch=-3.63e+5]"
     ]
    },
    {
     "name": "stdout",
     "output_type": "stream",
     "text": [
      "\n"
     ]
    },
    {
     "name": "stdout",
     "output_type": "stream",
     "text": [
      "\r",
      "                                                                      "
     ]
    },
    {
     "name": "stdout",
     "output_type": "stream",
     "text": [
      "\u001b[A"
     ]
    },
    {
     "name": "stdout",
     "output_type": "stream",
     "text": [
      "\r",
      "Epoch 9: 100%|██████████| 10/10 [00:05<00:00,  1.76it/s, loss=-3.65e+05, v_num=0, train_loss_step=-4.12e+5, pixel_AUROC=0.972, train_loss_epoch=-3.95e+5]"
     ]
    },
    {
     "name": "stdout",
     "output_type": "stream",
     "text": [
      "\r",
      "Epoch 9:   0%|          | 0/10 [00:00<?, ?it/s, loss=-3.65e+05, v_num=0, train_loss_step=-4.12e+5, pixel_AUROC=0.972, train_loss_epoch=-3.95e+5]         "
     ]
    },
    {
     "name": "stdout",
     "output_type": "stream",
     "text": [
      "\r",
      "Epoch 10:   0%|          | 0/10 [00:00<?, ?it/s, loss=-3.65e+05, v_num=0, train_loss_step=-4.12e+5, pixel_AUROC=0.972, train_loss_epoch=-3.95e+5]"
     ]
    },
    {
     "name": "stdout",
     "output_type": "stream",
     "text": [
      "\r",
      "Epoch 10:  10%|█         | 1/10 [00:02<00:18,  2.04s/it, loss=-3.65e+05, v_num=0, train_loss_step=-4.12e+5, pixel_AUROC=0.972, train_loss_epoch=-3.95e+5]"
     ]
    },
    {
     "name": "stdout",
     "output_type": "stream",
     "text": [
      "\r",
      "Epoch 10:  10%|█         | 1/10 [00:02<00:18,  2.04s/it, loss=-3.69e+05, v_num=0, train_loss_step=-4.12e+5, pixel_AUROC=0.972, train_loss_epoch=-3.95e+5]"
     ]
    },
    {
     "name": "stdout",
     "output_type": "stream",
     "text": [
      "\r",
      "Epoch 10:  20%|██        | 2/10 [00:02<00:08,  1.09s/it, loss=-3.69e+05, v_num=0, train_loss_step=-4.12e+5, pixel_AUROC=0.972, train_loss_epoch=-3.95e+5]"
     ]
    },
    {
     "name": "stdout",
     "output_type": "stream",
     "text": [
      "\r",
      "Epoch 10:  20%|██        | 2/10 [00:02<00:08,  1.09s/it, loss=-3.69e+05, v_num=0, train_loss_step=-4.12e+5, pixel_AUROC=0.972, train_loss_epoch=-3.95e+5]"
     ]
    },
    {
     "name": "stdout",
     "output_type": "stream",
     "text": [
      "\r",
      "Epoch 10:  20%|██        | 2/10 [00:02<00:08,  1.09s/it, loss=-3.75e+05, v_num=0, train_loss_step=-4.2e+5, pixel_AUROC=0.972, train_loss_epoch=-3.95e+5] "
     ]
    },
    {
     "name": "stdout",
     "output_type": "stream",
     "text": [
      "\r",
      "Epoch 10:  30%|███       | 3/10 [00:02<00:05,  1.31it/s, loss=-3.75e+05, v_num=0, train_loss_step=-4.2e+5, pixel_AUROC=0.972, train_loss_epoch=-3.95e+5]"
     ]
    },
    {
     "name": "stdout",
     "output_type": "stream",
     "text": [
      "\r",
      "Epoch 10:  30%|███       | 3/10 [00:02<00:05,  1.31it/s, loss=-3.79e+05, v_num=0, train_loss_step=-4.25e+5, pixel_AUROC=0.972, train_loss_epoch=-3.95e+5]"
     ]
    },
    {
     "name": "stdout",
     "output_type": "stream",
     "text": [
      "\r",
      "Epoch 10:  40%|████      | 4/10 [00:02<00:03,  1.65it/s, loss=-3.79e+05, v_num=0, train_loss_step=-4.25e+5, pixel_AUROC=0.972, train_loss_epoch=-3.95e+5]"
     ]
    },
    {
     "name": "stdout",
     "output_type": "stream",
     "text": [
      "\r",
      "Epoch 10:  40%|████      | 4/10 [00:02<00:03,  1.65it/s, loss=-3.79e+05, v_num=0, train_loss_step=-4.25e+5, pixel_AUROC=0.972, train_loss_epoch=-3.95e+5]"
     ]
    },
    {
     "name": "stdout",
     "output_type": "stream",
     "text": [
      "\r",
      "Epoch 10:  40%|████      | 4/10 [00:02<00:03,  1.65it/s, loss=-3.84e+05, v_num=0, train_loss_step=-4.3e+5, pixel_AUROC=0.972, train_loss_epoch=-3.95e+5] "
     ]
    },
    {
     "name": "stdout",
     "output_type": "stream",
     "text": [
      "\r",
      "Epoch 10:  50%|█████     | 5/10 [00:02<00:02,  1.96it/s, loss=-3.84e+05, v_num=0, train_loss_step=-4.3e+5, pixel_AUROC=0.972, train_loss_epoch=-3.95e+5]"
     ]
    },
    {
     "name": "stdout",
     "output_type": "stream",
     "text": [
      "\r",
      "Epoch 10:  50%|█████     | 5/10 [00:02<00:02,  1.96it/s, loss=-3.89e+05, v_num=0, train_loss_step=-4.36e+5, pixel_AUROC=0.972, train_loss_epoch=-3.95e+5]"
     ]
    },
    {
     "name": "stdout",
     "output_type": "stream",
     "text": [
      "\r",
      "Epoch 10:  60%|██████    | 6/10 [00:02<00:01,  2.24it/s, loss=-3.89e+05, v_num=0, train_loss_step=-4.36e+5, pixel_AUROC=0.972, train_loss_epoch=-3.95e+5]"
     ]
    },
    {
     "name": "stdout",
     "output_type": "stream",
     "text": [
      "\r",
      "Epoch 10:  60%|██████    | 6/10 [00:02<00:01,  2.24it/s, loss=-3.89e+05, v_num=0, train_loss_step=-4.36e+5, pixel_AUROC=0.972, train_loss_epoch=-3.95e+5]"
     ]
    },
    {
     "name": "stdout",
     "output_type": "stream",
     "text": [
      "\r",
      "Epoch 10:  60%|██████    | 6/10 [00:02<00:01,  2.24it/s, loss=-3.94e+05, v_num=0, train_loss_step=-4.34e+5, pixel_AUROC=0.972, train_loss_epoch=-3.95e+5]"
     ]
    },
    {
     "name": "stdout",
     "output_type": "stream",
     "text": [
      "\r",
      "Epoch 10:  70%|███████   | 7/10 [00:02<00:01,  2.52it/s, loss=-3.94e+05, v_num=0, train_loss_step=-4.34e+5, pixel_AUROC=0.972, train_loss_epoch=-3.95e+5]"
     ]
    },
    {
     "name": "stdout",
     "output_type": "stream",
     "text": [
      "\r",
      "Epoch 10:  70%|███████   | 7/10 [00:02<00:01,  2.52it/s, loss=-3.98e+05, v_num=0, train_loss_step=-4.38e+5, pixel_AUROC=0.972, train_loss_epoch=-3.95e+5]"
     ]
    },
    {
     "name": "stdout",
     "output_type": "stream",
     "text": [
      "\n"
     ]
    },
    {
     "name": "stdout",
     "output_type": "stream",
     "text": [
      "\r",
      "Validation: 0it [00:00, ?it/s]"
     ]
    },
    {
     "name": "stdout",
     "output_type": "stream",
     "text": [
      "\u001b[A"
     ]
    },
    {
     "name": "stdout",
     "output_type": "stream",
     "text": [
      "\n"
     ]
    },
    {
     "name": "stdout",
     "output_type": "stream",
     "text": [
      "\r",
      "Validation:   0%|          | 0/3 [00:00<?, ?it/s]"
     ]
    },
    {
     "name": "stdout",
     "output_type": "stream",
     "text": [
      "\u001b[A"
     ]
    },
    {
     "name": "stdout",
     "output_type": "stream",
     "text": [
      "\n"
     ]
    },
    {
     "name": "stdout",
     "output_type": "stream",
     "text": [
      "\r",
      "Validation DataLoader 0:   0%|          | 0/3 [00:00<?, ?it/s]"
     ]
    },
    {
     "name": "stdout",
     "output_type": "stream",
     "text": [
      "\u001b[A"
     ]
    },
    {
     "name": "stdout",
     "output_type": "stream",
     "text": [
      "\n"
     ]
    },
    {
     "name": "stdout",
     "output_type": "stream",
     "text": [
      "\r",
      "Validation DataLoader 0:  33%|███▎      | 1/3 [00:00<00:00, 10.84it/s]"
     ]
    },
    {
     "name": "stdout",
     "output_type": "stream",
     "text": [
      "\u001b[A"
     ]
    },
    {
     "name": "stdout",
     "output_type": "stream",
     "text": [
      "\r",
      "Epoch 10:  80%|████████  | 8/10 [00:04<00:01,  1.72it/s, loss=-3.98e+05, v_num=0, train_loss_step=-4.38e+5, pixel_AUROC=0.972, train_loss_epoch=-3.95e+5]"
     ]
    },
    {
     "name": "stdout",
     "output_type": "stream",
     "text": [
      "\r",
      "Epoch 10:  80%|████████  | 8/10 [00:04<00:01,  1.72it/s, loss=-3.98e+05, v_num=0, train_loss_step=-4.38e+5, pixel_AUROC=0.972, train_loss_epoch=-3.95e+5]"
     ]
    },
    {
     "name": "stdout",
     "output_type": "stream",
     "text": [
      "\n"
     ]
    },
    {
     "name": "stdout",
     "output_type": "stream",
     "text": [
      "\r",
      "Validation DataLoader 0:  67%|██████▋   | 2/3 [00:00<00:00,  9.99it/s]"
     ]
    },
    {
     "name": "stdout",
     "output_type": "stream",
     "text": [
      "\u001b[A"
     ]
    },
    {
     "name": "stdout",
     "output_type": "stream",
     "text": [
      "\n"
     ]
    },
    {
     "name": "stdout",
     "output_type": "stream",
     "text": [
      "\r",
      "Validation DataLoader 0:  67%|██████▋   | 2/3 [00:00<00:00,  9.99it/s]"
     ]
    },
    {
     "name": "stdout",
     "output_type": "stream",
     "text": [
      "\u001b[A"
     ]
    },
    {
     "name": "stdout",
     "output_type": "stream",
     "text": [
      "\r",
      "Epoch 10:  90%|█████████ | 9/10 [00:04<00:00,  1.89it/s, loss=-3.98e+05, v_num=0, train_loss_step=-4.38e+5, pixel_AUROC=0.972, train_loss_epoch=-3.95e+5]"
     ]
    },
    {
     "name": "stdout",
     "output_type": "stream",
     "text": [
      "\n"
     ]
    },
    {
     "name": "stdout",
     "output_type": "stream",
     "text": [
      "\r",
      "Validation DataLoader 0: 100%|██████████| 3/3 [00:00<00:00,  9.99it/s]"
     ]
    },
    {
     "name": "stdout",
     "output_type": "stream",
     "text": [
      "\u001b[A"
     ]
    },
    {
     "name": "stdout",
     "output_type": "stream",
     "text": [
      "\r",
      "Epoch 10: 100%|██████████| 10/10 [00:04<00:00,  2.07it/s, loss=-3.98e+05, v_num=0, train_loss_step=-4.38e+5, pixel_AUROC=0.972, train_loss_epoch=-3.95e+5]"
     ]
    },
    {
     "name": "stdout",
     "output_type": "stream",
     "text": [
      "\r",
      "Epoch 10: 100%|██████████| 10/10 [00:04<00:00,  2.07it/s, loss=-3.98e+05, v_num=0, train_loss_step=-4.38e+5, pixel_AUROC=0.972, train_loss_epoch=-3.95e+5]"
     ]
    },
    {
     "name": "stdout",
     "output_type": "stream",
     "text": [
      "\r",
      "Epoch 10: 100%|██████████| 10/10 [00:05<00:00,  1.80it/s, loss=-3.98e+05, v_num=0, train_loss_step=-4.38e+5, pixel_AUROC=0.972, train_loss_epoch=-3.95e+5]"
     ]
    },
    {
     "name": "stdout",
     "output_type": "stream",
     "text": [
      "\n"
     ]
    },
    {
     "name": "stdout",
     "output_type": "stream",
     "text": [
      "\r",
      "                                                                      "
     ]
    },
    {
     "name": "stdout",
     "output_type": "stream",
     "text": [
      "\u001b[A"
     ]
    },
    {
     "name": "stdout",
     "output_type": "stream",
     "text": [
      "\r",
      "Epoch 10: 100%|██████████| 10/10 [00:05<00:00,  1.79it/s, loss=-3.98e+05, v_num=0, train_loss_step=-4.38e+5, pixel_AUROC=0.972, train_loss_epoch=-4.27e+5]"
     ]
    },
    {
     "name": "stdout",
     "output_type": "stream",
     "text": [
      "\r",
      "Epoch 10: 100%|██████████| 10/10 [00:05<00:00,  1.79it/s, loss=-3.98e+05, v_num=0, train_loss_step=-4.38e+5, pixel_AUROC=0.972, train_loss_epoch=-4.27e+5]"
     ]
    },
    {
     "name": "stdout",
     "output_type": "stream",
     "text": [
      "\n"
     ]
    }
   ],
   "source": [
    "trainer.fit(datamodule=datamodule, model=model)"
   ]
  },
  {
   "cell_type": "markdown",
   "metadata": {
    "pycharm": {
     "name": "#%% md\n"
    }
   },
   "source": [
    "The training has finished after 12 epochs. This is because, we set the `EarlyStopping` criteria with a patience of 3, which terminated the training after `pixel_AUROC` stopped improving. If we increased the `patience`, the training would continue further.\n",
    "\n",
    "## Testing\n",
    "\n",
    "Now that we trained the model, we could test the model to check the overall performance on the test set. We will also be writing the output of the test images to a file since we set `VisualizerCallback` in `callbacks`."
   ]
  },
  {
   "cell_type": "code",
   "execution_count": 13,
   "metadata": {
    "execution": {
     "iopub.execute_input": "2023-02-06T13:38:38.712893Z",
     "iopub.status.busy": "2023-02-06T13:38:38.712113Z",
     "iopub.status.idle": "2023-02-06T13:39:00.894227Z",
     "shell.execute_reply": "2023-02-06T13:39:00.892763Z"
    },
    "pycharm": {
     "name": "#%%\n"
    }
   },
   "outputs": [
    {
     "name": "stderr",
     "output_type": "stream",
     "text": [
      "LOCAL_RANK: 0 - CUDA_VISIBLE_DEVICES: [3]\n"
     ]
    },
    {
     "name": "stdout",
     "output_type": "stream",
     "text": [
      "\r",
      "Testing: 0it [00:00, ?it/s]"
     ]
    },
    {
     "name": "stdout",
     "output_type": "stream",
     "text": [
      "\r",
      "Testing:   0%|          | 0/3 [00:00<?, ?it/s]"
     ]
    },
    {
     "name": "stdout",
     "output_type": "stream",
     "text": [
      "\r",
      "Testing DataLoader 0:   0%|          | 0/3 [00:00<?, ?it/s]"
     ]
    },
    {
     "name": "stdout",
     "output_type": "stream",
     "text": [
      "\r",
      "Testing DataLoader 0:  33%|███▎      | 1/3 [00:07<00:15,  7.56s/it]"
     ]
    },
    {
     "name": "stdout",
     "output_type": "stream",
     "text": [
      "\r",
      "Testing DataLoader 0:  33%|███▎      | 1/3 [00:07<00:15,  7.56s/it]"
     ]
    },
    {
     "name": "stdout",
     "output_type": "stream",
     "text": [
      "\r",
      "Testing DataLoader 0:  67%|██████▋   | 2/3 [00:15<00:07,  7.57s/it]"
     ]
    },
    {
     "name": "stdout",
     "output_type": "stream",
     "text": [
      "\r",
      "Testing DataLoader 0:  67%|██████▋   | 2/3 [00:15<00:07,  7.57s/it]"
     ]
    },
    {
     "name": "stdout",
     "output_type": "stream",
     "text": [
      "\r",
      "Testing DataLoader 0: 100%|██████████| 3/3 [00:19<00:00,  6.25s/it]"
     ]
    },
    {
     "name": "stdout",
     "output_type": "stream",
     "text": [
      "\r",
      "Testing DataLoader 0: 100%|██████████| 3/3 [00:19<00:00,  6.25s/it]"
     ]
    },
    {
     "name": "stdout",
     "output_type": "stream",
     "text": [
      "\r",
      "Testing DataLoader 0: 100%|██████████| 3/3 [00:20<00:00,  6.68s/it]"
     ]
    },
    {
     "name": "stdout",
     "output_type": "stream",
     "text": [
      "\n",
      "────────────────────────────────────────────────────────────────────────────────────────────────────────────────────────\n",
      "       Test metric             DataLoader 0\n",
      "────────────────────────────────────────────────────────────────────────────────────────────────────────────────────────\n",
      "       image_AUROC          0.9960317611694336\n",
      "       pixel_AUROC          0.9724125266075134\n",
      "────────────────────────────────────────────────────────────────────────────────────────────────────────────────────────\n"
     ]
    },
    {
     "data": {
      "text/plain": [
       "[{'pixel_AUROC': 0.9724125266075134, 'image_AUROC': 0.9960317611694336}]"
      ]
     },
     "execution_count": 13,
     "metadata": {},
     "output_type": "execute_result"
    }
   ],
   "source": [
    "trainer.test(datamodule=datamodule, model=model)"
   ]
  },
  {
   "cell_type": "markdown",
   "metadata": {
    "pycharm": {
     "name": "#%% md\n"
    }
   },
   "source": [
    "`trainer.test` returns the `pixel_AUROC` and `image_AUROC` results. We could also find the saved output in `images` directory."
   ]
  },
  {
   "cell_type": "code",
   "execution_count": 14,
   "metadata": {
    "execution": {
     "iopub.execute_input": "2023-02-06T13:39:00.901583Z",
     "iopub.status.busy": "2023-02-06T13:39:00.900807Z",
     "iopub.status.idle": "2023-02-06T13:39:01.420399Z",
     "shell.execute_reply": "2023-02-06T13:39:01.418238Z"
    },
    "pycharm": {
     "name": "#%%\n"
    }
   },
   "outputs": [
    {
     "name": "stdout",
     "output_type": "stream",
     "text": [
      "ls: cannot access 'images': No such file or directory\r\n"
     ]
    }
   ],
   "source": [
    "!ls images"
   ]
  },
  {
   "cell_type": "markdown",
   "metadata": {
    "pycharm": {
     "name": "#%% md\n"
    }
   },
   "source": [
    "## Inference\n",
    "\n",
    "Since we have a trained model, we could infer the model on an individual image or folder of images. Anomalib has an `InferenceDataset` to let you create an inference dataset. So let's try it."
   ]
  },
  {
   "cell_type": "code",
   "execution_count": 15,
   "metadata": {
    "execution": {
     "iopub.execute_input": "2023-02-06T13:39:01.428791Z",
     "iopub.status.busy": "2023-02-06T13:39:01.427584Z",
     "iopub.status.idle": "2023-02-06T13:39:01.438824Z",
     "shell.execute_reply": "2023-02-06T13:39:01.437227Z"
    },
    "pycharm": {
     "name": "#%%\n"
    }
   },
   "outputs": [],
   "source": [
    "inference_dataset = InferenceDataset(path=dataset_root / \"bottle/test/broken_large/000.png\", image_size=(256, 256))\n",
    "inference_dataloader = DataLoader(dataset=inference_dataset)"
   ]
  },
  {
   "cell_type": "markdown",
   "metadata": {
    "pycharm": {
     "name": "#%% md\n"
    }
   },
   "source": [
    "We could utilize `Trainer`'s `predict` method to infer, and get the outputs to visualize"
   ]
  },
  {
   "cell_type": "code",
   "execution_count": 16,
   "metadata": {
    "execution": {
     "iopub.execute_input": "2023-02-06T13:39:01.446446Z",
     "iopub.status.busy": "2023-02-06T13:39:01.445426Z",
     "iopub.status.idle": "2023-02-06T13:39:01.978980Z",
     "shell.execute_reply": "2023-02-06T13:39:01.977909Z"
    },
    "pycharm": {
     "name": "#%%\n"
    }
   },
   "outputs": [
    {
     "name": "stderr",
     "output_type": "stream",
     "text": [
      "LOCAL_RANK: 0 - CUDA_VISIBLE_DEVICES: [3]\n"
     ]
    },
    {
     "name": "stderr",
     "output_type": "stream",
     "text": [
      "/home/user/conda/lib/python3.8/site-packages/pytorch_lightning/trainer/connectors/data_connector.py:240: PossibleUserWarning: The dataloader, predict_dataloader 0, does not have many workers which may be a bottleneck. Consider increasing the value of the `num_workers` argument` (try 96 which is the number of cpus on this machine) in the `DataLoader` init to improve performance.\n",
      "  rank_zero_warn(\n"
     ]
    },
    {
     "name": "stdout",
     "output_type": "stream",
     "text": [
      "\r",
      "Predicting: 7it [00:00, ?it/s]"
     ]
    },
    {
     "name": "stdout",
     "output_type": "stream",
     "text": [
      "\r",
      "Predicting:   0%|          | 0/1 [00:00<00:00, -141836.37it/s]"
     ]
    },
    {
     "name": "stdout",
     "output_type": "stream",
     "text": [
      "\r",
      "Predicting DataLoader 0:   0%|          | 0/1 [00:00<00:00, -6883.97it/s]"
     ]
    },
    {
     "name": "stdout",
     "output_type": "stream",
     "text": [
      "\r",
      "Predicting DataLoader 0: 100%|██████████| 1/1 [00:00<00:00, -18.18it/s]  "
     ]
    },
    {
     "name": "stdout",
     "output_type": "stream",
     "text": [
      "\r",
      "Predicting DataLoader 0: 100%|██████████| 1/1 [00:00<00:00, -18.12it/s]"
     ]
    },
    {
     "name": "stdout",
     "output_type": "stream",
     "text": [
      "\r",
      "Predicting DataLoader 0: 100%|██████████| 1/1 [00:00<00:00, -17.98it/s]"
     ]
    },
    {
     "name": "stdout",
     "output_type": "stream",
     "text": [
      "\n"
     ]
    }
   ],
   "source": [
    "predictions = trainer.predict(model=model, dataloaders=inference_dataloader)[0]"
   ]
  },
  {
   "cell_type": "markdown",
   "metadata": {
    "pycharm": {
     "name": "#%% md\n"
    }
   },
   "source": [
    "`predictions` contain image, anomaly maps, predicted scores, labels and masks. These are all stored in a dictionary. We could check this by printing the `prediction` keys."
   ]
  },
  {
   "cell_type": "code",
   "execution_count": 17,
   "metadata": {
    "execution": {
     "iopub.execute_input": "2023-02-06T13:39:01.984409Z",
     "iopub.status.busy": "2023-02-06T13:39:01.984165Z",
     "iopub.status.idle": "2023-02-06T13:39:01.989708Z",
     "shell.execute_reply": "2023-02-06T13:39:01.988692Z"
    },
    "pycharm": {
     "name": "#%%\n"
    }
   },
   "outputs": [
    {
     "name": "stdout",
     "output_type": "stream",
     "text": [
      "dict_keys(['image', 'image_path', 'anomaly_maps', 'pred_scores', 'pred_labels', 'pred_masks', 'pred_boxes', 'box_scores', 'box_labels'])\n"
     ]
    }
   ],
   "source": [
    "print(predictions.keys())"
   ]
  },
  {
   "cell_type": "code",
   "execution_count": 18,
   "metadata": {
    "execution": {
     "iopub.execute_input": "2023-02-06T13:39:01.996784Z",
     "iopub.status.busy": "2023-02-06T13:39:01.996158Z",
     "iopub.status.idle": "2023-02-06T13:39:02.001975Z",
     "shell.execute_reply": "2023-02-06T13:39:02.000849Z"
    },
    "pycharm": {
     "name": "#%%\n"
    }
   },
   "outputs": [
    {
     "name": "stdout",
     "output_type": "stream",
     "text": [
      "Image Shape: torch.Size([1, 3, 256, 256]),\n",
      "Anomaly Map Shape: {predictions[\"anomaly_maps\"].shape}, \n",
      "Predicted Mask Shape: {predictions[\"pred_masks\"].shape}\n"
     ]
    }
   ],
   "source": [
    "print(\n",
    "    f'Image Shape: {predictions[\"image\"].shape},\\n'\n",
    "    'Anomaly Map Shape: {predictions[\"anomaly_maps\"].shape}, \\n'\n",
    "    'Predicted Mask Shape: {predictions[\"pred_masks\"].shape}'\n",
    ")"
   ]
  },
  {
   "cell_type": "markdown",
   "metadata": {
    "pycharm": {
     "name": "#%% md\n"
    }
   },
   "source": [
    "## Visualization"
   ]
  },
  {
   "cell_type": "markdown",
   "metadata": {
    "pycharm": {
     "name": "#%% md\n"
    }
   },
   "source": [
    "To properly visualize the predictions, we will need to perform some post-processing operations.\n",
    "\n",
    "Let's post-process each output one by one. We could start with the image. Each `image` is a tensor and within (0, 1) range. To visualize it, we need to denormalize it to (0, 255) scale. Anomalib already has a class for this. Let's use it."
   ]
  },
  {
   "cell_type": "code",
   "execution_count": 19,
   "metadata": {
    "execution": {
     "iopub.execute_input": "2023-02-06T13:39:02.007274Z",
     "iopub.status.busy": "2023-02-06T13:39:02.006324Z",
     "iopub.status.idle": "2023-02-06T13:39:02.015852Z",
     "shell.execute_reply": "2023-02-06T13:39:02.014709Z"
    },
    "pycharm": {
     "name": "#%%\n"
    }
   },
   "outputs": [
    {
     "name": "stdout",
     "output_type": "stream",
     "text": [
      "Image Shape: (256, 256, 3)\n",
      " Min Pixel: 29 \n",
      " Max Pixel: 255\n"
     ]
    },
    {
     "name": "stderr",
     "output_type": "stream",
     "text": [
      "/home/user/actions-runner/_work/anomalib/anomalib/anomalib/pre_processing/transforms/custom.py:24: UserWarning: Denormalize is no longer used and will be deprecated in v0.4.0\n",
      "  warnings.warn(\"Denormalize is no longer used and will be deprecated in v0.4.0\")\n"
     ]
    }
   ],
   "source": [
    "image = predictions[\"image\"][0]\n",
    "image = Denormalize()(image)\n",
    "print(f\"Image Shape: {image.shape}\\n Min Pixel: {image.min()} \\n Max Pixel: {image.max()}\")"
   ]
  },
  {
   "cell_type": "markdown",
   "metadata": {
    "pycharm": {
     "name": "#%% md\n"
    }
   },
   "source": [
    "We could now see that `image` is of a numpy array and within the range of \\[0, 255\\]. It's ready to be visualized now."
   ]
  },
  {
   "cell_type": "code",
   "execution_count": 20,
   "metadata": {
    "execution": {
     "iopub.execute_input": "2023-02-06T13:39:02.025224Z",
     "iopub.status.busy": "2023-02-06T13:39:02.023992Z",
     "iopub.status.idle": "2023-02-06T13:39:02.303937Z",
     "shell.execute_reply": "2023-02-06T13:39:02.302941Z"
    },
    "pycharm": {
     "name": "#%%\n"
    }
   },
   "outputs": [
    {
     "data": {
      "text/plain": [
       "<matplotlib.image.AxesImage at 0x7f08d8881a30>"
      ]
     },
     "execution_count": 20,
     "metadata": {},
     "output_type": "execute_result"
    },
    {
     "data": {
      "image/png": "[encoded data removed]",
      "text/plain": [
       "<Figure size 640x480 with 1 Axes>"
      ]
     },
     "metadata": {},
     "output_type": "display_data"
    }
   ],
   "source": [
    "plt.imshow(image)"
   ]
  },
  {
   "cell_type": "markdown",
   "metadata": {
    "pycharm": {
     "name": "#%% md\n"
    }
   },
   "source": [
    "The second output of the predictions is the anomaly map. As can be seen above, it's also a torch tensor and of size `torch.Size([1, 1, 256, 256])`. We therefore need to convert it to numpy and squeeze the dimensions to make it `256x256` output to visualize."
   ]
  },
  {
   "cell_type": "code",
   "execution_count": 21,
   "metadata": {
    "execution": {
     "iopub.execute_input": "2023-02-06T13:39:02.317506Z",
     "iopub.status.busy": "2023-02-06T13:39:02.316544Z",
     "iopub.status.idle": "2023-02-06T13:39:02.582308Z",
     "shell.execute_reply": "2023-02-06T13:39:02.581242Z"
    },
    "pycharm": {
     "name": "#%%\n"
    }
   },
   "outputs": [
    {
     "data": {
      "text/plain": [
       "<matplotlib.image.AxesImage at 0x7f08d87c5df0>"
      ]
     },
     "execution_count": 21,
     "metadata": {},
     "output_type": "execute_result"
    },
    {
     "data": {
      "image/png": "[encoded data removed]",
      "text/plain": [
       "<Figure size 640x480 with 1 Axes>"
      ]
     },
     "metadata": {},
     "output_type": "display_data"
    }
   ],
   "source": [
    "anomaly_map = predictions[\"anomaly_maps\"][0]\n",
    "anomaly_map = anomaly_map.cpu().numpy().squeeze()\n",
    "plt.imshow(anomaly_map)"
   ]
  },
  {
   "cell_type": "markdown",
   "metadata": {
    "pycharm": {
     "name": "#%% md\n"
    }
   },
   "source": [
    "We could superimpose (overlay) the anomaly map on top of the original image to get a heat map. Anomalib has a built-in function to achieve this. Let's try it."
   ]
  },
  {
   "cell_type": "code",
   "execution_count": 22,
   "metadata": {
    "execution": {
     "iopub.execute_input": "2023-02-06T13:39:02.593169Z",
     "iopub.status.busy": "2023-02-06T13:39:02.592855Z",
     "iopub.status.idle": "2023-02-06T13:39:02.835839Z",
     "shell.execute_reply": "2023-02-06T13:39:02.834829Z"
    },
    "pycharm": {
     "name": "#%%\n"
    }
   },
   "outputs": [
    {
     "data": {
      "text/plain": [
       "<matplotlib.image.AxesImage at 0x7f08d8737cd0>"
      ]
     },
     "execution_count": 22,
     "metadata": {},
     "output_type": "execute_result"
    },
    {
     "data": {
      "image/png": "[encoded data removed]",
      "text/plain": [
       "<Figure size 640x480 with 1 Axes>"
      ]
     },
     "metadata": {},
     "output_type": "display_data"
    }
   ],
   "source": [
    "heat_map = superimpose_anomaly_map(anomaly_map=anomaly_map, image=image, normalize=True)\n",
    "plt.imshow(heat_map)"
   ]
  },
  {
   "cell_type": "markdown",
   "metadata": {
    "pycharm": {
     "name": "#%% md\n"
    }
   },
   "source": [
    "`predictions` also contains prediction scores and labels."
   ]
  },
  {
   "cell_type": "code",
   "execution_count": 23,
   "metadata": {
    "execution": {
     "iopub.execute_input": "2023-02-06T13:39:02.848684Z",
     "iopub.status.busy": "2023-02-06T13:39:02.848249Z",
     "iopub.status.idle": "2023-02-06T13:39:02.856552Z",
     "shell.execute_reply": "2023-02-06T13:39:02.855324Z"
    },
    "pycharm": {
     "name": "#%%\n"
    }
   },
   "outputs": [
    {
     "name": "stdout",
     "output_type": "stream",
     "text": [
      "tensor(-0.0399) tensor(True)\n"
     ]
    }
   ],
   "source": [
    "pred_score = predictions[\"pred_scores\"][0]\n",
    "pred_labels = predictions[\"pred_labels\"][0]\n",
    "print(pred_score, pred_labels)"
   ]
  },
  {
   "cell_type": "markdown",
   "metadata": {
    "pycharm": {
     "name": "#%% md\n"
    }
   },
   "source": [
    "The last part of the predictions is the mask that is predicted by the model. This is a boolean mask containing True/False for the abnormal/normal pixels, respectively."
   ]
  },
  {
   "cell_type": "code",
   "execution_count": 24,
   "metadata": {
    "execution": {
     "iopub.execute_input": "2023-02-06T13:39:02.861279Z",
     "iopub.status.busy": "2023-02-06T13:39:02.860530Z",
     "iopub.status.idle": "2023-02-06T13:39:03.045370Z",
     "shell.execute_reply": "2023-02-06T13:39:03.044389Z"
    },
    "pycharm": {
     "name": "#%%\n"
    }
   },
   "outputs": [
    {
     "data": {
      "text/plain": [
       "<matplotlib.image.AxesImage at 0x7f08d86b9160>"
      ]
     },
     "execution_count": 24,
     "metadata": {},
     "output_type": "execute_result"
    },
    {
     "data": {
      "image/png": "[encoded data removed]",
      "text/plain": [
       "<Figure size 640x480 with 1 Axes>"
      ]
     },
     "metadata": {},
     "output_type": "display_data"
    }
   ],
   "source": [
    "pred_masks = predictions[\"pred_masks\"][0].squeeze().cpu().numpy()\n",
    "plt.imshow(pred_masks)"
   ]
  },
  {
   "cell_type": "markdown",
   "metadata": {
    "pycharm": {
     "name": "#%% md\n"
    }
   },
   "source": [
    "That wraps it! In this notebook, we show how we could train, test and finally infer a FastFlow model using Anomalib API."
   ]
  }
 ],
 "metadata": {
  "kernelspec": {
   "display_name": "anomalib",
   "language": "python",
   "name": "python3"
  },
  "language_info": {
   "codemirror_mode": {
    "name": "ipython",
    "version": 3
   },
   "file_extension": ".py",
   "mimetype": "text/x-python",
   "name": "python",
   "nbconvert_exporter": "python",
   "pygments_lexer": "ipython3",
   "version": "3.8.13"
  },
  "vscode": {
   "interpreter": {
    "hash": "f26beec5b578f06009232863ae217b956681fd13da2e828fa5a0ecf8cf2ccd29"
   }
  }
 },
 "nbformat": 4,
 "nbformat_minor": 2
}
